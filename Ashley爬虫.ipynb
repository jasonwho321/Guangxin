{
 "cells": [
  {
   "cell_type": "code",
   "execution_count": null,
   "metadata": {
    "collapsed": true
   },
   "outputs": [],
   "source": [
    "import random\n",
    "import pandas as pd\n",
    "import requests\n",
    "from bs4 import BeautifulSoup\n",
    "# 导库\n",
    "\n",
    "session = requests.session()\n",
    "# 建请求对话\n",
    "req_header = {\n",
    "    'User-Agent':'Mozilla/5.0 (X11; Linux x86_64) AppleWebKit/537.36 (KHTML, like Gecko) Chrome/67.0.3396.99 Safari/537.36',\n",
    "}\n",
    "# 请求头\n",
    "user_agent_list = ['Mozilla/5.0 (X11; Linux x86_64) AppleWebKit/537.36 (KHTML, like Gecko) Chrome/67.0.3396.99 Safari/537.36',\n",
    "                    \"Mozilla/5.0 (Windows NT 10.0; WOW64) AppleWebKit/537.36 (KHTML, like Gecko) Chrome/67.0.3396.99 Safari/537.36\",\n",
    "                    \"Mozilla/5.0 (Windows NT 10.0; WOW64) AppleWebKit/537.36 (KHTML, like Gecko) Chrome/64.0.3282.186 Safari/537.36\",\n",
    "                    \"Mozilla/5.0 (X11; Linux x86_64) AppleWebKit/537.36 (KHTML, like Gecko) Chrome/62.0.3202.62 Safari/537.36\",\n",
    "                    \"Mozilla/5.0 (Windows NT 6.1; WOW64) AppleWebKit/537.36 (KHTML, like Gecko) Chrome/45.0.2454.101 Safari/537.36\",\n",
    "                    \"Mozilla/5.0 (Macintosh; U; PPC Mac OS X 10.5; en-US; rv:1.9.2.15) Gecko/20110303 Firefox/3.6.15\",\n",
    "                    ]\n",
    "# 浏览器模拟组，随机选取\n",
    "link_list = []\n",
    "# 建好空白网址list，用来写入网址\n",
    "for p in range(5):\n",
    "# 网页循环\n",
    "    req_header['User-Agent'] = random.choice(user_agent_list)\n",
    "    print('正在循环第'+str(p+1)+'页')\n",
    "    url = 'https://www.ashleyfurniture.com/c/furniture/sets/dining-room-sets/?start='+str(p*80)+'&sz=80'\n",
    "    response = session.get(url,headers=req_header)\n",
    "    # 获取内容\n",
    "    response.encoding = 'gbk'\n",
    "    soup = BeautifulSoup(response.text)\n",
    "    # 解析\n",
    "    tl = soup.find_all(class_ = 'thumb-link')\n",
    "    # 查找\n",
    "    for t in range(len(tl)):\n",
    "\n",
    "        link = tl[t]['href']\n",
    "        link_list.append([link])\n",
    "        # 记录\n",
    "df = pd.DataFrame(link_list,columns=['网址'])\n",
    "df.to_csv(r'E:\\OneDrive\\广新\\link.csv')\n",
    "# 写入网址，并保存，使用前记得修改"
   ]
  },
  {
   "cell_type": "markdown",
   "source": [
    "按网址循环，搜索信息"
   ],
   "metadata": {
    "collapsed": false,
    "pycharm": {
     "name": "#%% md\n"
    }
   }
  },
  {
   "cell_type": "code",
   "execution_count": null,
   "outputs": [],
   "source": [
    "name_list = []\n",
    "productID_list = []\n",
    "price_standard_list = []\n",
    "sale_price_list = []\n",
    "TTavgRate_list = []\n",
    "TTreviewCount_list = []\n",
    "for i,r in df.iterrows():\n",
    "    print(r['网址'])\n",
    "    req_header['User-Agent'] = random.choice(user_agent_list)\n",
    "    url = r['网址']\n",
    "    response = session.get(url,headers=req_header)\n",
    "    response.encoding = 'gbk'\n",
    "    soup = BeautifulSoup(response.text)\n",
    "    con = soup.find(id='product-content')\n",
    "    # 解析信息\n",
    "    name = con.find(itemprop='name').text\n",
    "    productID = con.find(itemprop='productID').text\n",
    "    try:\n",
    "        sale_price = con.find(class_=\"sales-price\").text\n",
    "    except:\n",
    "        sale_price = con.find(class_=\"sale-price\").text\n",
    "    try:\n",
    "        price_standard = con.find(class_=\"price-standard\").text\n",
    "    except:\n",
    "        price_standard = sale_price\n",
    "    # 评论链接\n",
    "    url1 = 'https://www.ashleyfurniture.com/on/demandware.store/Sites-Ashley-US-Site/default/Product-Review?showReviews=true&pid='+productID\n",
    "    response1 = session.get(url1,headers=req_header)\n",
    "    response1.encoding = 'gbk'\n",
    "    soup1 = BeautifulSoup(response1.text)\n",
    "    try:\n",
    "        TTavgRate = soup1.find(class_='TTavgRate').text\n",
    "        TTreviewCount = soup1.find(class_='TTreviewCount').text\n",
    "    except:\n",
    "        TTavgRate=0\n",
    "        TTreviewCount=0\n",
    "    # 写入列表\n",
    "    name_list.append(name)\n",
    "    productID_list.append(productID)\n",
    "    price_standard_list.append(price_standard)\n",
    "    sale_price_list.append(sale_price)\n",
    "    TTavgRate_list.append(TTavgRate)\n",
    "    TTreviewCount_list.append(TTreviewCount)"
   ],
   "metadata": {
    "collapsed": false,
    "pycharm": {
     "name": "#%%\n"
    }
   }
  },
  {
   "cell_type": "markdown",
   "source": [
    "写入信息，并保存，使用前修改地址"
   ],
   "metadata": {
    "collapsed": false,
    "pycharm": {
     "name": "#%% md\n"
    }
   }
  },
  {
   "cell_type": "code",
   "execution_count": null,
   "outputs": [],
   "source": [
    "df[\"name\"]=name_list\n",
    "df[\"productID\"]=productID_list\n",
    "df[\"price_standard\"]=price_standard_list\n",
    "df[\"sale_price\"] = sale_price_list\n",
    "df[\"avgRate\"] = TTavgRate_list\n",
    "df[\"reviewCount\"] = TTreviewCount_list\n",
    "df.to_csv(r'E:\\OneDrive\\广新\\Poundex\\1.csv')\n"
   ],
   "metadata": {
    "collapsed": false,
    "pycharm": {
     "name": "#%%\n"
    }
   }
  }
 ],
 "metadata": {
  "kernelspec": {
   "display_name": "Python 3",
   "language": "python",
   "name": "python3"
  },
  "language_info": {
   "codemirror_mode": {
    "name": "ipython",
    "version": 2
   },
   "file_extension": ".py",
   "mimetype": "text/x-python",
   "name": "python",
   "nbconvert_exporter": "python",
   "pygments_lexer": "ipython2",
   "version": "2.7.6"
  }
 },
 "nbformat": 4,
 "nbformat_minor": 0
}