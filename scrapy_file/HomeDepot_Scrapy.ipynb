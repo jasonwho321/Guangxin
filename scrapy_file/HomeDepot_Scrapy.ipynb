{
 "cells": [
  {
   "cell_type": "code",
   "execution_count": 1,
   "metadata": {
    "collapsed": true
   },
   "outputs": [],
   "source": [
    "import random\n",
    "import pandas as pd\n",
    "import requests\n",
    "from bs4 import BeautifulSoup\n",
    "# 导库\n",
    "\n",
    "session = requests.session()\n",
    "# 建请求对话\n",
    "\n",
    "# 请求头\n",
    "user_agent_list = ['Mozilla/5.0 (X11; Linux x86_64) AppleWebKit/537.36 (KHTML, like Gecko) Chrome/67.0.3396.99 Safari/537.36',\n",
    "                    \"Mozilla/5.0 (Windows NT 10.0; WOW64) AppleWebKit/537.36 (KHTML, like Gecko) Chrome/67.0.3396.99 Safari/537.36\",\n",
    "                    \"Mozilla/5.0 (Windows NT 10.0; WOW64) AppleWebKit/537.36 (KHTML, like Gecko) Chrome/64.0.3282.186 Safari/537.36\",\n",
    "                    \"Mozilla/5.0 (X11; Linux x86_64) AppleWebKit/537.36 (KHTML, like Gecko) Chrome/62.0.3202.62 Safari/537.36\",\n",
    "                    \"Mozilla/5.0 (Windows NT 6.1; WOW64) AppleWebKit/537.36 (KHTML, like Gecko) Chrome/45.0.2454.101 Safari/537.36\",\n",
    "                    \"Mozilla/5.0 (Macintosh; U; PPC Mac OS X 10.5; en-US; rv:1.9.2.15) Gecko/20110303 Firefox/3.6.15\",\n",
    "                    ]\n"
   ]
  },
  {
   "cell_type": "code",
   "execution_count": 5,
   "outputs": [],
   "source": [
    "payload= '{\"operationName\":\"productClientOnlyProduct\",\"variables\":{\"skipSpecificationGroup\":false,\"skipSubscribeAndSave\":false,\"skipKPF\":false,\"itemId\":\"315966218\",\"storeId\":\"1710\",\"zipCode\":\"96913\"},\"query\":\"query productClientOnlyProduct($itemId: String!, $dataSource: String, $loyaltyMembershipInput: LoyaltyMembershipInput, $storeId: String, $skipSpecificationGroup: Boolean = false, $zipCode: String, $skipSubscribeAndSave: Boolean = false, $skipKPF: Boolean = false) {\\n  product(itemId: $itemId, dataSource: $dataSource, loyaltyMembershipInput: $loyaltyMembershipInput) {\\n    itemId\\n    dataSources\\n    identifiers {\\n      canonicalUrl\\n      brandName\\n      itemId\\n      modelNumber\\n      productLabel\\n      storeSkuNumber\\n      upcGtin13\\n      specialOrderSku\\n      toolRentalSkuNumber\\n      rentalCategory\\n      rentalSubCategory\\n      upc\\n      productType\\n      isSuperSku\\n      parentId\\n      roomVOEnabled\\n      sampleId\\n      __typename\\n    }\\n    availabilityType {\\n      discontinued\\n      status\\n      type\\n      buyable\\n      __typename\\n    }\\n    details {\\n      description\\n      collection {\\n        url\\n        collectionId\\n        __typename\\n      }\\n      highlights\\n      descriptiveAttributes {\\n        name\\n        value\\n        bulleted\\n        sequence\\n        __typename\\n      }\\n      infoAndGuides {\\n        name\\n        url\\n        __typename\\n      }\\n      installation {\\n        leadGenUrl\\n        __typename\\n      }\\n      __typename\\n    }\\n    media {\\n      images {\\n        url\\n        type\\n        subType\\n        sizes\\n        __typename\\n      }\\n      video {\\n        shortDescription\\n        thumbnail\\n        url\\n        videoStill\\n        link {\\n          text\\n          url\\n          __typename\\n        }\\n        title\\n        type\\n        videoId\\n        longDescription\\n        __typename\\n      }\\n      threeSixty {\\n        id\\n        url\\n        __typename\\n      }\\n      augmentedRealityLink {\\n        usdz\\n        image\\n        __typename\\n      }\\n      richContent {\\n        content\\n        __typename\\n      }\\n      __typename\\n    }\\n    pricing(storeId: $storeId) {\\n      promotion {\\n        dates {\\n          end\\n          start\\n          __typename\\n        }\\n        type\\n        description {\\n          shortDesc\\n          longDesc\\n          __typename\\n        }\\n        dollarOff\\n        percentageOff\\n        savingsCenter\\n        savingsCenterPromos\\n        specialBuySavings\\n        specialBuyDollarOff\\n        specialBuyPercentageOff\\n        experienceTag\\n        subExperienceTag\\n        anchorItemList\\n        itemList\\n        reward {\\n          tiers {\\n            minPurchaseAmount\\n            minPurchaseQuantity\\n            rewardPercent\\n            rewardAmountPerOrder\\n            rewardAmountPerItem\\n            rewardFixedPrice\\n            __typename\\n          }\\n          __typename\\n        }\\n        nvalues\\n        __typename\\n      }\\n      value\\n      alternatePriceDisplay\\n      alternate {\\n        bulk {\\n          pricePerUnit\\n          thresholdQuantity\\n          value\\n          __typename\\n        }\\n        unit {\\n          caseUnitOfMeasure\\n          unitsOriginalPrice\\n          unitsPerCase\\n          value\\n          __typename\\n        }\\n        __typename\\n      }\\n      original\\n      mapAboveOriginalPrice\\n      message\\n      preferredPriceFlag\\n      specialBuy\\n      unitOfMeasure\\n      __typename\\n    }\\n    reviews {\\n      ratingsReviews {\\n        averageRating\\n        totalReviews\\n        __typename\\n      }\\n      __typename\\n    }\\n    seo {\\n      seoKeywords\\n      seoDescription\\n      __typename\\n    }\\n    specificationGroup @skip(if: $skipSpecificationGroup) {\\n      specifications {\\n        specName\\n        specValue\\n        __typename\\n      }\\n      specTitle\\n      __typename\\n    }\\n    taxonomy {\\n      breadCrumbs {\\n        label\\n        url\\n        browseUrl\\n        creativeIconUrl\\n        deselectUrl\\n        dimensionName\\n        refinementKey\\n        __typename\\n      }\\n      brandLinkUrl\\n      __typename\\n    }\\n    favoriteDetail {\\n      count\\n      __typename\\n    }\\n    info {\\n      hidePrice\\n      ecoRebate\\n      quantityLimit\\n      sskMin\\n      sskMax\\n      unitOfMeasureCoverage\\n      wasMaxPriceRange\\n      wasMinPriceRange\\n      fiscalYear\\n      productDepartment\\n      classNumber\\n      paintBrand\\n      dotComColorEligible\\n      label\\n      prop65Warning\\n      returnable\\n      globalCustomConfigurator {\\n        customButtonText\\n        customDescription\\n        customExperience\\n        customExperienceUrl\\n        customTitle\\n        __typename\\n      }\\n      recommendationFlags {\\n        reqItems\\n        visualNavigation\\n        __typename\\n      }\\n      replacementOMSID\\n      hasSubscription\\n      minimumOrderQuantity\\n      projectCalculatorEligible\\n      subClassNumber\\n      calculatorType\\n      isLiveGoodsProduct\\n      protectionPlanSku\\n      hasServiceAddOns\\n      __typename\\n    }\\n    fulfillment(storeId: $storeId, zipCode: $zipCode) {\\n      backordered\\n      fulfillmentOptions {\\n        type\\n        services {\\n          type\\n          locations {\\n            isAnchor\\n            inventory {\\n              isLimitedQuantity\\n              isOutOfStock\\n              isInStock\\n              quantity\\n              isUnavailable\\n              maxAllowedBopisQty\\n              minAllowedBopisQty\\n              __typename\\n            }\\n            type\\n            storeName\\n            locationId\\n            curbsidePickupFlag\\n            isBuyInStoreCheckNearBy\\n            distance\\n            state\\n            storePhone\\n            __typename\\n          }\\n          deliveryTimeline\\n          deliveryDates {\\n            startDate\\n            endDate\\n            __typename\\n          }\\n          deliveryCharge\\n          dynamicEta {\\n            hours\\n            minutes\\n            __typename\\n          }\\n          hasFreeShipping\\n          freeDeliveryThreshold\\n          totalCharge\\n          __typename\\n        }\\n        fulfillable\\n        __typename\\n      }\\n      anchorStoreStatus\\n      anchorStoreStatusType\\n      backorderedShipDate\\n      bossExcludedShipStates\\n      sthExcludedShipState\\n      bossExcludedShipState\\n      excludedShipStates\\n      seasonStatusEligible\\n      onlineStoreStatus\\n      onlineStoreStatusType\\n      inStoreAssemblyEligible\\n      __typename\\n    }\\n    sizeAndFitDetail {\\n      attributeGroups {\\n        attributes {\\n          attributeName\\n          dimensions\\n          __typename\\n        }\\n        dimensionLabel\\n        productType\\n        __typename\\n      }\\n      __typename\\n    }\\n    subscription @skip(if: $skipSubscribeAndSave) {\\n      defaultfrequency\\n      discountPercentage\\n      subscriptionEnabled\\n      __typename\\n    }\\n    badges(storeId: $storeId) {\\n      label\\n      color\\n      creativeImageUrl\\n      endDate\\n      message\\n      name\\n      timerDuration\\n      timer {\\n        timeBombThreshold\\n        daysLeftThreshold\\n        dateDisplayThreshold\\n        message\\n        __typename\\n      }\\n      __typename\\n    }\\n    keyProductFeatures @skip(if: $skipKPF) {\\n      keyProductFeaturesItems {\\n        features {\\n          name\\n          refinementId\\n          refinementUrl\\n          value\\n          __typename\\n        }\\n        __typename\\n      }\\n      __typename\\n    }\\n    seoDescription\\n    installServices {\\n      scheduleAMeasure\\n      __typename\\n    }\\n    dataSource\\n    __typename\\n  }\\n}\\n\"}'"
   ],
   "metadata": {
    "collapsed": false
   }
  },
  {
   "cell_type": "code",
   "execution_count": 9,
   "outputs": [],
   "source": [
    "cookie = 'THD_PERSIST=; THD_CACHE_NAV_PERSIST=; thda.u=d392b489-c59b-4eea-c2ab-09c54da1577f; _pxvid=34fce803-7914-11ec-bfeb-71687746656b; _px_f394gi7Fvmc43dfg_user_id=MzUzYjUzNzAtNzkxNC0xMWVjLTkxNjAtMDEyNDAxZjA1NDNi; ajs_user_id=null; ajs_group_id=null; ajs_anonymous_id=\"b5c3b571-9bd5-4561-a250-948f87f62402\"; _meta_bing_beaconFired=true; _meta_facebookPixel_beaconFired=true; _meta_metarouter_timezone_offset=-480; _meta_neustar_mcvisid=17087557493330346111461182776715250707; _meta_googleFloodlight_beaconFired=true; _gcl_au=1.1.269151899.1642588825; _meta_amobee_uid=2618271016735112706; _meta_xandr_uid=7697000641327932864; _meta_xandr_uid2=uuid2=7697000641327932864; _ga=GA1.2.1536024892.1642588826; aam_mobile=seg=1131078; aam_uuid=17164043407204864061450287817287246438; _meta_mediaMath_mm_id=f91861e7-c30b-4801-8922-190a3a609375; _meta_mediaMath_cid=f91861e7-c30b-4801-8922-190a3a609375; _meta_acuityAds_auid=640319901485; _meta_acuityAds_cauid=auid=640319901485; trx=4797934519760740573; _meta_revjet_revjet_vid=4797934519760740573; QuantumMetricUserID=cbc3f84e0db4352fa52a2d1cc787c443; LPVID=VkNTBhNTU5MmQ4NmI4MTMy; _meta_adobe_aam_uuid=17164043407204864061450287817287246438; _meta_google_ga=1536024892.1642588826; _meta_google_cookie_ga=GA1.2.1536024892.1642588826; _meta_google_cookie_gid=GA1.2.2110377199.1642588826; _meta_neustar_aam=17164043407204864061450287817287246438; DELIVERY_ZIP=14150; DELIVERY_ZIP_TYPE=USER; _meta_mediaMath_iframe_counter=5; AKA_A2=A; HD_DC=origin; _abck=B554E07E6B451823906D3E51D725BF4E~0~YAAQtto4fbhV1YB+AQAA0S05nwexrQ/Xpr5ougAX9m/GhUOpAjDaYWKlItgoLU6jFhWbF+4MtEKRTtiLWrO3wfw9jj4nYdoDyGkN2vpuP6Vi3oc+4h3bsXFeo5P7nTSWkYL8n4wqM4lrNuKxIsAsRAqiPs8GFm8Vr+XJlpfvfFeZhPXwSTWEy83NZP38kRs+sJDZGvlweos4rObMzRNNiWx6Iczqd1V35NCY8vaz97esXvDjZ+gfT1moRJeEk1DIJF0zoCfO2WxogoHGhb9m2Q3oz2Y9s64CLSfygEqnWmx5KTJ86Ogf+V0kcoFdjSzk5wLfZhKKlpiMzg7Eg/xIanb9xfAXpTV/Cr2Zb0tGXB60Q6Gjo5q4kPzasdGwk4L01dWE9Rk5xirpjHWLTKYn4ktpZCr+aJ4j15xu~-1~-1~-1; bm_sz=358297FF8DD0F7E1579C0CF3E3FBC7F6~YAAQtto4fbpV1YB+AQAA0S05nw78Ja5EBLP+0/g2WkSPls3V97+su2erU7pzU621dHi6OUMtto1vxpn6a82ooliwV0oPwCdaX16BxN9c/jM/Yt/D+xKwFebYN6xMMs68/3p/nUMi//nIAxX0BC+UCeHRwwfDuPQ/rYSsUGSCzCnqUMO9UrXuzsC+2TAzSVC3PKs4W6yqLtA9fbbHEOFJ1RKTb2Xz2+h6QL0ls628KHtyABpcZij5JkPb8l6K8SRUK9juDQqYJ3awl8PfVaVr5V4ca/CFCbVLgWA3T/a7onMGDiu+M58=~3552311~3159352; THD_NR=1; at_check=true; AMCV_F6421253512D2C100A490D45@AdobeOrg=1585540135|MCIDTS|19021|MCMID|17087557493330346111461182776715250707|MCAAMLH-1643953632|11|MCAAMB-1643953632|RKhpRz8krg2tLO6pguXWp5olkAcUniQYPHaMWWgdJ3xzPWQmdj0y|MCOPTOUT-1643356032s|NONE|MCCIDH|-2127700447|vVersion|4.4.0; AMCVS_F6421253512D2C100A490D45@AdobeOrg=1; THD_CACHE_NAV_SESSION=; THD_SESSION=; x-ttsearch=ranking_model2; THD_LOCALIZER={\"WORKFLOW\":\"GEO_LOCATION\",\"THD_FORCE_LOC\":\"1\",\"THD_INTERNAL\":\"0\",\"THD_LOCSTORE\":\"1710+Guam - Tamuning - Tamuning, GU+\",\"THD_STRFINDERZIP\":\"96913\",\"THD_STORE_HOURS\":\"1;7:00-20:00;2;6:00-22:00;3;6:00-22:00;4;6:00-22:00;5;6:00-22:00;6;6:00-22:00;7;6:00-22:00\",\"THD_STORE_HOURS_EXPIRY\":1643352434}; thda.s=5bc3222f-3b69-eb7f-160b-76451edba41a; ak_bmsc=42D4B48D8746FE8119AE450961B19E5B~000000000000000000000000000000~YAAQtto4fexV1YB+AQAALjU5nw6TNBtLiPQVizbTL0CcAbKDk29g9wMCUQ4lcxibgCdQWoo9vHlSaFhqY+JrIOfcw5yXn4wKo0BTNHL648f3Zf1EnrmkcIlRKH0erjLPg736+uWGXxeHg/UvyX3jPP+LpIiygTKgNgV68MpKyEM/SayZN+SAK7BK6mc3QH3zdpvyPbiC+wvg+ULGpobreIu6CIm/fBZIrLXkMscw4tE3E+F9yUKP5O+shYYtR3V3IqehNn5Czx9JXFsfxDwkG7sl4IHpyYMR3/Njp/kGWSBenMiS90DJjvfo5UG0dG3PlT+rrD4BkIbdw2CLxDXC4wZMDqHnRNJeGYUa7u/jRUUElQxqQDwIWt9EbgcJtSQYNgFcMCopgt/PotiKY0Vv2PJYkXr65HjmACWyqOGKlquPvd7lEzaGaYo4Z6vK1q/NFaeLkepWDG3egAWIMoPyL+11qIe5az9JeYx4myqqRqk/hGVI5gVbqCX7t2c=; _meta_movableInk_mi_u=b5c3b571-9bd5-4561-a250-948f87f62402; thda.m=17087557493330346111461182776715250707; _gid=GA1.2.841486709.1643348836; QuantumMetricSessionID=baf728985b63cde1cfbf949f5ad3db29; LPSID-31564604=hdRumfKoRIy3QXIzfdAIXg; s_sq=[[B]]; _px=Z/djvppAycI8u8xPsMDyFLiFS0DLuAJ7p6ffQDGV3QvsIdaH8EQRppgUJqMRDYa+Qj/BIJNW9NVk7EzMZbdh9w==:1000:yQ8rRU1FryI/L30sHulwWIPlfJDah6nTIHO9BBevTLU2u/c28siiC5ZQFjRPZoAN5fJm0peC+9o5ke5HwXy2sMKWCSq8ITB6N/T9MLscLXIPq5bIERWhDu3aCd+f1Kh2X5N4N5IIBaw4dkeeVHjncqebPfWdeQg22Nw858+woc92QTkbfCIR2fE3gKa0xYUVx7e1u17+CMcXNiVQL+ZrRdplmn2o0LRTPnkKgzXBGdeP+QQOSHB0CMnPGPRGyU8WXJu9OHP4D5BIhjvOn/Kd4g==; ads=8e50d441488ae2856b2b30690a221a2f; forterToken=1bf79a5d6ec64255a4dbd1ff267c565a_1643349630019__UDF43_13ck; s_pers= productnum=1|1645181205157; s_nr365=1643349630469-Repeat|1674885630469; s_dslv=1643349630475|1737957630475;; s_sess= s_pv_pName=productdetails%3E315966299; s_pv_pType=pip; s_pv_cmpgn=; s_pv_pVer=hd%20home%20v1; stsh=; s_cc=true;; QSI_HistorySession=https://www.homedepot.com/p/StyleWell-Beckridge-Walnut-Wood-Upholstered-Bar-Stool-with-Tufted-Back-Light-Blue-Seat-Set-of-2-18-11-in-W-x-46-06-in-H-Lunon-HB-WA/309041938?NCNI-5~1643349497425|https://www.homedepot.com/p/StyleWell-Blairmore-Charleston-Blue-Upholstered-Accent-Chair-153/315966299~1643349630771; akaau=1643350220~id=f3443a5d644869d50cf8bde19546c29d; RT=\"z=1&dm=www.homedepot.com&si=daa8ec86-0a57-466b-95ed-feb9be731beb&ss=kyxzgpfw&sl=4&tt=2lv&obo=3&rl=1\"; IN_STORE_API_SESSION=TRUE; _pxde=a8c808d37b1201701b30587001e167d0c6310cd2341cda9a0e306c8f2e5906e6:eyJ0aW1lc3RhbXAiOjE2NDMzNDk5MjA3NjB9; mbox=PC#32774f74c51342f5948500b2a0bca13e.32_0#1706594722|session#a4b9d7692fc843dc9bcba201f0e05d0e#1643350693'"
   ],
   "metadata": {
    "collapsed": false
   }
  },
  {
   "cell_type": "code",
   "execution_count": 1,
   "outputs": [],
   "source": [
    "referer = 'https://www.homedepot.com/p/Home-Decorators-Collection-Greenlee-Charcoal-Upholstered-Accent-Chair-172/315966218'"
   ],
   "metadata": {
    "collapsed": false,
    "ExecuteTime": {
     "end_time": "2023-09-05T07:17:45.282108Z",
     "start_time": "2023-09-05T07:17:45.275364Z"
    }
   }
  },
  {
   "cell_type": "code",
   "execution_count": null,
   "outputs": [],
   "source": [
    "import json\n",
    "# 浏览器模拟组，随机选取\n",
    "link_list = []\n",
    "req_header = {\n",
    "    'User-Agent':'Mozilla/5.0 (X11; Linux x86_64) AppleWebKit/537.36 (KHTML, like Gecko) Chrome/67.0.3396.99 Safari/537.36',\n",
    "}\n",
    "# 建好空白网址list，用来写入网址\n",
    "# for p in range(5):\n",
    "# 网页循环\n",
    "req_header['User-Agent'] = random.choice(user_agent_list)\n",
    "req_header['content-type'] = 'application/json'\n",
    "req_header['referer'] = referer\n",
    "req_header['origin'] = 'https://www.homedepot.com'\n",
    "# print('正在循环第'+str(p+1)+'页')\n",
    "url = 'https://www.homedepot.com/federation-gateway/graphql?opname=productClientOnlyProduct'\n",
    "response = session.post(url,headers=req_header,data = json.dumps(payload))\n",
    "# 获取内容\n",
    "response.encoding = 'gbk'\n",
    "soup = BeautifulSoup(response.text)\n",
    "print(soup)"
   ],
   "metadata": {
    "collapsed": false,
    "pycharm": {
     "is_executing": true
    }
   }
  },
  {
   "cell_type": "code",
   "execution_count": null,
   "outputs": [],
   "source": [
    "# 解析\n",
    "tl = soup.find_all(class_ = 'thumb-link')\n",
    "# 查找\n",
    "for t in range(len(tl)):\n",
    "\n",
    "    link = tl[t]['href']\n",
    "    link_list.append([link])\n",
    "    # 记录\n",
    "df = pd.DataFrame(link_list,columns=['网址'])\n",
    "df.to_csv(r'E:\\OneDrive\\广新\\link.csv')\n",
    "# 写入网址，并保存，使用前记得修改"
   ],
   "metadata": {
    "collapsed": false
   }
  },
  {
   "cell_type": "markdown",
   "source": [
    "按网址循环，搜索信息"
   ],
   "metadata": {
    "collapsed": false
   }
  },
  {
   "cell_type": "code",
   "execution_count": null,
   "outputs": [],
   "source": [
    "name_list = []\n",
    "productID_list = []\n",
    "price_standard_list = []\n",
    "sale_price_list = []\n",
    "TTavgRate_list = []\n",
    "TTreviewCount_list = []\n",
    "for i,r in df.iterrows():\n",
    "    print(r['网址'])\n",
    "    req_header['User-Agent'] = random.choice(user_agent_list)\n",
    "    url = r['网址']\n",
    "    response = session.get(url,headers=req_header)\n",
    "    response.encoding = 'gbk'\n",
    "    soup = BeautifulSoup(response.text)\n",
    "    con = soup.find(id='product-content')\n",
    "    # 解析信息\n",
    "    name = con.find(itemprop='name').text\n",
    "    productID = con.find(itemprop='productID').text\n",
    "    try:\n",
    "        sale_price = con.find(class_=\"sales-price\").text\n",
    "    except:\n",
    "        sale_price = con.find(class_=\"sale-price\").text\n",
    "    try:\n",
    "        price_standard = con.find(class_=\"price-standard\").text\n",
    "    except:\n",
    "        price_standard = sale_price\n",
    "    # 评论链接\n",
    "    url1 = 'https://www.ashleyfurniture.com/on/demandware.store/Sites-Ashley-US-Site/default/Product-Review?showReviews=true&pid='+productID\n",
    "    response1 = session.get(url1,headers=req_header)\n",
    "    response1.encoding = 'gbk'\n",
    "    soup1 = BeautifulSoup(response1.text)\n",
    "    try:\n",
    "        TTavgRate = soup1.find(class_='TTavgRate').text\n",
    "        TTreviewCount = soup1.find(class_='TTreviewCount').text\n",
    "    except:\n",
    "        TTavgRate=0\n",
    "        TTreviewCount=0\n",
    "    # 写入列表\n",
    "    name_list.append(name)\n",
    "    productID_list.append(productID)\n",
    "    price_standard_list.append(price_standard)\n",
    "    sale_price_list.append(sale_price)\n",
    "    TTavgRate_list.append(TTavgRate)\n",
    "    TTreviewCount_list.append(TTreviewCount)"
   ],
   "metadata": {
    "collapsed": false
   }
  },
  {
   "cell_type": "markdown",
   "source": [
    "写入信息，并保存，使用前修改地址"
   ],
   "metadata": {
    "collapsed": false
   }
  },
  {
   "cell_type": "code",
   "execution_count": null,
   "outputs": [],
   "source": [
    "df[\"name\"]=name_list\n",
    "df[\"productID\"]=productID_list\n",
    "df[\"price_standard\"]=price_standard_list\n",
    "df[\"sale_price\"] = sale_price_list\n",
    "df[\"avgRate\"] = TTavgRate_list\n",
    "df[\"reviewCount\"] = TTreviewCount_list\n",
    "df.to_csv(r'E:\\OneDrive\\广新\\Poundex\\1.csv')\n"
   ],
   "metadata": {
    "collapsed": false
   }
  },
  {
   "cell_type": "code",
   "execution_count": 7,
   "outputs": [],
   "source": [
    "cookie_str = \"HD_DC=origin; bm_sz=C6EB345D4DA08E96F25DB941EE57AF93~YAAQl89YaOHQjE6KAQAAogQyZBW70JISV/qXBseP1pnC8HKc7NX0cWL+bslAF5R9HLlu33SRrH8VIm/2MtPdNrkH/LuUhpQzfCimc2L2adPrWr1OM6JcG97VRJ7DD6t7lYoRZO4zcmemf21MAN4NnIF1KbXfxwsXdWRWPecWUj1MkkMpEq+xWudyT+zCIyzP6A/Mguk0G7lK+L3HDeWyK4Vq73zRcZYVW7ZfQwGci3PvKDhS6E0dxeZk7TIjidQOi9q1vvDZdBeOaIjVx2JYdp/L8JTTMPqaDaXISyW9nbD4W9LM+fo=~4405318~3487298; THD_NR=1; at_check=true; THD_PERSIST=; THD_SESSION=; THD_CACHE_NAV_SESSION=; THD_CACHE_NAV_PERSIST=; AMCVS_F6421253512D2C100A490D45%40AdobeOrg=1; ak_bmsc=953FCD8CB8AD6076087A5C9E822BE087~000000000000000000000000000000~YAAQl89YaFbTjE6KAQAA8BAyZBVbB9gMiKrleAYFVVNkiQcmDgzwW3cqfut1rq1jm5ZbTKTG8h+8ilJ+lzlKF90z99dNHnQR2LQIsK8oxez7kUpRgXmyf1V97l1XYsID0LQi1nLSMPCiLBUnWWcgUcS+VwhlhEWgJYsnYa8yJ9J2eZGQQg7q8oqhPBVZnUuoPeQCTOaclNsqiEXKOFDej7MdPgbMxR//2MuJoGIQ+AXol5ZcoiCt23ZgaTE5W9S4bYgZYIjOLCxBUo8AwI9WQwNwUpN9DvO/B5jaYVpsbrMJPXRW5f8eipqQPLA9IVsk9ZOxX3wc7JuuWFD+FOb1Y75UMYbT/K6+4QAcZU0Q6Td2VepIx2VMWXBj8aXjiEAWB7YrkRJSFnliL4QkcheRf6OO+MLpg/nDHH4MYoUliUUIjnJoZ1ZnXpyBOs74omkXhjcKlR06+nAM3kcuep3+CjtgMr7GITXcC+L8z7ACMQOoQ+BRgRACB8liv0IwrzQdjwE=; thda.s=036f2412-bb43-a74d-86fc-a43fb382ca20; thda.u=669ac2d0-72cd-e744-b958-6f5abbea29ce; DELIVERY_ZIP=91748; DELIVERY_ZIP_TYPE=DEFAULT; _px_f394gi7Fvmc43dfg_user_id=ZjgyMTE3ZjEtNGJiYi0xMWVlLWEwZTYtNTNlOTI3ZTg4Yjky; thda.m=72531294124161042793964335769363986904; AMCV_F6421253512D2C100A490D45%40AdobeOrg=1585540135%7CMCMID%7C72531294124161042793964335769363986904%7CMCAAMLH-1694502922%7C3%7CMCAAMB-1694502922%7C6G1ynYcLPuiQxYZrsz_pkqfLG9yMXBpb2zX5dvJdYQJzPXImdj0y%7CMCOPTOUT-1693905322s%7CNONE%7CMCCIDH%7C-800889138%7CvVersion%7C4.4.0; ajs_anonymous_id=330a76fc-b9b2-4a01-91c1-983248e2067b; _gcl_au=1.1.1401715421.1693898125; _ga=GA1.2.1504212304.1693898123; _gid=GA1.2.1220176012.1693898125; aam_uuid=72640491108892859223991168433443248045; QuantumMetricSessionID=9d1639ab342623c5ae3c0c20b9757093; QuantumMetricUserID=36bc2cc36ba21c7bdf5e36e5ef15424e; LPVID=BjMzRjNGMxMTFmNDE4OTQ1; LPSID-31564604=_AdUbyzfRGSKeBAEwmI_Bw; _ga_9H2R4ZXG4J=GS1.1.1693898124.1.1.1693898938.60.0.0; AKA_A2=A; THD_LOCALIZER=%7B%22WORKFLOW%22%3A%22LOC_HISTORY_BY_IP%22%2C%22THD_FORCE_LOC%22%3A%221%22%2C%22THD_INTERNAL%22%3A%220%22%2C%22THD_LOCSTORE%22%3A%22607%2BIndustry%20-%20City%20Of%20Industry%2C%20CA%2B%22%2C%22THD_STRFINDERZIP%22%3A%2291748%22%2C%22THD_STORE_HOURS%22%3A%221%3B7%3A00-20%3A00%3B2%3B6%3A00-22%3A00%3B3%3B6%3A00-22%3A00%3B4%3B6%3A00-22%3A00%3B5%3B6%3A00-22%3A00%3B6%3B6%3A00-22%3A00%3B7%3B6%3A00-22%3A00%22%2C%22THD_STORE_HOURS_EXPIRY%22%3A1693906078%7D; s_sq=%5B%5BB%5D%5D; s_pers=%20s_nr365%3D1693904679869-Repeat%7C1725440679869%3B%20s_dslv%3D1693904679895%7C1788512679895%3B; s_sess=%20s_pv_pName%3Dproductdetails%253E321181732%3B%20s_pv_pType%3Dpip%3B%20s_pv_cmpgn%3D%3B%20s_pv_pVer%3Dhd%2520home%2520v1%3B%20stsh%3D%3B%20s_cc%3Dtrue%3B; forterToken=fdf46c8da6c3443d83d7a5a2a71997af_1693904679710__UDF43_13ck; bm_sv=2A3313906CBB7FB7DF144CE8D8625485~YAAQGy0+F5YwWUyKAQAA7GuWZBV3CS27N1Iw0IHKObrpnsX3Ec4ApqGsgMDATctA24BNpZhPrULn2z15jGM7zqlnC24oP2sedsjbRSl7z8tU4p8rWNQOv/jMwLCsxsbvukR8J63XuTLAW32W/ieogDZjzsffNaIgCn2+r0qsmJsNWB1KBtwRo+QQCeEWlUG1wSHQxknV9sBd4U5QTWKj5CPK3+8tvQL6C9HSnQT3WofNiFIfPgQWU55dZgG80XwgQ+67CQ==~1; mbox=PC#a74e2329b9f84dea89decdc541ae4d5d.35_0#1757149480|session#e15664fe2397492cab2b832fc34c400c#1693906575; _abck=DBE7E9D86007FF00BF31E14F0F87FDE5~0~YAAQTP4ZuHYkEUGKAQAAsbuWZAqQWBNhg7uUQKkWIqNNahoIfj9PXKUzNxuYRdiszRzwOars/mU1rGb//AsqE0ad7Q5KhKXQKYUTxXvIKy/DgJUYlXJTIwJICB9Xils9Y43ibfQ5jH0JFJaSFujrr6KtOZF7mhosw2WFJHozhn5y9B+FymSUa45Px/JTuaaK3UHGvd+2QcVf+vMGivRlSGgGtEZzp8cRO2aObyyCyjkO430BI3Ayh12qNRiRulI6wrU/dWlogMcdbwUjNkZVuj0ogHl9N0Svxal+nUufZ4xbM4w13JIDfVDl9wq1wkt7mMsw13wHA/Twjv9XiAfXsiCxjoq8eVuVan/wthNrvWu4duT9/usZi13pTF2jSVkwZzREXORKJDzDRPtolYrCIbfU3LiBkDFFGErOGw==~-1~-1~-1\"\n",
    "\n",
    "cookie_dict = {k.strip(): v.strip() for k, sep, v in (item.partition('=') for item in cookie_str.split(';'))}\n"
   ],
   "metadata": {
    "collapsed": false,
    "ExecuteTime": {
     "end_time": "2023-09-05T09:32:57.725502Z",
     "start_time": "2023-09-05T09:32:57.723022Z"
    }
   }
  },
  {
   "cell_type": "code",
   "execution_count": 8,
   "outputs": [
    {
     "name": "stdout",
     "output_type": "stream",
     "text": [
      "{'HD_DC': 'origin', 'bm_sz': 'C6EB345D4DA08E96F25DB941EE57AF93~YAAQl89YaOHQjE6KAQAAogQyZBW70JISV/qXBseP1pnC8HKc7NX0cWL+bslAF5R9HLlu33SRrH8VIm/2MtPdNrkH/LuUhpQzfCimc2L2adPrWr1OM6JcG97VRJ7DD6t7lYoRZO4zcmemf21MAN4NnIF1KbXfxwsXdWRWPecWUj1MkkMpEq+xWudyT+zCIyzP6A/Mguk0G7lK+L3HDeWyK4Vq73zRcZYVW7ZfQwGci3PvKDhS6E0dxeZk7TIjidQOi9q1vvDZdBeOaIjVx2JYdp/L8JTTMPqaDaXISyW9nbD4W9LM+fo=~4405318~3487298', 'THD_NR': '1', 'at_check': 'true', 'THD_PERSIST': '', 'THD_SESSION': '', 'THD_CACHE_NAV_SESSION': '', 'THD_CACHE_NAV_PERSIST': '', 'AMCVS_F6421253512D2C100A490D45%40AdobeOrg': '1', 'ak_bmsc': '953FCD8CB8AD6076087A5C9E822BE087~000000000000000000000000000000~YAAQl89YaFbTjE6KAQAA8BAyZBVbB9gMiKrleAYFVVNkiQcmDgzwW3cqfut1rq1jm5ZbTKTG8h+8ilJ+lzlKF90z99dNHnQR2LQIsK8oxez7kUpRgXmyf1V97l1XYsID0LQi1nLSMPCiLBUnWWcgUcS+VwhlhEWgJYsnYa8yJ9J2eZGQQg7q8oqhPBVZnUuoPeQCTOaclNsqiEXKOFDej7MdPgbMxR//2MuJoGIQ+AXol5ZcoiCt23ZgaTE5W9S4bYgZYIjOLCxBUo8AwI9WQwNwUpN9DvO/B5jaYVpsbrMJPXRW5f8eipqQPLA9IVsk9ZOxX3wc7JuuWFD+FOb1Y75UMYbT/K6+4QAcZU0Q6Td2VepIx2VMWXBj8aXjiEAWB7YrkRJSFnliL4QkcheRf6OO+MLpg/nDHH4MYoUliUUIjnJoZ1ZnXpyBOs74omkXhjcKlR06+nAM3kcuep3+CjtgMr7GITXcC+L8z7ACMQOoQ+BRgRACB8liv0IwrzQdjwE=', 'thda.s': '036f2412-bb43-a74d-86fc-a43fb382ca20', 'thda.u': '669ac2d0-72cd-e744-b958-6f5abbea29ce', 'DELIVERY_ZIP': '91748', 'DELIVERY_ZIP_TYPE': 'DEFAULT', '_px_f394gi7Fvmc43dfg_user_id': 'ZjgyMTE3ZjEtNGJiYi0xMWVlLWEwZTYtNTNlOTI3ZTg4Yjky', 'thda.m': '72531294124161042793964335769363986904', 'AMCV_F6421253512D2C100A490D45%40AdobeOrg': '1585540135%7CMCMID%7C72531294124161042793964335769363986904%7CMCAAMLH-1694502922%7C3%7CMCAAMB-1694502922%7C6G1ynYcLPuiQxYZrsz_pkqfLG9yMXBpb2zX5dvJdYQJzPXImdj0y%7CMCOPTOUT-1693905322s%7CNONE%7CMCCIDH%7C-800889138%7CvVersion%7C4.4.0', 'ajs_anonymous_id': '330a76fc-b9b2-4a01-91c1-983248e2067b', '_gcl_au': '1.1.1401715421.1693898125', '_ga': 'GA1.2.1504212304.1693898123', '_gid': 'GA1.2.1220176012.1693898125', 'aam_uuid': '72640491108892859223991168433443248045', 'QuantumMetricSessionID': '9d1639ab342623c5ae3c0c20b9757093', 'QuantumMetricUserID': '36bc2cc36ba21c7bdf5e36e5ef15424e', 'LPVID': 'BjMzRjNGMxMTFmNDE4OTQ1', 'LPSID-31564604': '_AdUbyzfRGSKeBAEwmI_Bw', '_ga_9H2R4ZXG4J': 'GS1.1.1693898124.1.1.1693898938.60.0.0', 'AKA_A2': 'A', 'THD_LOCALIZER': '%7B%22WORKFLOW%22%3A%22LOC_HISTORY_BY_IP%22%2C%22THD_FORCE_LOC%22%3A%221%22%2C%22THD_INTERNAL%22%3A%220%22%2C%22THD_LOCSTORE%22%3A%22607%2BIndustry%20-%20City%20Of%20Industry%2C%20CA%2B%22%2C%22THD_STRFINDERZIP%22%3A%2291748%22%2C%22THD_STORE_HOURS%22%3A%221%3B7%3A00-20%3A00%3B2%3B6%3A00-22%3A00%3B3%3B6%3A00-22%3A00%3B4%3B6%3A00-22%3A00%3B5%3B6%3A00-22%3A00%3B6%3B6%3A00-22%3A00%3B7%3B6%3A00-22%3A00%22%2C%22THD_STORE_HOURS_EXPIRY%22%3A1693906078%7D', 's_sq': '%5B%5BB%5D%5D', 's_pers': '%20s_nr365%3D1693904679869-Repeat%7C1725440679869%3B%20s_dslv%3D1693904679895%7C1788512679895%3B', 's_sess': '%20s_pv_pName%3Dproductdetails%253E321181732%3B%20s_pv_pType%3Dpip%3B%20s_pv_cmpgn%3D%3B%20s_pv_pVer%3Dhd%2520home%2520v1%3B%20stsh%3D%3B%20s_cc%3Dtrue%3B', 'forterToken': 'fdf46c8da6c3443d83d7a5a2a71997af_1693904679710__UDF43_13ck', 'bm_sv': '2A3313906CBB7FB7DF144CE8D8625485~YAAQGy0+F5YwWUyKAQAA7GuWZBV3CS27N1Iw0IHKObrpnsX3Ec4ApqGsgMDATctA24BNpZhPrULn2z15jGM7zqlnC24oP2sedsjbRSl7z8tU4p8rWNQOv/jMwLCsxsbvukR8J63XuTLAW32W/ieogDZjzsffNaIgCn2+r0qsmJsNWB1KBtwRo+QQCeEWlUG1wSHQxknV9sBd4U5QTWKj5CPK3+8tvQL6C9HSnQT3WofNiFIfPgQWU55dZgG80XwgQ+67CQ==~1', 'mbox': 'PC#a74e2329b9f84dea89decdc541ae4d5d.35_0#1757149480|session#e15664fe2397492cab2b832fc34c400c#1693906575', '_abck': 'DBE7E9D86007FF00BF31E14F0F87FDE5~0~YAAQTP4ZuHYkEUGKAQAAsbuWZAqQWBNhg7uUQKkWIqNNahoIfj9PXKUzNxuYRdiszRzwOars/mU1rGb//AsqE0ad7Q5KhKXQKYUTxXvIKy/DgJUYlXJTIwJICB9Xils9Y43ibfQ5jH0JFJaSFujrr6KtOZF7mhosw2WFJHozhn5y9B+FymSUa45Px/JTuaaK3UHGvd+2QcVf+vMGivRlSGgGtEZzp8cRO2aObyyCyjkO430BI3Ayh12qNRiRulI6wrU/dWlogMcdbwUjNkZVuj0ogHl9N0Svxal+nUufZ4xbM4w13JIDfVDl9wq1wkt7mMsw13wHA/Twjv9XiAfXsiCxjoq8eVuVan/wthNrvWu4duT9/usZi13pTF2jSVkwZzREXORKJDzDRPtolYrCIbfU3LiBkDFFGErOGw==~-1~-1~-1'}\n"
     ]
    }
   ],
   "source": [
    "print(cookie_dict)"
   ],
   "metadata": {
    "collapsed": false,
    "ExecuteTime": {
     "end_time": "2023-09-05T09:32:58.789100Z",
     "start_time": "2023-09-05T09:32:58.784419Z"
    }
   }
  },
  {
   "cell_type": "code",
   "execution_count": 9,
   "outputs": [],
   "source": [
    "data_dict = {'data': {'product': {'itemId': '323575901', 'dataSources': 'catalog', 'identifiers': {'canonicalUrl': '/p/Aldridge-26-in-Green-Low-Back-Metal-Frame-Counter-Stool-with-Velvet-Seat-Set-of-2-ALDRIDGE-COUNTER-26-GREEN-VELVET-BLACK-L/323575901', 'brandName': 'Homy Casa', 'itemId': '323575901', 'modelNumber': 'ALDRIDGE COUNTER 26 GREEN VELVET BLACK L', 'productLabel': 'Aldridge 26 in. Green Low Back Metal Frame Counter Stool with Velvet Seat (Set of 2)', 'storeSkuNumber': '1008880621', 'upcGtin13': None, 'skuClassification': 'normal', 'specialOrderSku': None, 'toolRentalSkuNumber': None, 'rentalCategory': None, 'rentalSubCategory': None, 'upc': '6935653292479', 'productType': 'MERCHANDISE', 'isSuperSku': True, 'parentId': '323575637', 'roomVOEnabled': False, 'sampleId': None, '__typename': 'Identifiers'}, 'availabilityType': {'discontinued': False, 'status': False, 'type': 'Shared', 'buyable': True, '__typename': 'AvailabilityType'}, 'details': {'description': \"This 2-piece stool set has clean lines and velvet upholstery that offer your kitchen island or dining table a glam look. The frames are made from engineered wood and steel with a sleek, black finish, and built on flared legs for a contemporary artist look in your space. These foam-filled stools feature a bucket seat with a curved back, and they're upholstered in velvet in your choice of colour. Also, they have built-in support bars at the bottom to keep your feet comfy while you kick back and enjoy a good meal or a glass of wine with friends. We also love that these stools are stain and rust-resistant, so they stand up to spill and ding.\", 'collection': None, 'highlights': None, 'descriptiveAttributes': [{'name': 'Bullet01', 'value': 'Velvet opulence: upholstered in plush velvet, this armchair also features a refined piping detail around the chair arm', 'bulleted': True, 'sequence': 0, '__typename': 'DescriptiveAttribute'}, {'name': 'Bullet02', 'value': 'Sturdy crossover base: the crossover structure is one of the most stable structures and is very safe to sit on.', 'bulleted': True, 'sequence': 0, '__typename': 'DescriptiveAttribute'}, {'name': 'Bullet03', 'value': 'Upholstered seat: filled with high quality foam, these upholstered bar stools offers hip relaxation and comfortable sitting experience', 'bulleted': True, 'sequence': 0, '__typename': 'DescriptiveAttribute'}, {'name': 'Bullet04', 'value': 'Scoop-shaped backrest: slightly curved backrest can fit the body well, this structure of the chair is more comfortable than the flat shape', 'bulleted': True, 'sequence': 0, '__typename': 'DescriptiveAttribute'}, {'name': 'Bullet05', 'value': 'Modern counter stools are suitable for many places, such as dining room, bedroom, balcony, living room, resting room, coffee room, restaurant and so on', 'bulleted': True, 'sequence': 0, '__typename': 'DescriptiveAttribute'}, {'name': 'Bullet06', 'value': 'Delicate plastic ft.-cap design protect your floor from scratching or cracking', 'bulleted': True, 'sequence': 0, '__typename': 'DescriptiveAttribute'}, {'name': 'Bullet07', 'value': \"Perfect size for your kitchen counter: it's perfect for the kitchen island whose height is 36 -39 in., seat dimension is 12.4 x 18.5 in. (L x W), weight distribution up to 250 lbs.\", 'bulleted': True, 'sequence': 0, '__typename': 'DescriptiveAttribute'}], 'additionalResources': {'infoAndGuides': [{'name': 'Instructions / Assembly', 'url': 'https://images.thdstatic.com/catalog/pdfImages/f1/f12ea39f-735a-4141-9167-14e4326e54f2.pdf', '__typename': 'AdditionalResourceDetails'}, {'name': 'Warranty', 'url': 'https://images.thdstatic.com/catalog/pdfImages/5c/5c88f0a0-1245-40f1-b49e-111d49a6335b.pdf', '__typename': 'AdditionalResourceDetails'}, {'name': 'Use and Care Manual', 'url': 'https://images.thdstatic.com/catalog/pdfImages/ec/ecd7ccb2-17f4-41d0-b5a7-e75c27b82ed0.pdf', '__typename': 'AdditionalResourceDetails'}], 'installationAndRentals': [], 'diyProjects': [], '__typename': 'AdditionalResources'}, 'installation': None, '__typename': 'Details'}, 'media': {'images': [{'url': 'https://images.thdstatic.com/productImages/29282a1b-6858-4fbc-8b00-750fc7533851/svn/green-bar-stools-aldridge-counter-26-green-velvet-black-l-64_<SIZE>.jpg', 'type': 'IMAGE', 'subType': 'PRIMARY', 'sizes': ['65', '100', '145', '300', '400', '600', '1000'], 'hotspots': None, 'altText': None, '__typename': 'Image'}, {'url': 'https://images.thdstatic.com/productImages/f67c4c95-6e52-44c3-aa45-b3b7b892ac8d/svn/green-bar-stools-aldridge-counter-26-green-velvet-black-l-e1_<SIZE>.jpg', 'type': 'IMAGE_LEFT_VIEW', 'subType': None, 'sizes': ['65', '100', '145', '300', '400', '600', '1000'], 'hotspots': None, 'altText': None, '__typename': 'Image'}, {'url': 'https://images.thdstatic.com/productImages/f913e700-d7c8-47ca-816f-40e8a6e72464/svn/green-bar-stools-aldridge-counter-26-green-velvet-black-l-1d_<SIZE>.jpg', 'type': 'IMAGE_BOTTOM_VIEW', 'subType': None, 'sizes': ['65', '100', '145', '300', '400', '600', '1000'], 'hotspots': None, 'altText': None, '__typename': 'Image'}, {'url': 'https://images.thdstatic.com/productImages/f9323d30-fc47-4d9a-91bd-3fd496cb8603/svn/green-bar-stools-aldridge-counter-26-green-velvet-black-l-66_<SIZE>.jpg', 'type': 'IMAGE_BACK_VIEW', 'subType': None, 'sizes': ['65', '100', '145', '300', '400', '600', '1000'], 'hotspots': None, 'altText': None, '__typename': 'Image'}, {'url': 'https://images.thdstatic.com/productImages/59e9b767-0b05-4e92-b812-650dc7816cea/svn/green-bar-stools-aldridge-counter-26-green-velvet-black-l-77_<SIZE>.jpg', 'type': 'IMAGE_OPEN_VIEW', 'subType': None, 'sizes': ['65', '100', '145', '300', '400', '600', '1000'], 'hotspots': None, 'altText': None, '__typename': 'Image'}, {'url': 'https://images.thdstatic.com/productImages/efe20ef5-0b64-47c1-80f8-13d3ff704521/svn/green-bar-stools-aldridge-counter-26-green-velvet-black-l-c3_<SIZE>.jpg', 'type': 'IMAGE_ALTERNATE_VIEW', 'subType': None, 'sizes': ['65', '100', '145', '300', '400', '600', '1000'], 'hotspots': None, 'altText': None, '__typename': 'Image'}, {'url': 'https://images.thdstatic.com/productImages/a000342d-3154-4940-ab78-b5c5741c33c4/svn/green-bar-stools-aldridge-counter-26-green-velvet-black-l-4f_<SIZE>.jpg', 'type': 'IMAGE_ALTERNATE_VIEW_2', 'subType': None, 'sizes': ['65', '100', '145', '300', '400', '600', '1000'], 'hotspots': None, 'altText': None, '__typename': 'Image'}, {'url': 'https://images.thdstatic.com/productImages/76114b3d-b308-403e-afe1-f3978f973999/svn/green-bar-stools-aldridge-counter-26-green-velvet-black-l-1f_<SIZE>.jpg', 'type': 'IMAGE_ALTERNATE_VIEW_3', 'subType': None, 'sizes': ['65', '100', '145', '300', '400', '600', '1000'], 'hotspots': None, 'altText': None, '__typename': 'Image'}, {'url': 'https://images.thdstatic.com/productImages/890b3e73-0a7a-4a3f-a2d1-a5e116e7c26e/svn/green-bar-stools-aldridge-counter-26-green-velvet-black-l-44_<SIZE>.jpg', 'type': 'IMAGE_ALTERNATE_VIEW_4', 'subType': None, 'sizes': ['65', '100', '145', '300', '400', '600', '1000'], 'hotspots': None, 'altText': None, '__typename': 'Image'}, {'url': 'https://images.thdstatic.com/productImages/3f3c4f63-0205-4dec-8cb0-bc67acff4c22/svn/green-bar-stools-aldridge-counter-26-green-velvet-black-l-fa_<SIZE>.jpg', 'type': 'IMAGE_ALTERNATE_VIEW_5', 'subType': None, 'sizes': ['65', '100', '145', '300', '400', '600', '1000'], 'hotspots': None, 'altText': None, '__typename': 'Image'}, {'url': 'https://images.thdstatic.com/productImages/2b7abd05-4242-474e-8b06-3f9f43a63bef/svn/green-bar-stools-aldridge-counter-26-green-velvet-black-l-76_<SIZE>.jpg', 'type': 'IMAGE_ALTERNATE_VIEW_6', 'subType': None, 'sizes': ['65', '100', '145', '300', '400', '600', '1000'], 'hotspots': None, 'altText': None, '__typename': 'Image'}, {'url': 'https://images.thdstatic.com/productImages/4bab4e3d-be37-4d38-97bd-dc521721d4c7/svn/green-bar-stools-aldridge-counter-26-green-velvet-black-l-31_<SIZE>.jpg', 'type': 'IMAGE_LIFE_STYLE', 'subType': None, 'sizes': ['65', '100', '145', '300', '400', '600', '1000'], 'hotspots': None, 'altText': None, '__typename': 'Image'}], 'video': [{'shortDescription': 'To help customer know more about the product', 'thumbnail': 'https://cf-images.us-east-1.prod.boltdns.net/v1/jit/1834613806001/a1ec6041-ac39-4afc-9194-ae7f4a0ce3cf/main/160x90/16s869ms/match/image.jpg?pubId=66036796001', 'url': 'https://bcbolt446c5271-a.akamaihd.net/media/v1/pmp4/static/clear/1834613806001/a1ec6041-ac39-4afc-9194-ae7f4a0ce3cf/cc2b1670-71f9-480b-9f4c-61042b1189fb/main.mp4?akamai_token=exp=1696335967~acl=/media/v1/pmp4/static/clear/1834613806001/a1ec6041-ac39-4afc-9194-ae7f4a0ce3cf/cc2b1670-71f9-480b-9f4c-61042b1189fb/main.mp4*~hmac=57345063421c25884b22358214935655486170f24ad1e81fe898b93e44d5e12c&pubid=66036796001', 'videoStill': 'https://cf-images.us-east-1.prod.boltdns.net/v1/jit/1834613806001/a1ec6041-ac39-4afc-9194-ae7f4a0ce3cf/main/1280x720/16s869ms/match/image.jpg?pubId=66036796001', 'uploadDate': '2022-12-01T18:42:22.082Z', 'dateModified': '2022-12-01T18:42:22.085Z', 'link': None, 'title': 'ALDRIDGE COUNTER 26 ROSE VELVET BLACK LE PRODUCT DEMO', 'type': 'BRIGHTCOVE VIDEO', 'videoId': '6316429110112', 'longDescription': None, '__typename': 'Video'}], 'threeSixty': None, 'augmentedRealityLink': None, 'richContent': None, '__typename': 'Media'}, 'pricing': {'promotion': {'dates': {'end': '09/13/2023', 'start': '08/24/2023', '__typename': 'Dates'}, 'type': 'DISCOUNT', 'description': None, 'dollarOff': 106.01, 'percentageOff': 37.0, 'savingsCenter': 'Special Buys', 'savingsCenterPromos': None, 'specialBuySavings': None, 'specialBuyDollarOff': None, 'specialBuyPercentageOff': None, 'promotionTag': None, 'experienceTag': None, 'subExperienceTag': None, '__typename': 'Promotion'}, 'value': 180.48, 'alternatePriceDisplay': True, 'alternate': {'bulk': None, 'unit': {'caseUnitOfMeasure': 'stool', 'unitsOriginalPrice': 143.25, 'unitsPerCase': 2.0, 'value': 90.24, '__typename': 'UnitPricing'}, '__typename': 'Alternate'}, 'original': 286.49, 'mapAboveOriginalPrice': None, 'message': None, 'preferredPriceFlag': False, 'specialBuy': None, 'unitOfMeasure': 'carton', 'conditionalPromotions': [], '__typename': 'Pricing'}, 'reviews': None, 'seo': {'seoKeywords': None, 'seoDescription': 'Acquire a fantastic look and touch to your kitchen counter by selecting this highly durable Homy Casa Aldridge Green Low Back Metal Frame Counter Stool with Velvet Seat.', '__typename': 'Seo'}, 'specificationGroup': [{'specifications': [{'specName': 'Arms', 'specValue': 'With Arms', '__typename': 'Specification'}, {'specName': 'Assembly Required', 'specValue': 'Assembly Required', '__typename': 'Specification'}, {'specName': 'Back Type', 'specValue': 'Low Back', '__typename': 'Specification'}, {'specName': 'Color Family', 'specValue': 'Green', '__typename': 'Specification'}, {'specName': 'Color/Finish', 'specValue': 'Green', '__typename': 'Specification'}, {'specName': 'Commercial Use', 'specValue': 'Residential', '__typename': 'Specification'}, {'specName': 'Features', 'specValue': 'Back,Foot Rest', '__typename': 'Specification'}, {'specName': 'Finish Family', 'specValue': 'Matte', '__typename': 'Specification'}, {'specName': 'Frame Material', 'specValue': 'Metal/Wood', '__typename': 'Specification'}, {'specName': 'Number of Stools', 'specValue': '2', '__typename': 'Specification'}, {'specName': 'Product Weight (lb.)', 'specValue': '30.4 lb', '__typename': 'Specification'}, {'specName': 'Returnable', 'specValue': '90-Day', '__typename': 'Specification'}, {'specName': 'Seat Material', 'specValue': 'Velvet', '__typename': 'Specification'}, {'specName': 'Seat Shape', 'specValue': 'Square Seat', '__typename': 'Specification'}, {'specName': 'Stool Base', 'specValue': '4 Legs', '__typename': 'Specification'}, {'specName': 'Stool Height (in.)', 'specValue': 'Counter Height (24-27 in.)', '__typename': 'Specification'}, {'specName': 'Weight Capacity (lb.)', 'specValue': '250 lb', '__typename': 'Specification'}], 'specTitle': 'Details', '__typename': 'SpecificationGroup'}, {'specifications': [{'specName': 'Manufacturer Warranty', 'specValue': '1 year', '__typename': 'Specification'}], 'specTitle': 'Warranty / Certifications', '__typename': 'SpecificationGroup'}, {'specifications': [{'specName': 'Product Depth (in.)', 'specValue': '18.3 in', '__typename': 'Specification'}, {'specName': 'Product Height (in.)', 'specValue': '36.2 in', '__typename': 'Specification'}, {'specName': 'Product Width (in.)', 'specValue': '21.9 in', '__typename': 'Specification'}, {'specName': 'Seat Depth (in.)', 'specValue': '16.9 in', '__typename': 'Specification'}, {'specName': 'Seat Height (in.)', 'specValue': '26 in', '__typename': 'Specification'}, {'specName': 'Seat Width (in.)', 'specValue': '17.7 in', '__typename': 'Specification'}], 'specTitle': 'Dimensions', '__typename': 'SpecificationGroup'}], 'taxonomy': {'breadCrumbs': [{'label': 'Furniture', 'url': '/b/Furniture/N-5yc1vZc7pc', 'browseUrl': None, 'creativeIconUrl': None, 'deselectUrl': None, 'dimensionName': 'Category', 'refinementKey': None, '__typename': 'BreadCrumb'}, {'label': 'Bar Furniture', 'url': '/b/Furniture-Bar-Furniture/N-5yc1vZ2fkpaag', 'browseUrl': None, 'creativeIconUrl': None, 'deselectUrl': None, 'dimensionName': 'Category', 'refinementKey': None, '__typename': 'BreadCrumb'}, {'label': 'Bar Stools', 'url': '/b/Furniture-Bar-Furniture-Bar-Stools/N-5yc1vZc7of', 'browseUrl': None, 'creativeIconUrl': None, 'deselectUrl': None, 'dimensionName': 'Category', 'refinementKey': None, '__typename': 'BreadCrumb'}], 'brandLinkUrl': None, '__typename': 'Taxonomy'}, 'favoriteDetail': None, 'info': {'hidePrice': False, 'ecoRebate': False, 'quantityLimit': 5, 'sskMin': None, 'sskMax': None, 'unitOfMeasureCoverage': 'Includes 2 stools', 'wasMaxPriceRange': None, 'wasMinPriceRange': None, 'fiscalYear': '2023', 'productDepartment': '59', 'classNumber': '34', 'hasVisuallySimilar': False, 'categoryHierarchy': None, 'productSubType': None, 'paintBrand': None, 'dotComColorEligible': False, 'bathRenovation': False, 'label': None, 'isSponsored': None, 'sponsoredMetadata': None, 'sponsoredBeacon': None, 'augmentedReality': False, 'globalCustomConfigurator': None, 'isLiveGoodsProduct': False, 'prop65Warning': False, 'returnable': '90-Day', 'hasSubscription': False, 'isBuryProduct': None, 'isGenericProduct': None, 'samplesAvailable': False, 'customerSignal': None, 'productDepartmentId': None, 'swatches': None, 'totalNumberOfOptions': None, 'recommendationFlags': {'visualNavigation': False, 'packages': False, 'pipCollections': False, 'collections': True, 'frequentlyBoughtTogether': False, 'bundles': False, '__typename': 'RecommendationFlags'}, 'minimumOrderQuantity': 0, 'projectCalculatorEligible': False, 'subClassNumber': '5', 'calculatorType': None, 'pipCalculator': None, 'protectionPlanSku': '315046848', 'eligibleProtectionPlanSkus': '315046848', 'hasServiceAddOns': False, 'consultationType': None, '__typename': 'Info'}, 'fulfillment': {'backordered': False, 'fulfillmentOptions': None, 'anchorStoreStatus': False, 'anchorStoreStatusType': 'NA', 'backorderedShipDate': None, 'bossExcludedShipStates': None, 'excludedShipStates': None, 'seasonStatusEligible': None, 'onlineStoreStatus': True, 'onlineStoreStatusType': 'ACTIVE', 'fallbackMode': False, 'sthExcludedShipState': None, 'bossExcludedShipState': None, 'inStoreAssemblyEligible': False, 'bodfsAssemblyEligible': False, '__typename': 'Fulfillment'}, 'sizeAndFitDetail': {'attributeGroups': [{'attributes': [{'attributeName': None, 'dimensions': '21.9 x 36.2', '__typename': 'sizeAndFitAttribute'}], 'dimensionLabel': 'L x W (in.)', 'productType': None, '__typename': 'sizeAndFitAttributeGroup'}], '__typename': 'SizeAndFitDetail'}, 'subscription': None, 'badges': [], 'dataSource': 'catalog', 'keyProductFeatures': {'keyProductFeaturesItems': [{'features': [{'name': 'Back Type', 'refinementId': '4294010735', 'refinementUrl': '/b/Furniture-Bar-Furniture-Bar-Stools/Low-Back/N-5yc1vZc7ofZ1z0jjvz', 'value': 'Low Back', '__typename': 'KeyProductFeaturesFeature'}, {'name': 'Seat Height (in.)', 'refinementId': '4296275200', 'refinementUrl': '/b/Furniture-Bar-Furniture-Bar-Stools/26-in/N-5yc1vZc7ofZ1z1w35s', 'value': '26 in', '__typename': 'KeyProductFeaturesFeature'}, {'name': 'Seat Material', 'refinementId': '4295334929', 'refinementUrl': '/b/Furniture-Bar-Furniture-Bar-Stools/Velvet/N-5yc1vZc7ofZ1z1bxn5', 'value': 'Velvet', '__typename': 'KeyProductFeaturesFeature'}, {'name': 'Number of Stools', 'refinementId': None, 'refinementUrl': None, 'value': '2', '__typename': 'KeyProductFeaturesFeature'}, {'name': 'Frame Material', 'refinementId': '4294010767', 'refinementUrl': '/b/Furniture-Bar-Furniture-Bar-Stools/Metal-Wood/N-5yc1vZc7ofZ1z0jjwv', 'value': 'Metal/Wood', '__typename': 'KeyProductFeaturesFeature'}, {'name': 'Features', 'refinementId': '4295426036', 'refinementUrl': '/b/Furniture-Bar-Furniture-Bar-Stools/Back/N-5yc1vZc7ofZ1z1dvxw', 'value': 'Back', '__typename': 'KeyProductFeaturesFeature'}, {'name': 'Features', 'refinementId': '4295114013', 'refinementUrl': '/b/Furniture-Bar-Furniture-Bar-Stools/Foot-Rest/N-5yc1vZc7ofZ1z1776l', 'value': 'Foot Rest', '__typename': 'KeyProductFeaturesFeature'}, {'name': 'Width (in.)', 'refinementId': '4296243049', 'refinementUrl': '/b/Furniture-Bar-Furniture-Bar-Stools/219-in/N-5yc1vZc7ofZ1z1vecp', 'value': '21.9 in', '__typename': 'KeyProductFeaturesFeature'}], '__typename': 'KeyProductFeaturesItem'}], '__typename': 'KeyProductFeatures'}, 'seoDescription': 'Acquire a fantastic look and touch to your kitchen counter by selecting this highly durable Homy Casa Aldridge Green Low Back Metal Frame Counter Stool with Velvet Seat.', '__typename': 'BaseProduct'}}}\n"
   ],
   "metadata": {
    "collapsed": false,
    "ExecuteTime": {
     "end_time": "2023-09-05T16:28:27.049473Z",
     "start_time": "2023-09-05T16:28:27.047341Z"
    }
   }
  },
  {
   "cell_type": "code",
   "execution_count": 15,
   "outputs": [
    {
     "name": "stdout",
     "output_type": "stream",
     "text": [
      "产品的评论数量：0\n"
     ]
    }
   ],
   "source": [
    "from functools import reduce\n",
    "\n",
    "def safe_get(d, keys):\n",
    "    return reduce(lambda d, key: d.get(key, {}) if isinstance(d, dict) else None, keys, d)\n",
    "\n",
    "keys = ['data', 'product', 'reviews', 'ratingsReviews', 'totalReviews']\n",
    "total_reviews = safe_get(data_dict, keys) or 0\n",
    "\n",
    "print(f\"产品的评论数量：{total_reviews}\")\n"
   ],
   "metadata": {
    "collapsed": false,
    "ExecuteTime": {
     "end_time": "2023-09-05T16:39:37.873420Z",
     "start_time": "2023-09-05T16:39:37.866961Z"
    }
   }
  },
  {
   "cell_type": "code",
   "execution_count": null,
   "outputs": [],
   "source": [],
   "metadata": {
    "collapsed": false
   }
  }
 ],
 "metadata": {
  "kernelspec": {
   "display_name": "Python 3",
   "language": "python",
   "name": "python3"
  },
  "language_info": {
   "codemirror_mode": {
    "name": "ipython",
    "version": 2
   },
   "file_extension": ".py",
   "mimetype": "text/x-python",
   "name": "python",
   "nbconvert_exporter": "python",
   "pygments_lexer": "ipython2",
   "version": "2.7.6"
  }
 },
 "nbformat": 4,
 "nbformat_minor": 0
}
