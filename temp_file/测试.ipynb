{
 "cells": [
  {
   "cell_type": "code",
   "execution_count": 7,
   "outputs": [],
   "source": [
    "import csv\n",
    "\n",
    "# Input data file\n",
    "input_file = \"/Users/huzhang/PycharmProjects/Guangxin/downloaded_files_CA/voucher_4074585.csv\"\n",
    "\n",
    "# Read input data from the file\n",
    "with open(input_file, \"r\") as file:\n",
    "    lines = file.readlines()\n",
    "\n",
    "# Separate payment and deduction lines\n",
    "payment_lines = []\n",
    "deduction_lines = []\n",
    "\n",
    "is_payment_section = True\n",
    "for line in lines:\n",
    "    if \"Sub-total:\" in line:\n",
    "        is_payment_section = False\n",
    "    elif is_payment_section:\n",
    "        payment_lines.append(line)\n",
    "    else:\n",
    "        deduction_lines.append(line)\n",
    "\n",
    "# Write payment data to a file\n",
    "with open(\"payment_data.csv\", \"w\", newline=\"\") as payment_file:\n",
    "    writer = csv.writer(payment_file)\n",
    "    for payment_line in payment_lines:\n",
    "        writer.writerow(payment_line.strip().split('\\t'))\n",
    "\n",
    "# Write deduction data to a file\n",
    "with open(\"deduction_data.csv\", \"w\", newline=\"\") as deduction_file:\n",
    "    writer = csv.writer(deduction_file)\n",
    "    for deduction_line in deduction_lines:\n",
    "        writer.writerow(deduction_line.strip().split('\\t'))\n"
   ],
   "metadata": {
    "collapsed": false
   }
  },
  {
   "cell_type": "code",
   "execution_count": 3,
   "outputs": [],
   "source": [
    "import csv\n",
    "\n",
    "# 读取CSV文件\n",
    "with open('input.csv', mode='r') as csvfile:\n",
    "    data = list(csv.reader(csvfile))\n",
    "\n",
    "# 初始化数据列表\n",
    "payments = []\n",
    "deductions = []\n",
    "\n",
    "# 查找关键信息\n",
    "remittance_number = data[0][0].split(': ')[-1].strip()\n",
    "payment_date = data[2][0].split(': ')[-1].strip()\n",
    "\n",
    "# 定位表格数据的起始位置\n",
    "payments_start = data.index(['Invoice #', 'PO #', 'Invoice Date', 'Product Amount', 'Wayfair Allowance for Damages/ Defects (4%)', 'Joss & Main Allowance for Damages/ Defects (4%)', 'Wayfair Early Pay Discount (3%)', 'Joss & Main Early Pay Discount (3%)', 'Shipping', 'Other', 'Tax/VAT', 'Payment Amount', 'Business', 'Order Type'])\n",
    "deductions_start = data.index(['Deduction', 'CS384601179', '02/04/2022'])\n",
    "\n",
    "# 处理Payments表格数据\n",
    "payments.append(['Wayfair Remittance #', 'Payment_Date'] + data[payments_start])\n",
    "for row in data[payments_start+1:deductions_start-1]:\n",
    "    if row:\n",
    "        payments.append([remittance_number, payment_date] + row)\n",
    "\n",
    "# 处理Deductions表格数据\n",
    "deductions.append(['Wayfair Remittance #', 'Payment_Date'] + data[deductions_start])\n",
    "for row in data[deductions_start+1:]:\n",
    "    if row:\n",
    "        deductions.append([remittance_number, payment_date] + row)\n",
    "\n",
    "# 输出Payments和Deductions到CSV文件\n",
    "with open('payments.csv', mode='w', newline='') as csvfile:\n",
    "    csv_writer = csv.writer(csvfile)\n",
    "    csv_writer.writerows(payments)\n",
    "\n",
    "with open('deductions.csv', mode='w', newline='') as csvfile:\n",
    "    csv_writer = csv.writer(csvfile)\n",
    "    csv_writer.writerows(deductions)\n"
   ],
   "metadata": {
    "collapsed": false
   }
  },
  {
   "cell_type": "code",
   "execution_count": null,
   "outputs": [],
   "source": [],
   "metadata": {
    "collapsed": false,
    "pycharm": {
     "is_executing": true
    }
   }
  },
  {
   "cell_type": "code",
   "execution_count": null,
   "outputs": [],
   "source": [],
   "metadata": {
    "collapsed": false
   }
  }
 ],
 "metadata": {
  "kernelspec": {
   "display_name": "Python 3",
   "language": "python",
   "name": "python3"
  },
  "language_info": {
   "codemirror_mode": {
    "name": "ipython",
    "version": 2
   },
   "file_extension": ".py",
   "mimetype": "text/x-python",
   "name": "python",
   "nbconvert_exporter": "python",
   "pygments_lexer": "ipython2",
   "version": "2.7.6"
  }
 },
 "nbformat": 4,
 "nbformat_minor": 0
}
