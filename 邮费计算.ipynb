{
 "cells": [
  {
   "cell_type": "code",
   "execution_count": 1,
   "metadata": {
    "collapsed": true
   },
   "outputs": [],
   "source": [
    "import pandas as pd"
   ]
  },
  {
   "cell_type": "code",
   "execution_count": 4,
   "outputs": [],
   "source": [
    "df = pd.read_csv(r'E:\\OneDrive\\露露\\22-03-15-Inventorys (2)(1).csv')"
   ],
   "metadata": {
    "collapsed": false,
    "pycharm": {
     "name": "#%%\n"
    }
   }
  },
  {
   "cell_type": "code",
   "execution_count": 5,
   "outputs": [
    {
     "name": "stdout",
     "output_type": "stream",
     "text": [
      "0                            KAUWHATA MDF 15MM\n",
      "1                       SMEG DARK BLUE OAK LEG\n",
      "2                                  IRIZO SMALL\n",
      "3                                        TERZO\n",
      "4                                  BOGA FOREST\n",
      "                         ...                  \n",
      "11758                              DOTTIE ROSE\n",
      "11759    ZOMBA GREEN VELVET DIAMOND KD METAL A\n",
      "11760                        RICO WHITE 6PCS A\n",
      "11761                                  FROILLE\n",
      "11762                   COUNCILBLUFFS BLACK LT\n",
      "Name: Goods Name, Length: 11763, dtype: object\n"
     ]
    }
   ],
   "source": [
    "print(df[c])"
   ],
   "metadata": {
    "collapsed": false,
    "pycharm": {
     "name": "#%%\n"
    }
   }
  },
  {
   "cell_type": "code",
   "execution_count": 14,
   "outputs": [],
   "source": [
    "df1 = pd.DataFrame(df,columns=['Goods Name','Packing Size','Gross Weight'])"
   ],
   "metadata": {
    "collapsed": false,
    "pycharm": {
     "name": "#%%\n"
    }
   }
  },
  {
   "cell_type": "code",
   "execution_count": 15,
   "outputs": [
    {
     "name": "stdout",
     "output_type": "stream",
     "text": [
      "                                  Goods Name         Packing Size Gross Weight\n",
      "0                          KAUWHATA MDF 15MM    61.00*59.00*10.00          9.2\n",
      "1                     SMEG DARK BLUE OAK LEG    67.00*41.00*52.00           13\n",
      "2                                IRIZO SMALL  112.00*112.00*15.00         27.3\n",
      "3                                      TERZO     82.00*26.00*7.00            7\n",
      "4                                BOGA FOREST    64.00*64.00*54.00         11.5\n",
      "...                                      ...                  ...          ...\n",
      "11758                            DOTTIE ROSE    69.00*66.00*52.50        10.35\n",
      "11759  ZOMBA GREEN VELVET DIAMOND KD METAL A    53.00*47.00*52.00           13\n",
      "11760                      RICO WHITE 6PCS A    58.00*46.00*53.00         26.2\n",
      "11761                                FROILLE   127.00*63.00*13.00           28\n",
      "11762                 COUNCILBLUFFS BLACK LT   140.00*48.50*18.00           17\n",
      "\n",
      "[11763 rows x 3 columns]\n"
     ]
    }
   ],
   "source": [
    "print(df1)"
   ],
   "metadata": {
    "collapsed": false,
    "pycharm": {
     "name": "#%%\n"
    }
   }
  },
  {
   "cell_type": "code",
   "execution_count": 16,
   "outputs": [],
   "source": [
    "df_2 = df1['Packing Size'].str.split('*',expand=True)"
   ],
   "metadata": {
    "collapsed": false,
    "pycharm": {
     "name": "#%%\n"
    }
   }
  },
  {
   "cell_type": "code",
   "execution_count": 17,
   "outputs": [
    {
     "name": "stdout",
     "output_type": "stream",
     "text": [
      "           0       1      2     3     4     5     6     7     8     9     10  \\\n",
      "0       61.00   59.00  10.00  None  None  None  None  None  None  None  None   \n",
      "1       67.00   41.00  52.00  None  None  None  None  None  None  None  None   \n",
      "2      112.00  112.00  15.00  None  None  None  None  None  None  None  None   \n",
      "3       82.00   26.00   7.00  None  None  None  None  None  None  None  None   \n",
      "4       64.00   64.00  54.00  None  None  None  None  None  None  None  None   \n",
      "...       ...     ...    ...   ...   ...   ...   ...   ...   ...   ...   ...   \n",
      "11758   69.00   66.00  52.50  None  None  None  None  None  None  None  None   \n",
      "11759   53.00   47.00  52.00  None  None  None  None  None  None  None  None   \n",
      "11760   58.00   46.00  53.00  None  None  None  None  None  None  None  None   \n",
      "11761  127.00   63.00  13.00  None  None  None  None  None  None  None  None   \n",
      "11762  140.00   48.50  18.00  None  None  None  None  None  None  None  None   \n",
      "\n",
      "         11    12    13    14    15    16  \n",
      "0      None  None  None  None  None  None  \n",
      "1      None  None  None  None  None  None  \n",
      "2      None  None  None  None  None  None  \n",
      "3      None  None  None  None  None  None  \n",
      "4      None  None  None  None  None  None  \n",
      "...     ...   ...   ...   ...   ...   ...  \n",
      "11758  None  None  None  None  None  None  \n",
      "11759  None  None  None  None  None  None  \n",
      "11760  None  None  None  None  None  None  \n",
      "11761  None  None  None  None  None  None  \n",
      "11762  None  None  None  None  None  None  \n",
      "\n",
      "[11763 rows x 17 columns]\n"
     ]
    }
   ],
   "source": [
    "print(df_2)"
   ],
   "metadata": {
    "collapsed": false,
    "pycharm": {
     "name": "#%%\n"
    }
   }
  },
  {
   "cell_type": "code",
   "execution_count": 28,
   "outputs": [],
   "source": [
    "df1 = pd.concat([df1,df_2],axis=1)"
   ],
   "metadata": {
    "collapsed": false,
    "pycharm": {
     "name": "#%%\n"
    }
   }
  },
  {
   "cell_type": "code",
   "execution_count": 57,
   "outputs": [],
   "source": [
    "df1 = df1.rename(columns={0:'长',1:'宽',2:'高'})"
   ],
   "metadata": {
    "collapsed": false,
    "pycharm": {
     "name": "#%%\n"
    }
   }
  },
  {
   "cell_type": "code",
   "execution_count": 53,
   "outputs": [],
   "source": [
    "df1 = df1.drop(16,1)"
   ],
   "metadata": {
    "collapsed": false,
    "pycharm": {
     "name": "#%%\n"
    }
   }
  },
  {
   "cell_type": "code",
   "execution_count": 61,
   "outputs": [
    {
     "name": "stdout",
     "output_type": "stream",
     "text": [
      "{'Goods Name': 'SMEG DARK BLUE OAK LEG', 'Packing Size': '67.00*41.00*52.00', 'Gross Weight': '13', '长': '67.00', '宽': '41.00', '高': '52.00'}\n"
     ]
    }
   ],
   "source": [
    "print(df1.iloc[1].to_dict())\n",
    "dic = df1.iloc[1].to_dict()"
   ],
   "metadata": {
    "collapsed": false,
    "pycharm": {
     "name": "#%%\n"
    }
   }
  },
  {
   "cell_type": "code",
   "execution_count": 70,
   "outputs": [],
   "source": [
    "freight = 0.00\n",
    "L = float(dic['长'])\n",
    "W = float(dic['宽'])\n",
    "H = float(dic['高'])\n",
    "GW = float(dic['Gross Weight'])\n",
    "LWH_list = [L,W,H]\n",
    "LWH_list.sort()"
   ],
   "metadata": {
    "collapsed": false,
    "pycharm": {
     "name": "#%%\n"
    }
   }
  },
  {
   "cell_type": "code",
   "execution_count": 102,
   "outputs": [
    {
     "name": "stdout",
     "output_type": "stream",
     "text": [
      "0\n",
      "20    22.08\n",
      "Name: Zone 8, dtype: float64\n",
      "1\n",
      "62    43.78\n",
      "Name: Zone 8, dtype: float64\n",
      "2\n",
      "89    52.29\n",
      "Name: Zone 8, dtype: float64\n",
      "3\n",
      "15    19.87\n",
      "Name: Zone 8, dtype: float64\n",
      "4\n",
      "97    55.7\n",
      "Name: Zone 8, dtype: float64\n",
      "5\n",
      "17    21.54\n",
      "Name: Zone 8, dtype: float64\n",
      "6\n",
      "66    44.75\n",
      "Name: Zone 8, dtype: float64\n",
      "7\n",
      "42    36.41\n",
      "Name: Zone 8, dtype: float64\n",
      "8\n",
      "38    33.98\n",
      "Name: Zone 8, dtype: float64\n",
      "9\n",
      "16    20.16\n",
      "Name: Zone 8, dtype: float64\n",
      "10\n",
      "53    40.75\n",
      "Name: Zone 8, dtype: float64\n",
      "11\n",
      "97    55.7\n",
      "Name: Zone 8, dtype: float64\n",
      "12\n",
      "38    33.98\n",
      "Name: Zone 8, dtype: float64\n",
      "13\n",
      "2    11.54\n",
      "Name: Zone 8, dtype: float64\n",
      "14\n",
      "18    22.42\n",
      "Name: Zone 8, dtype: float64\n",
      "15\n",
      "30    28.42\n",
      "Name: Zone 8, dtype: float64\n",
      "16\n",
      "2    11.54\n",
      "Name: Zone 8, dtype: float64\n",
      "17\n",
      "89    52.29\n",
      "Name: Zone 8, dtype: float64\n",
      "18\n",
      "2    11.54\n",
      "Name: Zone 8, dtype: float64\n",
      "19\n",
      "75    45.98\n",
      "Name: Zone 8, dtype: float64\n",
      "20\n",
      "2    11.54\n",
      "Name: Zone 8, dtype: float64\n",
      "21\n",
      "69    45.35\n",
      "Name: Zone 8, dtype: float64\n",
      "22\n",
      "25    26.88\n",
      "Name: Zone 8, dtype: float64\n",
      "23\n",
      "Series([], Name: Zone 8, dtype: float64)\n",
      "24\n",
      "Series([], Name: Zone 8, dtype: float64)\n",
      "25\n",
      "56    41.66\n",
      "Name: Zone 8, dtype: float64\n",
      "26\n",
      "29    30.35\n",
      "Name: Zone 8, dtype: float64\n",
      "27\n",
      "30    28.42\n",
      "Name: Zone 8, dtype: float64\n",
      "28\n",
      "55    41.24\n",
      "Name: Zone 8, dtype: float64\n",
      "29\n",
      "2    11.54\n",
      "Name: Zone 8, dtype: float64\n",
      "30\n",
      "56    41.66\n",
      "Name: Zone 8, dtype: float64\n",
      "31\n",
      "56    41.66\n",
      "Name: Zone 8, dtype: float64\n",
      "32\n",
      "31    29.0\n",
      "Name: Zone 8, dtype: float64\n",
      "33\n",
      "24    25.82\n",
      "Name: Zone 8, dtype: float64\n",
      "34\n",
      "9    15.21\n",
      "Name: Zone 8, dtype: float64\n",
      "35\n",
      "36\n",
      "55    41.24\n",
      "Name: Zone 8, dtype: float64\n",
      "37\n",
      "57    42.41\n",
      "Name: Zone 8, dtype: float64\n",
      "38\n",
      "72    45.84\n",
      "Name: Zone 8, dtype: float64\n",
      "39\n",
      "78    46.72\n",
      "Name: Zone 8, dtype: float64\n",
      "40\n",
      "28    29.14\n",
      "Name: Zone 8, dtype: float64\n",
      "41\n",
      "61    43.52\n",
      "Name: Zone 8, dtype: float64\n",
      "42\n"
     ]
    },
    {
     "ename": "ValueError",
     "evalue": "could not convert string to float: '10.50,89.00'",
     "output_type": "error",
     "traceback": [
      "\u001B[1;31m---------------------------------------------------------------------------\u001B[0m",
      "\u001B[1;31mValueError\u001B[0m                                Traceback (most recent call last)",
      "\u001B[1;32m<ipython-input-102-37a32e3a522d>\u001B[0m in \u001B[0;36m<module>\u001B[1;34m\u001B[0m\n\u001B[0;32m      6\u001B[0m     \u001B[0mL\u001B[0m \u001B[1;33m=\u001B[0m \u001B[0mfloat\u001B[0m\u001B[1;33m(\u001B[0m\u001B[0mdic\u001B[0m\u001B[1;33m[\u001B[0m\u001B[1;34m'长'\u001B[0m\u001B[1;33m]\u001B[0m\u001B[1;33m)\u001B[0m\u001B[1;33m\u001B[0m\u001B[1;33m\u001B[0m\u001B[0m\n\u001B[0;32m      7\u001B[0m     \u001B[0mW\u001B[0m \u001B[1;33m=\u001B[0m \u001B[0mfloat\u001B[0m\u001B[1;33m(\u001B[0m\u001B[0mdic\u001B[0m\u001B[1;33m[\u001B[0m\u001B[1;34m'宽'\u001B[0m\u001B[1;33m]\u001B[0m\u001B[1;33m)\u001B[0m\u001B[1;33m\u001B[0m\u001B[1;33m\u001B[0m\u001B[0m\n\u001B[1;32m----> 8\u001B[1;33m     \u001B[0mH\u001B[0m \u001B[1;33m=\u001B[0m \u001B[0mfloat\u001B[0m\u001B[1;33m(\u001B[0m\u001B[0mdic\u001B[0m\u001B[1;33m[\u001B[0m\u001B[1;34m'高'\u001B[0m\u001B[1;33m]\u001B[0m\u001B[1;33m)\u001B[0m\u001B[1;33m\u001B[0m\u001B[1;33m\u001B[0m\u001B[0m\n\u001B[0m\u001B[0;32m      9\u001B[0m     \u001B[0mGW\u001B[0m \u001B[1;33m=\u001B[0m \u001B[0mfloat\u001B[0m\u001B[1;33m(\u001B[0m\u001B[0mdic\u001B[0m\u001B[1;33m[\u001B[0m\u001B[1;34m'Gross Weight'\u001B[0m\u001B[1;33m]\u001B[0m\u001B[1;33m)\u001B[0m\u001B[1;33m\u001B[0m\u001B[1;33m\u001B[0m\u001B[0m\n\u001B[0;32m     10\u001B[0m     \u001B[0mLWH_list\u001B[0m \u001B[1;33m=\u001B[0m \u001B[1;33m[\u001B[0m\u001B[0mL\u001B[0m\u001B[1;33m,\u001B[0m\u001B[0mW\u001B[0m\u001B[1;33m,\u001B[0m\u001B[0mH\u001B[0m\u001B[1;33m]\u001B[0m\u001B[1;33m\u001B[0m\u001B[1;33m\u001B[0m\u001B[0m\n",
      "\u001B[1;31mValueError\u001B[0m: could not convert string to float: '10.50,89.00'"
     ]
    }
   ],
   "source": [
    "fre_list = []\n",
    "for i in range(11763):\n",
    "    print(i)\n",
    "    dic = df1.iloc[i].to_dict()\n",
    "    freight = 0.00\n",
    "    L = float(dic['长'])\n",
    "    W = float(dic['宽'])\n",
    "    H = float(dic['高'])\n",
    "    GW = float(dic['Gross Weight'])\n",
    "    LWH_list = [L,W,H]\n",
    "    LWH_list.sort()\n",
    "    try:\n",
    "        if GW > 67.5 or LWH_list[-1] > 274 or (L+2*(W+H))>419:\n",
    "            freight = 9999.00\n",
    "        else:\n",
    "            GWLBS = GW/0.45\n",
    "            VOL = (L*0.3937*W*0.3937*H*0.3937)/139\n",
    "            WG_list = [GWLBS,VOL]\n",
    "            WG_list.sort()\n",
    "            FinalGW = WG_list[-1]\n",
    "\n",
    "            FinalGW = math.ceil(FinalGW)\n",
    "\n",
    "            if GWLBS > 50.0:\n",
    "                Over_Wet = 20.4\n",
    "            else:\n",
    "                Over_Wet = 0.0\n",
    "\n",
    "            if LWH_list[-1] > 121.0 or LWH_list[-2] > 76.0 or 330.0>=(L+2*(W+H))>266.0:\n",
    "                Over_lon = 10.7\n",
    "            else:\n",
    "                Over_lon = 0.0\n",
    "\n",
    "            if 419.0>=(L+2*(W+H))>330.0:\n",
    "                Over_Vol = 110.0\n",
    "                if Over_lon != 0.0 and FinalGW < 90:\n",
    "                    FinalGW = 90\n",
    "            else:\n",
    "                Over_Vol = 0.0\n",
    "\n",
    "            house_fee = 3.8\n",
    "            base_Fre = value.loc[value['≤磅/lbs']==float(FinalGW),'Zone 8']\n",
    "            print(base_Fre)\n",
    "            base_Fre = float(base_Fre.iloc[0])\n",
    "\n",
    "            add_up = base_Fre+Over_Vol+Over_Wet+Over_lon+house_fee\n",
    "            Fuel_add = add_up*0.13\n",
    "            freight = freight+Fuel_add+add_up\n",
    "    except:\n",
    "        freight = \"NA\"\n",
    "    fre_list.append(freight)\n",
    "\n",
    "df1['UPS_Freight'] = fre_list"
   ],
   "metadata": {
    "collapsed": false,
    "pycharm": {
     "name": "#%%\n"
    }
   }
  },
  {
   "cell_type": "code",
   "execution_count": 71,
   "outputs": [],
   "source": [
    "import math"
   ],
   "metadata": {
    "collapsed": false,
    "pycharm": {
     "name": "#%%\n"
    }
   }
  },
  {
   "cell_type": "code",
   "execution_count": 68,
   "outputs": [],
   "source": [
    "list1.sort()"
   ],
   "metadata": {
    "collapsed": false,
    "pycharm": {
     "name": "#%%\n"
    }
   }
  },
  {
   "cell_type": "code",
   "execution_count": null,
   "outputs": [],
   "source": [],
   "metadata": {
    "collapsed": false,
    "pycharm": {
     "name": "#%%\n"
    }
   }
  },
  {
   "cell_type": "code",
   "execution_count": 63,
   "outputs": [],
   "source": [
    "import xlwings as xw\n",
    "app = xw.App(visible=True,add_book=False)\n",
    "book = app.books.open(r'E:\\OneDrive\\露露\\220128 ups 报价--rancho ontario atlanta us lax us ccp us aus us jfk us alt .xlsx')\n",
    "sheet = book.sheets[0]\n",
    "value = sheet.range('A2:I152').options(pd.DataFrame,header=1,index=0).value"
   ],
   "metadata": {
    "collapsed": false,
    "pycharm": {
     "name": "#%%\n"
    }
   }
  },
  {
   "cell_type": "code",
   "execution_count": 73,
   "outputs": [
    {
     "name": "stdout",
     "output_type": "stream",
     "text": [
      "     ≤磅/lbs  重量不超（g）  Zone 2  Zone 3  Zone 4  Zone 5  Zone 6  Zone 7  Zone 8\n",
      "0       1.0    450.0   11.02   11.02   11.02   11.02   11.02   11.02   11.02\n",
      "1       2.0    900.0   11.02   11.02   11.02   11.02   11.02   11.02   11.02\n",
      "2       3.0   1350.0   11.02   11.02   11.02   11.02   11.02   11.02   11.54\n",
      "3       4.0   1800.0   11.02   11.02   11.02   11.02   11.09   11.81   12.36\n",
      "4       5.0   2250.0   11.02   11.02   11.02   11.27   11.74   12.35   13.10\n",
      "..      ...      ...     ...     ...     ...     ...     ...     ...     ...\n",
      "145   146.0  65700.0   55.01   56.68   59.31   59.93   65.91   71.72   79.90\n",
      "146   147.0  66150.0   55.77   56.72   59.78   60.41   66.38   71.73   80.45\n",
      "147   148.0  66600.0   56.08   57.09   60.35   60.93   67.22   72.20   81.64\n",
      "148   149.0  67050.0   56.08   57.59   60.78   61.37   67.23   72.48   81.65\n",
      "149   150.0  67500.0   56.09   57.62   61.31   62.95   67.37   72.63   81.82\n",
      "\n",
      "[150 rows x 9 columns]\n"
     ]
    }
   ],
   "source": [
    "print(value)"
   ],
   "metadata": {
    "collapsed": false,
    "pycharm": {
     "name": "#%%\n"
    }
   }
  },
  {
   "cell_type": "code",
   "execution_count": null,
   "outputs": [],
   "source": [],
   "metadata": {
    "collapsed": false,
    "pycharm": {
     "name": "#%%\n"
    }
   }
  }
 ],
 "metadata": {
  "kernelspec": {
   "display_name": "Python 3",
   "language": "python",
   "name": "python3"
  },
  "language_info": {
   "codemirror_mode": {
    "name": "ipython",
    "version": 2
   },
   "file_extension": ".py",
   "mimetype": "text/x-python",
   "name": "python",
   "nbconvert_exporter": "python",
   "pygments_lexer": "ipython2",
   "version": "2.7.6"
  }
 },
 "nbformat": 4,
 "nbformat_minor": 0
}