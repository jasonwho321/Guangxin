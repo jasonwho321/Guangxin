{
 "cells": [
  {
   "cell_type": "code",
   "execution_count": 39,
   "metadata": {
    "collapsed": true
   },
   "outputs": [],
   "source": [
    "import pandas as pd\n",
    "import requests"
   ]
  },
  {
   "cell_type": "code",
   "execution_count": 40,
   "outputs": [],
   "source": [
    "from bs4 import BeautifulSoup"
   ],
   "metadata": {
    "collapsed": false,
    "pycharm": {
     "name": "#%%\n"
    }
   }
  },
  {
   "cell_type": "code",
   "execution_count": null,
   "outputs": [],
   "source": [
    "url = ''"
   ],
   "metadata": {
    "collapsed": false,
    "pycharm": {
     "name": "#%%\n"
    }
   }
  },
  {
   "cell_type": "code",
   "execution_count": 38,
   "outputs": [
    {
     "name": "stdout",
     "output_type": "stream",
     "text": [
      "0\n",
      "Mozilla/5.0 (X11; Linux x86_64) AppleWebKit/537.36 (KHTML, like Gecko) Chrome/62.0.3202.62 Safari/537.36\n",
      "https://www.poundex.com/storage/products/temp/F9326Q.jpg\n",
      "1\n",
      "Mozilla/5.0 (Windows NT 10.0; WOW64) AppleWebKit/537.36 (KHTML, like Gecko) Chrome/64.0.3282.186 Safari/537.36\n",
      "https://www.poundex.com/storage/products/August2020/36EBpKgk7xmqhYaFH2z8.jpg\n",
      "2\n",
      "Mozilla/5.0 (Windows NT 10.0; WOW64) AppleWebKit/537.36 (KHTML, like Gecko) Chrome/64.0.3282.186 Safari/537.36\n",
      "https://www.poundex.com/storage/products/August2020/zYVvXB7UvGlLPBjtXUjh.jpg\n",
      "3\n",
      "Mozilla/5.0 (Macintosh; U; PPC Mac OS X 10.5; en-US; rv:1.9.2.15) Gecko/20110303 Firefox/3.6.15\n",
      "https://www.poundex.com/storage/products/August2020/z0qZHtKgeJqH4DhyZ3BX.jpg\n",
      "4\n",
      "Mozilla/5.0 (Windows NT 6.1; WOW64) AppleWebKit/537.36 (KHTML, like Gecko) Chrome/45.0.2454.101 Safari/537.36\n",
      "https://www.poundex.com/storage/products/August2020/Gn7gjflZMFlZ22wSIHj6.jpg\n",
      "5\n",
      "Mozilla/5.0 (Macintosh; U; PPC Mac OS X 10.5; en-US; rv:1.9.2.15) Gecko/20110303 Firefox/3.6.15\n",
      "6\n",
      "Mozilla/5.0 (Macintosh; U; PPC Mac OS X 10.5; en-US; rv:1.9.2.15) Gecko/20110303 Firefox/3.6.15\n",
      "https://www.poundex.com/storage/products/May2019/8XqLpeHC0GlU9uiasyyT.jpg\n",
      "7\n",
      "Mozilla/5.0 (Windows NT 10.0; WOW64) AppleWebKit/537.36 (KHTML, like Gecko) Chrome/67.0.3396.99 Safari/537.36\n",
      "https://www.poundex.com/storage/products/August2020/4StTQi00FuUJKdzOohN5.jpg\n",
      "8\n",
      "Mozilla/5.0 (Windows NT 10.0; WOW64) AppleWebKit/537.36 (KHTML, like Gecko) Chrome/64.0.3282.186 Safari/537.36\n",
      "9\n",
      "Mozilla/5.0 (Windows NT 10.0; WOW64) AppleWebKit/537.36 (KHTML, like Gecko) Chrome/67.0.3396.99 Safari/537.36\n",
      "10\n",
      "Mozilla/5.0 (Windows NT 10.0; WOW64) AppleWebKit/537.36 (KHTML, like Gecko) Chrome/67.0.3396.99 Safari/537.36\n",
      "11\n",
      "Mozilla/5.0 (Windows NT 6.1; WOW64) AppleWebKit/537.36 (KHTML, like Gecko) Chrome/45.0.2454.101 Safari/537.36\n",
      "12\n",
      "Mozilla/5.0 (Windows NT 10.0; WOW64) AppleWebKit/537.36 (KHTML, like Gecko) Chrome/64.0.3282.186 Safari/537.36\n",
      "https://www.poundex.com/storage/products/temp/F1533.jpg\n",
      "13\n",
      "Mozilla/5.0 (X11; Linux x86_64) AppleWebKit/537.36 (KHTML, like Gecko) Chrome/62.0.3202.62 Safari/537.36\n",
      "https://www.poundex.com/storage/products/June2021/s6Ei7TGwJqglp3oaFcAH.jpg\n",
      "14\n",
      "Mozilla/5.0 (X11; Linux x86_64) AppleWebKit/537.36 (KHTML, like Gecko) Chrome/67.0.3396.99 Safari/537.36\n",
      "https://www.poundex.com/storage/products/May2021/gUbRKYwlWmfNIJcdEB8P.png\n",
      "15\n",
      "Mozilla/5.0 (X11; Linux x86_64) AppleWebKit/537.36 (KHTML, like Gecko) Chrome/62.0.3202.62 Safari/537.36\n",
      "https://www.poundex.com/storage/products/temp/F1205.jpg\n",
      "16\n",
      "Mozilla/5.0 (Windows NT 10.0; WOW64) AppleWebKit/537.36 (KHTML, like Gecko) Chrome/67.0.3396.99 Safari/537.36\n",
      "17\n",
      "Mozilla/5.0 (Windows NT 6.1; WOW64) AppleWebKit/537.36 (KHTML, like Gecko) Chrome/45.0.2454.101 Safari/537.36\n",
      "https://www.poundex.com/storage/products/May2019/0s6YywJqi2nbzGSEssoT.jpg\n",
      "18\n",
      "Mozilla/5.0 (Windows NT 10.0; WOW64) AppleWebKit/537.36 (KHTML, like Gecko) Chrome/67.0.3396.99 Safari/537.36\n",
      "https://www.poundex.com/storage/products/November2021/cJj7bahLntm8eyKSAMbT.jpg\n",
      "19\n",
      "Mozilla/5.0 (Windows NT 10.0; WOW64) AppleWebKit/537.36 (KHTML, like Gecko) Chrome/67.0.3396.99 Safari/537.36\n",
      "https://www.poundex.com/storage/products/temp/F1756.jpg\n",
      "20\n",
      "Mozilla/5.0 (Windows NT 10.0; WOW64) AppleWebKit/537.36 (KHTML, like Gecko) Chrome/64.0.3282.186 Safari/537.36\n",
      "https://www.poundex.com/storage/products/temp/F2339.jpg\n",
      "21\n",
      "Mozilla/5.0 (Macintosh; U; PPC Mac OS X 10.5; en-US; rv:1.9.2.15) Gecko/20110303 Firefox/3.6.15\n",
      "https://www.poundex.com/storage/products/temp/F1144.jpg\n",
      "22\n",
      "Mozilla/5.0 (Windows NT 10.0; WOW64) AppleWebKit/537.36 (KHTML, like Gecko) Chrome/67.0.3396.99 Safari/537.36\n",
      "https://www.poundex.com/storage/products/temp/F2093.jpg\n",
      "23\n",
      "Mozilla/5.0 (Windows NT 10.0; WOW64) AppleWebKit/537.36 (KHTML, like Gecko) Chrome/67.0.3396.99 Safari/537.36\n",
      "https://www.poundex.com/storage/products/November2021/lZt6hrl2CC0AYfxqzWYU.jpg\n",
      "24\n",
      "Mozilla/5.0 (X11; Linux x86_64) AppleWebKit/537.36 (KHTML, like Gecko) Chrome/62.0.3202.62 Safari/537.36\n",
      "25\n",
      "Mozilla/5.0 (Windows NT 10.0; WOW64) AppleWebKit/537.36 (KHTML, like Gecko) Chrome/67.0.3396.99 Safari/537.36\n",
      "https://www.poundex.com/storage/products/temp/F1205.jpg\n",
      "26\n",
      "Mozilla/5.0 (X11; Linux x86_64) AppleWebKit/537.36 (KHTML, like Gecko) Chrome/67.0.3396.99 Safari/537.36\n",
      "https://www.poundex.com/storage/products/temp/F2330.jpg\n",
      "27\n",
      "Mozilla/5.0 (X11; Linux x86_64) AppleWebKit/537.36 (KHTML, like Gecko) Chrome/67.0.3396.99 Safari/537.36\n",
      "https://www.poundex.com/storage/products/temp/F1572.jpg\n",
      "28\n",
      "Mozilla/5.0 (Macintosh; U; PPC Mac OS X 10.5; en-US; rv:1.9.2.15) Gecko/20110303 Firefox/3.6.15\n",
      "https://www.poundex.com/storage/products/June2020/ywas2jMWHiYSlI6YwQy1.jpg\n",
      "29\n",
      "Mozilla/5.0 (X11; Linux x86_64) AppleWebKit/537.36 (KHTML, like Gecko) Chrome/62.0.3202.62 Safari/537.36\n",
      "https://www.poundex.com/storage/products/June2020/I60wSCBMdOnWfaj70wf7.jpg\n",
      "30\n",
      "Mozilla/5.0 (Windows NT 10.0; WOW64) AppleWebKit/537.36 (KHTML, like Gecko) Chrome/67.0.3396.99 Safari/537.36\n",
      "https://www.poundex.com/storage/products/temp/F2297.jpg\n",
      "31\n",
      "Mozilla/5.0 (Windows NT 6.1; WOW64) AppleWebKit/537.36 (KHTML, like Gecko) Chrome/45.0.2454.101 Safari/537.36\n",
      "https://www.poundex.com/storage/products/August2020/cObBWLN6DCKRClQwhyrk.jpg\n",
      "32\n",
      "Mozilla/5.0 (Windows NT 10.0; WOW64) AppleWebKit/537.36 (KHTML, like Gecko) Chrome/64.0.3282.186 Safari/537.36\n",
      "https://www.poundex.com/storage/products/August2020/36EBpKgk7xmqhYaFH2z8.jpg\n",
      "33\n",
      "Mozilla/5.0 (Windows NT 10.0; WOW64) AppleWebKit/537.36 (KHTML, like Gecko) Chrome/67.0.3396.99 Safari/537.36\n",
      "https://www.poundex.com/storage/products/August2020/zYVvXB7UvGlLPBjtXUjh.jpg\n",
      "34\n",
      "Mozilla/5.0 (Windows NT 10.0; WOW64) AppleWebKit/537.36 (KHTML, like Gecko) Chrome/64.0.3282.186 Safari/537.36\n",
      "https://www.poundex.com/storage/products/August2020/z0qZHtKgeJqH4DhyZ3BX.jpg\n",
      "35\n",
      "Mozilla/5.0 (X11; Linux x86_64) AppleWebKit/537.36 (KHTML, like Gecko) Chrome/62.0.3202.62 Safari/537.36\n",
      "https://www.poundex.com/storage/products/temp/F9350Q.jpg\n",
      "36\n",
      "Mozilla/5.0 (Windows NT 10.0; WOW64) AppleWebKit/537.36 (KHTML, like Gecko) Chrome/67.0.3396.99 Safari/537.36\n",
      "https://www.poundex.com/storage/products/November2021/VzLHeLv5HZ7sGcWSwpZy.jpg\n",
      "37\n",
      "Mozilla/5.0 (Windows NT 10.0; WOW64) AppleWebKit/537.36 (KHTML, like Gecko) Chrome/64.0.3282.186 Safari/537.36\n",
      "https://www.poundex.com/storage/products/November2021/zJDIO9etsvuO4WMLt6MO.jpg\n",
      "38\n",
      "Mozilla/5.0 (Macintosh; U; PPC Mac OS X 10.5; en-US; rv:1.9.2.15) Gecko/20110303 Firefox/3.6.15\n",
      "https://www.poundex.com/storage/products/November2021/bu9YMnOJ8nOyIW6YY08p.jpg\n",
      "39\n",
      "Mozilla/5.0 (Windows NT 10.0; WOW64) AppleWebKit/537.36 (KHTML, like Gecko) Chrome/67.0.3396.99 Safari/537.36\n",
      "https://www.poundex.com/storage/products/November2021/FdJW6hpJpNlzFtOSLk4p.jpg\n",
      "40\n",
      "Mozilla/5.0 (Windows NT 6.1; WOW64) AppleWebKit/537.36 (KHTML, like Gecko) Chrome/45.0.2454.101 Safari/537.36\n",
      "https://www.poundex.com/storage/products/August2020/ub5g26YQeOyQmdNNNN0D.jpg\n",
      "41\n",
      "Mozilla/5.0 (Windows NT 10.0; WOW64) AppleWebKit/537.36 (KHTML, like Gecko) Chrome/67.0.3396.99 Safari/537.36\n",
      "https://www.poundex.com/storage/products/August2021/THiTbmcoC9HVcJBxzXwM.jpg\n",
      "42\n",
      "Mozilla/5.0 (Windows NT 10.0; WOW64) AppleWebKit/537.36 (KHTML, like Gecko) Chrome/64.0.3282.186 Safari/537.36\n",
      "https://www.poundex.com/storage/products/August2019/zH6REBcRFAy320l0lfVp.jpg\n",
      "43\n",
      "Mozilla/5.0 (X11; Linux x86_64) AppleWebKit/537.36 (KHTML, like Gecko) Chrome/62.0.3202.62 Safari/537.36\n",
      "https://www.poundex.com/storage/products/August2019/Eli5fbNZXylKUINmnB8x.jpg\n",
      "44\n",
      "Mozilla/5.0 (Windows NT 6.1; WOW64) AppleWebKit/537.36 (KHTML, like Gecko) Chrome/45.0.2454.101 Safari/537.36\n",
      "https://www.poundex.com/storage/products/August2019/4tNl8W5fCNuYqWQV1UB4.jpg\n",
      "45\n",
      "Mozilla/5.0 (Macintosh; U; PPC Mac OS X 10.5; en-US; rv:1.9.2.15) Gecko/20110303 Firefox/3.6.15\n",
      "https://www.poundex.com/storage/products/August2020/mep2hLEXxHjO7xK1p6OS.jpg\n",
      "46\n",
      "Mozilla/5.0 (Windows NT 10.0; WOW64) AppleWebKit/537.36 (KHTML, like Gecko) Chrome/64.0.3282.186 Safari/537.36\n",
      "https://www.poundex.com/storage/products/August2019/nCo19WsAavjT3VIBtOzH.jpg\n",
      "47\n",
      "Mozilla/5.0 (X11; Linux x86_64) AppleWebKit/537.36 (KHTML, like Gecko) Chrome/67.0.3396.99 Safari/537.36\n",
      "https://www.poundex.com/storage/products/November2021/GjmjxnGz0VLzMTXuVbF0.jpg\n",
      "48\n",
      "Mozilla/5.0 (X11; Linux x86_64) AppleWebKit/537.36 (KHTML, like Gecko) Chrome/62.0.3202.62 Safari/537.36\n",
      "https://www.poundex.com/storage/products/August2019/zH6REBcRFAy320l0lfVp.jpg\n",
      "49\n",
      "Mozilla/5.0 (Windows NT 10.0; WOW64) AppleWebKit/537.36 (KHTML, like Gecko) Chrome/64.0.3282.186 Safari/537.36\n",
      "https://www.poundex.com/storage/products/August2019/4tNl8W5fCNuYqWQV1UB4.jpg\n",
      "50\n",
      "Mozilla/5.0 (Windows NT 10.0; WOW64) AppleWebKit/537.36 (KHTML, like Gecko) Chrome/67.0.3396.99 Safari/537.36\n",
      "https://www.poundex.com/storage/products/August2019/Eli5fbNZXylKUINmnB8x.jpg\n",
      "51\n",
      "Mozilla/5.0 (X11; Linux x86_64) AppleWebKit/537.36 (KHTML, like Gecko) Chrome/62.0.3202.62 Safari/537.36\n",
      "https://www.poundex.com/storage/products/May2021/gUbRKYwlWmfNIJcdEB8P.png\n",
      "52\n",
      "Mozilla/5.0 (Windows NT 6.1; WOW64) AppleWebKit/537.36 (KHTML, like Gecko) Chrome/45.0.2454.101 Safari/537.36\n",
      "https://www.poundex.com/storage/products/August2020/zwn3w2N3pl8u9Tdm7vpi.jpg\n",
      "53\n",
      "Mozilla/5.0 (X11; Linux x86_64) AppleWebKit/537.36 (KHTML, like Gecko) Chrome/67.0.3396.99 Safari/537.36\n",
      "https://www.poundex.com/storage/products/November2021/Br4AtBYeA43I0hCdqGtZ.jpg\n",
      "54\n",
      "Mozilla/5.0 (Windows NT 10.0; WOW64) AppleWebKit/537.36 (KHTML, like Gecko) Chrome/64.0.3282.186 Safari/537.36\n",
      "https://www.poundex.com/storage/products/November2021/hEAgIwHSr4fsUGDzcuq7.jpg\n",
      "55\n",
      "Mozilla/5.0 (X11; Linux x86_64) AppleWebKit/537.36 (KHTML, like Gecko) Chrome/67.0.3396.99 Safari/537.36\n",
      "https://www.poundex.com/storage/products/April2019/vsuuyFj6wAPCdGW6LvyT.jpg\n",
      "56\n",
      "Mozilla/5.0 (Macintosh; U; PPC Mac OS X 10.5; en-US; rv:1.9.2.15) Gecko/20110303 Firefox/3.6.15\n",
      "https://www.poundex.com/storage/products/temp/F1557.jpg\n",
      "57\n",
      "Mozilla/5.0 (X11; Linux x86_64) AppleWebKit/537.36 (KHTML, like Gecko) Chrome/62.0.3202.62 Safari/537.36\n",
      "https://www.poundex.com/storage/products/temp/F1565.jpg\n",
      "58\n",
      "Mozilla/5.0 (Macintosh; U; PPC Mac OS X 10.5; en-US; rv:1.9.2.15) Gecko/20110303 Firefox/3.6.15\n",
      "https://www.poundex.com/storage/products/temp/F1558.jpg\n",
      "59\n",
      "Mozilla/5.0 (Windows NT 10.0; WOW64) AppleWebKit/537.36 (KHTML, like Gecko) Chrome/64.0.3282.186 Safari/537.36\n",
      "https://www.poundex.com/storage/products/temp/F1567.jpg\n",
      "60\n",
      "Mozilla/5.0 (X11; Linux x86_64) AppleWebKit/537.36 (KHTML, like Gecko) Chrome/62.0.3202.62 Safari/537.36\n",
      "https://www.poundex.com/storage/products/August2019/ELXuURtzFWXIeNgq6nPQ.jpg\n",
      "61\n",
      "Mozilla/5.0 (X11; Linux x86_64) AppleWebKit/537.36 (KHTML, like Gecko) Chrome/67.0.3396.99 Safari/537.36\n",
      "https://www.poundex.com/storage/products/August2019/iC2lQL0NA9y3x3fkrx8i.jpg\n",
      "62\n",
      "Mozilla/5.0 (X11; Linux x86_64) AppleWebKit/537.36 (KHTML, like Gecko) Chrome/67.0.3396.99 Safari/537.36\n",
      "https://www.poundex.com/storage/products/August2020/26oG7zQh7Azvm7CkGBmR.jpg\n",
      "63\n",
      "Mozilla/5.0 (Windows NT 6.1; WOW64) AppleWebKit/537.36 (KHTML, like Gecko) Chrome/45.0.2454.101 Safari/537.36\n",
      "https://www.poundex.com/storage/products/August2020/hiLr6SmpUH7k3GJU9iK9.jpg\n",
      "64\n",
      "Mozilla/5.0 (Windows NT 10.0; WOW64) AppleWebKit/537.36 (KHTML, like Gecko) Chrome/64.0.3282.186 Safari/537.36\n",
      "https://www.poundex.com/storage/products/August2021/THiTbmcoC9HVcJBxzXwM.jpg\n",
      "65\n",
      "Mozilla/5.0 (Windows NT 10.0; WOW64) AppleWebKit/537.36 (KHTML, like Gecko) Chrome/67.0.3396.99 Safari/537.36\n",
      "https://www.poundex.com/storage/products/temp/F9338EK.jpg\n",
      "66\n",
      "Mozilla/5.0 (Windows NT 6.1; WOW64) AppleWebKit/537.36 (KHTML, like Gecko) Chrome/45.0.2454.101 Safari/537.36\n",
      "https://www.poundex.com/storage/products/temp/F2093.jpg\n",
      "67\n",
      "Mozilla/5.0 (X11; Linux x86_64) AppleWebKit/537.36 (KHTML, like Gecko) Chrome/67.0.3396.99 Safari/537.36\n",
      "https://www.poundex.com/storage/products/November2021/lZt6hrl2CC0AYfxqzWYU.jpg\n",
      "68\n",
      "Mozilla/5.0 (Windows NT 10.0; WOW64) AppleWebKit/537.36 (KHTML, like Gecko) Chrome/64.0.3282.186 Safari/537.36\n",
      "https://www.poundex.com/storage/products/May2019/0s6YywJqi2nbzGSEssoT.jpg\n",
      "69\n",
      "Mozilla/5.0 (Windows NT 6.1; WOW64) AppleWebKit/537.36 (KHTML, like Gecko) Chrome/45.0.2454.101 Safari/537.36\n",
      "https://www.poundex.com/storage/products/temp/F1754.jpg\n",
      "70\n",
      "Mozilla/5.0 (X11; Linux x86_64) AppleWebKit/537.36 (KHTML, like Gecko) Chrome/62.0.3202.62 Safari/537.36\n",
      "https://www.poundex.com/storage/products/November2021/feD8cH9KMZAwAjJcoOdA.jpg\n",
      "71\n",
      "Mozilla/5.0 (Windows NT 6.1; WOW64) AppleWebKit/537.36 (KHTML, like Gecko) Chrome/45.0.2454.101 Safari/537.36\n",
      "72\n",
      "Mozilla/5.0 (X11; Linux x86_64) AppleWebKit/537.36 (KHTML, like Gecko) Chrome/67.0.3396.99 Safari/537.36\n",
      "https://www.poundex.com/storage/products/temp/F2207.jpg\n",
      "73\n",
      "Mozilla/5.0 (Windows NT 10.0; WOW64) AppleWebKit/537.36 (KHTML, like Gecko) Chrome/67.0.3396.99 Safari/537.36\n",
      "https://www.poundex.com/storage/products/temp/F9334CK.jpg\n",
      "74\n",
      "Mozilla/5.0 (Windows NT 10.0; WOW64) AppleWebKit/537.36 (KHTML, like Gecko) Chrome/67.0.3396.99 Safari/537.36\n",
      "https://www.poundex.com/storage/products/temp/F9336Q.jpg\n",
      "75\n",
      "Mozilla/5.0 (Windows NT 10.0; WOW64) AppleWebKit/537.36 (KHTML, like Gecko) Chrome/64.0.3282.186 Safari/537.36\n",
      "https://www.poundex.com/storage/products/August2020/3i8YYMab8LgUe3j5Y4Gf.jpg\n",
      "76\n",
      "Mozilla/5.0 (Windows NT 6.1; WOW64) AppleWebKit/537.36 (KHTML, like Gecko) Chrome/45.0.2454.101 Safari/537.36\n",
      "https://www.poundex.com/storage/products/August2019/3ycvKd56U58BfSgYEOlG.jpg\n",
      "77\n",
      "Mozilla/5.0 (X11; Linux x86_64) AppleWebKit/537.36 (KHTML, like Gecko) Chrome/67.0.3396.99 Safari/537.36\n",
      "https://www.poundex.com/storage/products/August2019/zH6REBcRFAy320l0lfVp.jpg\n",
      "78\n",
      "Mozilla/5.0 (Windows NT 10.0; WOW64) AppleWebKit/537.36 (KHTML, like Gecko) Chrome/67.0.3396.99 Safari/537.36\n",
      "https://www.poundex.com/storage/products/August2019/Eli5fbNZXylKUINmnB8x.jpg\n",
      "79\n",
      "Mozilla/5.0 (Macintosh; U; PPC Mac OS X 10.5; en-US; rv:1.9.2.15) Gecko/20110303 Firefox/3.6.15\n",
      "https://www.poundex.com/storage/products/August2019/4tNl8W5fCNuYqWQV1UB4.jpg\n",
      "80\n",
      "Mozilla/5.0 (Windows NT 6.1; WOW64) AppleWebKit/537.36 (KHTML, like Gecko) Chrome/45.0.2454.101 Safari/537.36\n",
      "https://www.poundex.com/storage/products/temp/F2053.jpg\n",
      "81\n",
      "Mozilla/5.0 (Windows NT 10.0; WOW64) AppleWebKit/537.36 (KHTML, like Gecko) Chrome/64.0.3282.186 Safari/537.36\n",
      "https://www.poundex.com/storage/products/November2021/GjmjxnGz0VLzMTXuVbF0.jpg\n",
      "82\n",
      "Mozilla/5.0 (X11; Linux x86_64) AppleWebKit/537.36 (KHTML, like Gecko) Chrome/67.0.3396.99 Safari/537.36\n",
      "https://www.poundex.com/storage/products/November2019/iWtBh0spSChNIAgEudC9.jpg\n",
      "83\n",
      "Mozilla/5.0 (X11; Linux x86_64) AppleWebKit/537.36 (KHTML, like Gecko) Chrome/62.0.3202.62 Safari/537.36\n",
      "https://www.poundex.com/storage/products/temp/F9313Q.jpg\n",
      "84\n",
      "Mozilla/5.0 (Windows NT 10.0; WOW64) AppleWebKit/537.36 (KHTML, like Gecko) Chrome/64.0.3282.186 Safari/537.36\n",
      "https://www.poundex.com/storage/products/temp/F6921.jpg\n",
      "85\n",
      "Mozilla/5.0 (X11; Linux x86_64) AppleWebKit/537.36 (KHTML, like Gecko) Chrome/62.0.3202.62 Safari/537.36\n",
      "https://www.poundex.com/storage/products/temp/F6923.jpg\n",
      "86\n",
      "Mozilla/5.0 (Windows NT 10.0; WOW64) AppleWebKit/537.36 (KHTML, like Gecko) Chrome/67.0.3396.99 Safari/537.36\n",
      "https://www.poundex.com/storage/products/temp/F6922.jpg\n",
      "87\n",
      "Mozilla/5.0 (X11; Linux x86_64) AppleWebKit/537.36 (KHTML, like Gecko) Chrome/67.0.3396.99 Safari/537.36\n",
      "https://www.poundex.com/storage/products/temp/F1567.jpg\n",
      "88\n",
      "Mozilla/5.0 (Windows NT 6.1; WOW64) AppleWebKit/537.36 (KHTML, like Gecko) Chrome/45.0.2454.101 Safari/537.36\n",
      "https://www.poundex.com/storage/products/September2021/ToGLLis3Jbrpyvy8pukd.jpg\n",
      "89\n",
      "Mozilla/5.0 (Windows NT 10.0; WOW64) AppleWebKit/537.36 (KHTML, like Gecko) Chrome/64.0.3282.186 Safari/537.36\n",
      "https://www.poundex.com/storage/products/August2020/dMA8ZjPXK4MAGq5OfRf5.jpg\n",
      "90\n",
      "Mozilla/5.0 (Windows NT 10.0; WOW64) AppleWebKit/537.36 (KHTML, like Gecko) Chrome/64.0.3282.186 Safari/537.36\n",
      "https://www.poundex.com/storage/products/temp/F2297.jpg\n",
      "91\n",
      "Mozilla/5.0 (X11; Linux x86_64) AppleWebKit/537.36 (KHTML, like Gecko) Chrome/67.0.3396.99 Safari/537.36\n",
      "https://www.poundex.com/storage/products/August2020/KYZZhhxuDDXPhIVghGTJ.jpg\n",
      "92\n",
      "Mozilla/5.0 (Macintosh; U; PPC Mac OS X 10.5; en-US; rv:1.9.2.15) Gecko/20110303 Firefox/3.6.15\n",
      "https://www.poundex.com/storage/products/August2020/kjsYkeQpEFXz72dYuV17.jpg\n",
      "93\n",
      "Mozilla/5.0 (Windows NT 10.0; WOW64) AppleWebKit/537.36 (KHTML, like Gecko) Chrome/67.0.3396.99 Safari/537.36\n",
      "94\n",
      "Mozilla/5.0 (Windows NT 10.0; WOW64) AppleWebKit/537.36 (KHTML, like Gecko) Chrome/67.0.3396.99 Safari/537.36\n",
      "https://www.poundex.com/storage/products/temp/F9331Q.jpg\n",
      "95\n",
      "Mozilla/5.0 (X11; Linux x86_64) AppleWebKit/537.36 (KHTML, like Gecko) Chrome/62.0.3202.62 Safari/537.36\n",
      "96\n",
      "Mozilla/5.0 (Windows NT 10.0; WOW64) AppleWebKit/537.36 (KHTML, like Gecko) Chrome/64.0.3282.186 Safari/537.36\n",
      "https://www.poundex.com/storage/products/August2020/FxfmBJ88oLcmN7xdUeIu.jpg\n",
      "97\n",
      "Mozilla/5.0 (X11; Linux x86_64) AppleWebKit/537.36 (KHTML, like Gecko) Chrome/62.0.3202.62 Safari/537.36\n",
      "https://www.poundex.com/storage/products/November2019/0DQVjSm9h3tKEUiXtzs6.jpg\n",
      "98\n",
      "Mozilla/5.0 (Windows NT 10.0; WOW64) AppleWebKit/537.36 (KHTML, like Gecko) Chrome/67.0.3396.99 Safari/537.36\n",
      "https://www.poundex.com/storage/products/November2019/0DQVjSm9h3tKEUiXtzs6.jpg\n",
      "99\n",
      "Mozilla/5.0 (X11; Linux x86_64) AppleWebKit/537.36 (KHTML, like Gecko) Chrome/62.0.3202.62 Safari/537.36\n",
      "https://www.poundex.com/storage/products/June2020/18Sd7uhUQnh78LLsRl5I.jpg\n",
      "100\n",
      "Mozilla/5.0 (X11; Linux x86_64) AppleWebKit/537.36 (KHTML, like Gecko) Chrome/67.0.3396.99 Safari/537.36\n",
      "https://www.poundex.com/storage/products/June2020/f02LkFWTlnPzBuxO5GOl.jpg\n",
      "101\n",
      "Mozilla/5.0 (X11; Linux x86_64) AppleWebKit/537.36 (KHTML, like Gecko) Chrome/62.0.3202.62 Safari/537.36\n",
      "https://www.poundex.com/storage/products/August2020/m8bZdmYfIOxD3mspQNif.jpg\n",
      "102\n",
      "Mozilla/5.0 (Macintosh; U; PPC Mac OS X 10.5; en-US; rv:1.9.2.15) Gecko/20110303 Firefox/3.6.15\n",
      "https://www.poundex.com/storage/products/August2020/HJ3szEj0X3vqduiShpcd.jpg\n",
      "103\n",
      "Mozilla/5.0 (Windows NT 6.1; WOW64) AppleWebKit/537.36 (KHTML, like Gecko) Chrome/45.0.2454.101 Safari/537.36\n",
      "https://www.poundex.com/storage/products/August2020/3i8YYMab8LgUe3j5Y4Gf.jpg\n",
      "104\n",
      "Mozilla/5.0 (Windows NT 10.0; WOW64) AppleWebKit/537.36 (KHTML, like Gecko) Chrome/64.0.3282.186 Safari/537.36\n",
      "https://www.poundex.com/storage/products/temp/F3091.jpg\n",
      "105\n",
      "Mozilla/5.0 (Windows NT 10.0; WOW64) AppleWebKit/537.36 (KHTML, like Gecko) Chrome/64.0.3282.186 Safari/537.36\n",
      "106\n",
      "Mozilla/5.0 (X11; Linux x86_64) AppleWebKit/537.36 (KHTML, like Gecko) Chrome/67.0.3396.99 Safari/537.36\n",
      "107\n",
      "Mozilla/5.0 (Windows NT 6.1; WOW64) AppleWebKit/537.36 (KHTML, like Gecko) Chrome/45.0.2454.101 Safari/537.36\n",
      "https://www.poundex.com/storage/products/temp/F1624.jpg\n",
      "108\n",
      "Mozilla/5.0 (Windows NT 6.1; WOW64) AppleWebKit/537.36 (KHTML, like Gecko) Chrome/45.0.2454.101 Safari/537.36\n",
      "https://www.poundex.com/storage/products/temp/F1565.jpg\n",
      "109\n",
      "Mozilla/5.0 (X11; Linux x86_64) AppleWebKit/537.36 (KHTML, like Gecko) Chrome/67.0.3396.99 Safari/537.36\n",
      "https://www.poundex.com/storage/products/temp/F1554.jpg\n",
      "110\n",
      "Mozilla/5.0 (Macintosh; U; PPC Mac OS X 10.5; en-US; rv:1.9.2.15) Gecko/20110303 Firefox/3.6.15\n",
      "https://www.poundex.com/storage/products/temp/F1553.jpg\n"
     ]
    }
   ],
   "source": [
    "import random\n",
    "from time import sleep\n",
    "session = requests.session()\n",
    "req_header = {\n",
    "    'User-Agent':'Mozilla/5.0 (X11; Linux x86_64) AppleWebKit/537.36 (KHTML, like Gecko) Chrome/67.0.3396.99 Safari/537.36',\n",
    "}\n",
    "user_agent_list = ['Mozilla/5.0 (X11; Linux x86_64) AppleWebKit/537.36 (KHTML, like Gecko) Chrome/67.0.3396.99 Safari/537.36',\n",
    "                    \"Mozilla/5.0 (Windows NT 10.0; WOW64) AppleWebKit/537.36 (KHTML, like Gecko) Chrome/67.0.3396.99 Safari/537.36\",\n",
    "                    \"Mozilla/5.0 (Windows NT 10.0; WOW64) AppleWebKit/537.36 (KHTML, like Gecko) Chrome/64.0.3282.186 Safari/537.36\",\n",
    "                    \"Mozilla/5.0 (X11; Linux x86_64) AppleWebKit/537.36 (KHTML, like Gecko) Chrome/62.0.3202.62 Safari/537.36\",\n",
    "                    \"Mozilla/5.0 (Windows NT 6.1; WOW64) AppleWebKit/537.36 (KHTML, like Gecko) Chrome/45.0.2454.101 Safari/537.36\",\n",
    "                    \"Mozilla/5.0 (Macintosh; U; PPC Mac OS X 10.5; en-US; rv:1.9.2.15) Gecko/20110303 Firefox/3.6.15\",\n",
    "                    ]\n",
    "\n",
    "for n in range(len(link_list)):\n",
    "    sleep(3)\n",
    "    print(n)\n",
    "    req_header['User-Agent'] = random.choice(user_agent_list)\n",
    "    print(req_header['User-Agent'])\n",
    "    i = link_list[n]\n",
    "    url = i\n",
    "    response = session.get(url,headers=req_header)\n",
    "    response.encoding = 'gbk'\n",
    "    soup = BeautifulSoup(response.text)\n",
    "    img_list = soup.find_all(id='currentImage')\n",
    "    for img in img_list:\n",
    "        print(img['src'])\n",
    "        image = requests.get(img['src'])\n",
    "        f = open('E://OneDrive//广新//Poundex//'+str(item_num_list[n])+'.jpg','ab') #存储图片，多媒体文件需要参数b（二进制文件）\n",
    "        f.write(image.content) #多媒体存储content\n",
    "        f.close()"
   ],
   "metadata": {
    "collapsed": false,
    "pycharm": {
     "name": "#%%\n"
    }
   }
  },
  {
   "cell_type": "code",
   "execution_count": 86,
   "outputs": [
    {
     "name": "stdout",
     "output_type": "stream",
     "text": [
      "103\n",
      "104\n",
      "105\n",
      "106\n",
      "107\n",
      "108\n",
      "109\n",
      "110\n"
     ]
    }
   ],
   "source": [
    "import random\n",
    "from time import sleep\n",
    "import pandas as pd\n",
    "# df = pd.DataFrame({\"SKU #\":[],\"Dimensions\":[],\"Units/case\":[],\"Weight (per unit)\":[],\"Volume (per unit)\":[],\"Materials\":[],\"# of Boxes\":[]})\n",
    "\n",
    "session = requests.session()\n",
    "req_header = {\n",
    "    'User-Agent':'Mozilla/5.0 (X11; Linux x86_64) AppleWebKit/537.36 (KHTML, like Gecko) Chrome/67.0.3396.99 Safari/537.36',\n",
    "}\n",
    "user_agent_list = ['Mozilla/5.0 (X11; Linux x86_64) AppleWebKit/537.36 (KHTML, like Gecko) Chrome/67.0.3396.99 Safari/537.36',\n",
    "                    \"Mozilla/5.0 (Windows NT 10.0; WOW64) AppleWebKit/537.36 (KHTML, like Gecko) Chrome/67.0.3396.99 Safari/537.36\",\n",
    "                    \"Mozilla/5.0 (Windows NT 10.0; WOW64) AppleWebKit/537.36 (KHTML, like Gecko) Chrome/64.0.3282.186 Safari/537.36\",\n",
    "                    \"Mozilla/5.0 (X11; Linux x86_64) AppleWebKit/537.36 (KHTML, like Gecko) Chrome/62.0.3202.62 Safari/537.36\",\n",
    "                    \"Mozilla/5.0 (Windows NT 6.1; WOW64) AppleWebKit/537.36 (KHTML, like Gecko) Chrome/45.0.2454.101 Safari/537.36\",\n",
    "                    \"Mozilla/5.0 (Macintosh; U; PPC Mac OS X 10.5; en-US; rv:1.9.2.15) Gecko/20110303 Firefox/3.6.15\",\n",
    "                    ]\n",
    "\n",
    "for n in range(103,len(link_list)):\n",
    "    sleep(3)\n",
    "    print(n)\n",
    "    req_header['User-Agent'] = random.choice(user_agent_list)\n",
    "    i = link_list[n]\n",
    "    url = i\n",
    "    response = session.get(url,headers=req_header)\n",
    "    response.encoding = 'gbk'\n",
    "    soup = BeautifulSoup(response.text)\n",
    "    detail_list = soup.find_all('tr')\n",
    "    # print(detail_list)\n",
    "    dict1 = []\n",
    "    dict2 = []\n",
    "    for t in detail_list:\n",
    "        if 'Product Boxes' in str(t):\n",
    "            break\n",
    "\n",
    "        attr = t.th.text.strip()\n",
    "        value = t.td.text.strip()\n",
    "        dict1.append(attr)\n",
    "        dict2.append(value)\n",
    "    df = df.append(dict(zip(dict1,dict2)),ignore_index=True)\n"
   ],
   "metadata": {
    "collapsed": false,
    "pycharm": {
     "name": "#%%\n"
    }
   }
  },
  {
   "cell_type": "code",
   "execution_count": 88,
   "outputs": [],
   "source": [
    "df.to_csv(r'E:\\OneDrive\\广新\\Poundex\\1.csv')"
   ],
   "metadata": {
    "collapsed": false,
    "pycharm": {
     "name": "#%%\n"
    }
   }
  },
  {
   "cell_type": "code",
   "execution_count": 15,
   "outputs": [
    {
     "name": "stdout",
     "output_type": "stream",
     "text": [
      "https://www.poundex.com/storage/products/November2019/0DQVjSm9h3tKEUiXtzs6.jpg\n"
     ]
    }
   ],
   "source": [
    "for img in img_list:\n",
    "    print(img['src'])"
   ],
   "metadata": {
    "collapsed": false,
    "pycharm": {
     "name": "#%%\n"
    }
   }
  },
  {
   "cell_type": "code",
   "execution_count": 17,
   "outputs": [],
   "source": [
    "\n",
    "image = requests.get(img['src'])\n",
    "f = open(r'E:\\OneDrive\\广新\\Poundex\\test.jpg','ab') #存储图片，多媒体文件需要参数b（二进制文件）\n",
    "f.write(image.content) #多媒体存储content\n",
    "f.close()"
   ],
   "metadata": {
    "collapsed": false,
    "pycharm": {
     "name": "#%%\n"
    }
   }
  },
  {
   "cell_type": "code",
   "execution_count": 43,
   "outputs": [],
   "source": [
    "import pandas\n",
    "df = pandas.read_csv(r'E:\\OneDrive\\广新\\Poundex\\Poundex数据^0分析_1228 - 副本.csv')"
   ],
   "metadata": {
    "collapsed": false,
    "pycharm": {
     "name": "#%%\n"
    }
   }
  },
  {
   "cell_type": "code",
   "execution_count": 44,
   "outputs": [
    {
     "name": "stdout",
     "output_type": "stream",
     "text": [
      "    Item_number      Item_name        catalog Unit Price  Quantity Subtotal  \\\n",
      "0        F9326Q      Queen Bed            Bed      $209          3    $627    \n",
      "1         F5481     Nightstand     Nightstand       $99          1     $99    \n",
      "2         F5482         Mirror         Mirror       $80          1     $80    \n",
      "3         F5483        Dresser        Dresser      $260          1    $260    \n",
      "4         F5484          Chest          Chest      $230          1    $230    \n",
      "..          ...            ...            ...        ...       ...      ...   \n",
      "106       F1523  Counter Stool  Counter Stool       $42          6    $252    \n",
      "107       F1624       Barstool       Barstool       $40          2     $80    \n",
      "108       F1565       Barstool       Barstool       $39          6    $234    \n",
      "109       F1554       Barstool       Barstool       $39          2     $78    \n",
      "110       F1553       Barstool       Barstool       $39          4    $156    \n",
      "\n",
      "           Date                                 link  \n",
      "0      2021/7/9  https://www.poundex.com/shop/F9326Q  \n",
      "1      2021/7/9   https://www.poundex.com/shop/F5481  \n",
      "2      2021/7/9   https://www.poundex.com/shop/F5482  \n",
      "3      2021/7/9   https://www.poundex.com/shop/F5483  \n",
      "4      2021/7/9   https://www.poundex.com/shop/F5484  \n",
      "..          ...                                  ...  \n",
      "106  2021/12/13   https://www.poundex.com/shop/F1523  \n",
      "107  2021/12/13   https://www.poundex.com/shop/F1624  \n",
      "108  2021/12/13   https://www.poundex.com/shop/F1565  \n",
      "109  2021/12/13   https://www.poundex.com/shop/F1554  \n",
      "110  2021/12/13   https://www.poundex.com/shop/F1553  \n",
      "\n",
      "[111 rows x 8 columns]\n"
     ]
    }
   ],
   "source": [
    "print(df)"
   ],
   "metadata": {
    "collapsed": false,
    "pycharm": {
     "name": "#%%\n"
    }
   }
  },
  {
   "cell_type": "code",
   "execution_count": 45,
   "outputs": [
    {
     "name": "stdout",
     "output_type": "stream",
     "text": [
      "['https://www.poundex.com/shop/F9326Q', 'https://www.poundex.com/shop/F5481', 'https://www.poundex.com/shop/F5482', 'https://www.poundex.com/shop/F5483', 'https://www.poundex.com/shop/F5484', 'https://www.poundex.com/shop/F4234', 'https://www.poundex.com/shop/F4235', 'https://www.poundex.com/shop/F9581F', 'https://www.poundex.com/shop/F4861', 'https://www.poundex.com/shop/F4862', 'https://www.poundex.com/shop/F4863', 'https://www.poundex.com/shop/F4864', 'https://www.poundex.com/shop/F1533', 'https://www.poundex.com/shop/F1531', 'https://www.poundex.com/shop/F86601', 'https://www.poundex.com/shop/F1205', 'https://www.poundex.com/shop/F2345', 'https://www.poundex.com/shop/F2461', 'https://www.poundex.com/shop/F1757', 'https://www.poundex.com/shop/F1756', 'https://www.poundex.com/shop/F2339', 'https://www.poundex.com/shop/F1144', 'https://www.poundex.com/shop/F2093', 'https://www.poundex.com/shop/F1078', 'https://www.poundex.com/shop/F2345', 'https://www.poundex.com/shop/F1205', 'https://www.poundex.com/shop/F2330', 'https://www.poundex.com/shop/F1572', 'https://www.poundex.com/shop/F2439', 'https://www.poundex.com/shop/F1809', 'https://www.poundex.com/shop/F2297', 'https://www.poundex.com/shop/F9579Q', 'https://www.poundex.com/shop/F5481', 'https://www.poundex.com/shop/F5482', 'https://www.poundex.com/shop/F5483', 'https://www.poundex.com/shop/F9350Q', 'https://www.poundex.com/shop/F6034', 'https://www.poundex.com/shop/F6278', 'https://www.poundex.com/shop/F6279', 'https://www.poundex.com/shop/F6280', 'https://www.poundex.com/shop/F6392', 'https://www.poundex.com/shop/F2605', 'https://www.poundex.com/shop/F2488', 'https://www.poundex.com/shop/F1789', 'https://www.poundex.com/shop/F1790', 'https://www.poundex.com/shop/F9211T', 'https://www.poundex.com/shop/F2552', 'https://www.poundex.com/shop/F6431', 'https://www.poundex.com/shop/F2488', 'https://www.poundex.com/shop/F1790', 'https://www.poundex.com/shop/F1789', 'https://www.poundex.com/shop/F86601', 'https://www.poundex.com/shop/F6391', 'https://www.poundex.com/shop/F6336', 'https://www.poundex.com/shop/F6337', 'https://www.poundex.com/shop/F6335', 'https://www.poundex.com/shop/F1557', 'https://www.poundex.com/shop/F1565', 'https://www.poundex.com/shop/F1558', 'https://www.poundex.com/shop/F1567', 'https://www.poundex.com/shop/F2484', 'https://www.poundex.com/shop/F1784', 'https://www.poundex.com/shop/F9584Q', 'https://www.poundex.com/shop/F5486', 'https://www.poundex.com/shop/F2605', 'https://www.poundex.com/shop/F9338EK', 'https://www.poundex.com/shop/F2093', 'https://www.poundex.com/shop/F1078', 'https://www.poundex.com/shop/F2461', 'https://www.poundex.com/shop/F1754', 'https://www.poundex.com/shop/F1755', 'https://www.poundex.com/shop/F1283', 'https://www.poundex.com/shop/F2207', 'https://www.poundex.com/shop/F9334CK', 'https://www.poundex.com/shop/F9336Q', 'https://www.poundex.com/shop/F9572T', 'https://www.poundex.com/shop/F9531CK', 'https://www.poundex.com/shop/F2488', 'https://www.poundex.com/shop/F1789', 'https://www.poundex.com/shop/F1790', 'https://www.poundex.com/shop/F2053', 'https://www.poundex.com/shop/F6431', 'https://www.poundex.com/shop/847', 'https://www.poundex.com/shop/F9313Q', 'https://www.poundex.com/shop/F6921', 'https://www.poundex.com/shop/F6923', 'https://www.poundex.com/shop/F6922', 'https://www.poundex.com/shop/F1567', 'https://www.poundex.com/shop/F2601', 'https://www.poundex.com/shop/F2543', 'https://www.poundex.com/shop/F2297', 'https://www.poundex.com/shop/F9459', 'https://www.poundex.com/shop/F9458', 'https://www.poundex.com/shop/F9313F', 'https://www.poundex.com/shop/F9331Q', 'https://www.poundex.com/shop/F9331F', 'https://www.poundex.com/shop/F9454', 'https://www.poundex.com/shop/845', 'https://www.poundex.com/shop/845', 'https://www.poundex.com/shop/F2564', 'https://www.poundex.com/shop/F1812', 'https://www.poundex.com/shop/F9572Q', 'https://www.poundex.com/shop/F9572F', 'https://www.poundex.com/shop/F9572T', 'https://www.poundex.com/shop/F3091', 'https://www.poundex.com/shop/F1437', 'https://www.poundex.com/shop/F1523', 'https://www.poundex.com/shop/F1624', 'https://www.poundex.com/shop/F1565', 'https://www.poundex.com/shop/F1554', 'https://www.poundex.com/shop/F1553']\n"
     ]
    }
   ],
   "source": [
    "print(df.link.tolist())"
   ],
   "metadata": {
    "collapsed": false,
    "pycharm": {
     "name": "#%%\n"
    }
   }
  },
  {
   "cell_type": "code",
   "execution_count": 46,
   "outputs": [],
   "source": [
    "item_num_list = df.Item_number.tolist()\n",
    "link_list = df.link.tolist()"
   ],
   "metadata": {
    "collapsed": false,
    "pycharm": {
     "name": "#%%\n"
    }
   }
  },
  {
   "cell_type": "code",
   "execution_count": null,
   "outputs": [],
   "source": [],
   "metadata": {
    "collapsed": false,
    "pycharm": {
     "name": "#%%\n"
    }
   }
  }
 ],
 "metadata": {
  "kernelspec": {
   "display_name": "Python 3",
   "language": "python",
   "name": "python3"
  },
  "language_info": {
   "codemirror_mode": {
    "name": "ipython",
    "version": 2
   },
   "file_extension": ".py",
   "mimetype": "text/x-python",
   "name": "python",
   "nbconvert_exporter": "python",
   "pygments_lexer": "ipython2",
   "version": "2.7.6"
  }
 },
 "nbformat": 4,
 "nbformat_minor": 0
}