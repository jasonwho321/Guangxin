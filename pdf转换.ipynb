{
 "cells": [
  {
   "cell_type": "code",
   "execution_count": 1,
   "metadata": {
    "collapsed": true
   },
   "outputs": [],
   "source": [
    "import pdfplumber"
   ]
  },
  {
   "cell_type": "code",
   "execution_count": 2,
   "outputs": [
    {
     "name": "stdout",
     "output_type": "stream",
     "text": [
      "{'fontname': 'VZQRKI+Arial-BoldMT', 'adv': 0.667, 'upright': True, 'x0': 101.9224, 'y0': 570.2305, 'x1': 113.9284, 'y1': 588.2305, 'width': 12.006, 'height': 18.0, 'size': 18.0, 'object_type': 'char', 'page_number': 1, 'stroking_color': None, 'non_stroking_color': (0, 0, 0, 1), 'text': 'P', 'top': 165.78549999999996, 'bottom': 183.78549999999996, 'doctop': 165.78549999999996}\n"
     ]
    }
   ],
   "source": [
    "with pdfplumber.open(r\"C:\\Users\\Admin\\Documents\\Tencent Files\\544409644\\FileRecv\\Poundex\\表格类\\210901 2022 Motion Collection .pdf\") as pdf:\n",
    "    first_page = pdf.pages[0]\n",
    "    print(first_page.chars[0])"
   ],
   "metadata": {
    "collapsed": false,
    "pycharm": {
     "name": "#%%\n"
    }
   }
  },
  {
   "cell_type": "code",
   "execution_count": null,
   "outputs": [],
   "source": [],
   "metadata": {
    "collapsed": false,
    "pycharm": {
     "name": "#%%\n"
    }
   }
  }
 ],
 "metadata": {
  "kernelspec": {
   "display_name": "Python 3",
   "language": "python",
   "name": "python3"
  },
  "language_info": {
   "codemirror_mode": {
    "name": "ipython",
    "version": 2
   },
   "file_extension": ".py",
   "mimetype": "text/x-python",
   "name": "python",
   "nbconvert_exporter": "python",
   "pygments_lexer": "ipython2",
   "version": "2.7.6"
  }
 },
 "nbformat": 4,
 "nbformat_minor": 0
}