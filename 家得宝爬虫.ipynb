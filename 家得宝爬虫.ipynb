{
 "cells": [
  {
   "cell_type": "code",
   "execution_count": 4,
   "metadata": {
    "collapsed": true
   },
   "outputs": [],
   "source": [
    "import random\n",
    "import pandas as pd\n",
    "import requests\n",
    "from bs4 import BeautifulSoup\n",
    "# 导库\n",
    "\n",
    "session = requests.session()\n",
    "# 建请求对话\n",
    "\n",
    "# 请求头\n",
    "user_agent_list = ['Mozilla/5.0 (X11; Linux x86_64) AppleWebKit/537.36 (KHTML, like Gecko) Chrome/67.0.3396.99 Safari/537.36',\n",
    "                    \"Mozilla/5.0 (Windows NT 10.0; WOW64) AppleWebKit/537.36 (KHTML, like Gecko) Chrome/67.0.3396.99 Safari/537.36\",\n",
    "                    \"Mozilla/5.0 (Windows NT 10.0; WOW64) AppleWebKit/537.36 (KHTML, like Gecko) Chrome/64.0.3282.186 Safari/537.36\",\n",
    "                    \"Mozilla/5.0 (X11; Linux x86_64) AppleWebKit/537.36 (KHTML, like Gecko) Chrome/62.0.3202.62 Safari/537.36\",\n",
    "                    \"Mozilla/5.0 (Windows NT 6.1; WOW64) AppleWebKit/537.36 (KHTML, like Gecko) Chrome/45.0.2454.101 Safari/537.36\",\n",
    "                    \"Mozilla/5.0 (Macintosh; U; PPC Mac OS X 10.5; en-US; rv:1.9.2.15) Gecko/20110303 Firefox/3.6.15\",\n",
    "                    ]\n"
   ]
  },
  {
   "cell_type": "code",
   "execution_count": 7,
   "outputs": [],
   "source": [
    "payload= '{\"operationName\":\"productClientOnlyProduct\",\"variables\":{\"skipSpecificationGroup\":false,\"skipSubscribeAndSave\":false,\"skipKPF\":false,\"itemId\":\"315966218\",\"storeId\":\"1710\",\"zipCode\":\"96913\"},\"query\":\"query productClientOnlyProduct($itemId: String!, $dataSource: String, $loyaltyMembershipInput: LoyaltyMembershipInput, $storeId: String, $skipSpecificationGroup: Boolean = false, $zipCode: String, $skipSubscribeAndSave: Boolean = false, $skipKPF: Boolean = false) {\\n  product(itemId: $itemId, dataSource: $dataSource, loyaltyMembershipInput: $loyaltyMembershipInput) {\\n    itemId\\n    dataSources\\n    identifiers {\\n      canonicalUrl\\n      brandName\\n      itemId\\n      modelNumber\\n      productLabel\\n      storeSkuNumber\\n      upcGtin13\\n      specialOrderSku\\n      toolRentalSkuNumber\\n      rentalCategory\\n      rentalSubCategory\\n      upc\\n      productType\\n      isSuperSku\\n      parentId\\n      roomVOEnabled\\n      sampleId\\n      __typename\\n    }\\n    availabilityType {\\n      discontinued\\n      status\\n      type\\n      buyable\\n      __typename\\n    }\\n    details {\\n      description\\n      collection {\\n        url\\n        collectionId\\n        __typename\\n      }\\n      highlights\\n      descriptiveAttributes {\\n        name\\n        value\\n        bulleted\\n        sequence\\n        __typename\\n      }\\n      infoAndGuides {\\n        name\\n        url\\n        __typename\\n      }\\n      installation {\\n        leadGenUrl\\n        __typename\\n      }\\n      __typename\\n    }\\n    media {\\n      images {\\n        url\\n        type\\n        subType\\n        sizes\\n        __typename\\n      }\\n      video {\\n        shortDescription\\n        thumbnail\\n        url\\n        videoStill\\n        link {\\n          text\\n          url\\n          __typename\\n        }\\n        title\\n        type\\n        videoId\\n        longDescription\\n        __typename\\n      }\\n      threeSixty {\\n        id\\n        url\\n        __typename\\n      }\\n      augmentedRealityLink {\\n        usdz\\n        image\\n        __typename\\n      }\\n      richContent {\\n        content\\n        __typename\\n      }\\n      __typename\\n    }\\n    pricing(storeId: $storeId) {\\n      promotion {\\n        dates {\\n          end\\n          start\\n          __typename\\n        }\\n        type\\n        description {\\n          shortDesc\\n          longDesc\\n          __typename\\n        }\\n        dollarOff\\n        percentageOff\\n        savingsCenter\\n        savingsCenterPromos\\n        specialBuySavings\\n        specialBuyDollarOff\\n        specialBuyPercentageOff\\n        experienceTag\\n        subExperienceTag\\n        anchorItemList\\n        itemList\\n        reward {\\n          tiers {\\n            minPurchaseAmount\\n            minPurchaseQuantity\\n            rewardPercent\\n            rewardAmountPerOrder\\n            rewardAmountPerItem\\n            rewardFixedPrice\\n            __typename\\n          }\\n          __typename\\n        }\\n        nvalues\\n        __typename\\n      }\\n      value\\n      alternatePriceDisplay\\n      alternate {\\n        bulk {\\n          pricePerUnit\\n          thresholdQuantity\\n          value\\n          __typename\\n        }\\n        unit {\\n          caseUnitOfMeasure\\n          unitsOriginalPrice\\n          unitsPerCase\\n          value\\n          __typename\\n        }\\n        __typename\\n      }\\n      original\\n      mapAboveOriginalPrice\\n      message\\n      preferredPriceFlag\\n      specialBuy\\n      unitOfMeasure\\n      __typename\\n    }\\n    reviews {\\n      ratingsReviews {\\n        averageRating\\n        totalReviews\\n        __typename\\n      }\\n      __typename\\n    }\\n    seo {\\n      seoKeywords\\n      seoDescription\\n      __typename\\n    }\\n    specificationGroup @skip(if: $skipSpecificationGroup) {\\n      specifications {\\n        specName\\n        specValue\\n        __typename\\n      }\\n      specTitle\\n      __typename\\n    }\\n    taxonomy {\\n      breadCrumbs {\\n        label\\n        url\\n        browseUrl\\n        creativeIconUrl\\n        deselectUrl\\n        dimensionName\\n        refinementKey\\n        __typename\\n      }\\n      brandLinkUrl\\n      __typename\\n    }\\n    favoriteDetail {\\n      count\\n      __typename\\n    }\\n    info {\\n      hidePrice\\n      ecoRebate\\n      quantityLimit\\n      sskMin\\n      sskMax\\n      unitOfMeasureCoverage\\n      wasMaxPriceRange\\n      wasMinPriceRange\\n      fiscalYear\\n      productDepartment\\n      classNumber\\n      paintBrand\\n      dotComColorEligible\\n      label\\n      prop65Warning\\n      returnable\\n      globalCustomConfigurator {\\n        customButtonText\\n        customDescription\\n        customExperience\\n        customExperienceUrl\\n        customTitle\\n        __typename\\n      }\\n      recommendationFlags {\\n        reqItems\\n        visualNavigation\\n        __typename\\n      }\\n      replacementOMSID\\n      hasSubscription\\n      minimumOrderQuantity\\n      projectCalculatorEligible\\n      subClassNumber\\n      calculatorType\\n      isLiveGoodsProduct\\n      protectionPlanSku\\n      hasServiceAddOns\\n      __typename\\n    }\\n    fulfillment(storeId: $storeId, zipCode: $zipCode) {\\n      backordered\\n      fulfillmentOptions {\\n        type\\n        services {\\n          type\\n          locations {\\n            isAnchor\\n            inventory {\\n              isLimitedQuantity\\n              isOutOfStock\\n              isInStock\\n              quantity\\n              isUnavailable\\n              maxAllowedBopisQty\\n              minAllowedBopisQty\\n              __typename\\n            }\\n            type\\n            storeName\\n            locationId\\n            curbsidePickupFlag\\n            isBuyInStoreCheckNearBy\\n            distance\\n            state\\n            storePhone\\n            __typename\\n          }\\n          deliveryTimeline\\n          deliveryDates {\\n            startDate\\n            endDate\\n            __typename\\n          }\\n          deliveryCharge\\n          dynamicEta {\\n            hours\\n            minutes\\n            __typename\\n          }\\n          hasFreeShipping\\n          freeDeliveryThreshold\\n          totalCharge\\n          __typename\\n        }\\n        fulfillable\\n        __typename\\n      }\\n      anchorStoreStatus\\n      anchorStoreStatusType\\n      backorderedShipDate\\n      bossExcludedShipStates\\n      sthExcludedShipState\\n      bossExcludedShipState\\n      excludedShipStates\\n      seasonStatusEligible\\n      onlineStoreStatus\\n      onlineStoreStatusType\\n      inStoreAssemblyEligible\\n      __typename\\n    }\\n    sizeAndFitDetail {\\n      attributeGroups {\\n        attributes {\\n          attributeName\\n          dimensions\\n          __typename\\n        }\\n        dimensionLabel\\n        productType\\n        __typename\\n      }\\n      __typename\\n    }\\n    subscription @skip(if: $skipSubscribeAndSave) {\\n      defaultfrequency\\n      discountPercentage\\n      subscriptionEnabled\\n      __typename\\n    }\\n    badges(storeId: $storeId) {\\n      label\\n      color\\n      creativeImageUrl\\n      endDate\\n      message\\n      name\\n      timerDuration\\n      timer {\\n        timeBombThreshold\\n        daysLeftThreshold\\n        dateDisplayThreshold\\n        message\\n        __typename\\n      }\\n      __typename\\n    }\\n    keyProductFeatures @skip(if: $skipKPF) {\\n      keyProductFeaturesItems {\\n        features {\\n          name\\n          refinementId\\n          refinementUrl\\n          value\\n          __typename\\n        }\\n        __typename\\n      }\\n      __typename\\n    }\\n    seoDescription\\n    installServices {\\n      scheduleAMeasure\\n      __typename\\n    }\\n    dataSource\\n    __typename\\n  }\\n}\\n\"}'"
   ],
   "metadata": {
    "collapsed": false,
    "pycharm": {
     "name": "#%%\n"
    }
   }
  },
  {
   "cell_type": "code",
   "execution_count": 9,
   "outputs": [],
   "source": [
    "cookie = 'THD_PERSIST=; THD_CACHE_NAV_PERSIST=; thda.u=d392b489-c59b-4eea-c2ab-09c54da1577f; _pxvid=34fce803-7914-11ec-bfeb-71687746656b; _px_f394gi7Fvmc43dfg_user_id=MzUzYjUzNzAtNzkxNC0xMWVjLTkxNjAtMDEyNDAxZjA1NDNi; ajs_user_id=null; ajs_group_id=null; ajs_anonymous_id=\"b5c3b571-9bd5-4561-a250-948f87f62402\"; _meta_bing_beaconFired=true; _meta_facebookPixel_beaconFired=true; _meta_metarouter_timezone_offset=-480; _meta_neustar_mcvisid=17087557493330346111461182776715250707; _meta_googleFloodlight_beaconFired=true; _gcl_au=1.1.269151899.1642588825; _meta_amobee_uid=2618271016735112706; _meta_xandr_uid=7697000641327932864; _meta_xandr_uid2=uuid2=7697000641327932864; _ga=GA1.2.1536024892.1642588826; aam_mobile=seg=1131078; aam_uuid=17164043407204864061450287817287246438; _meta_mediaMath_mm_id=f91861e7-c30b-4801-8922-190a3a609375; _meta_mediaMath_cid=f91861e7-c30b-4801-8922-190a3a609375; _meta_acuityAds_auid=640319901485; _meta_acuityAds_cauid=auid=640319901485; trx=4797934519760740573; _meta_revjet_revjet_vid=4797934519760740573; QuantumMetricUserID=cbc3f84e0db4352fa52a2d1cc787c443; LPVID=VkNTBhNTU5MmQ4NmI4MTMy; _meta_adobe_aam_uuid=17164043407204864061450287817287246438; _meta_google_ga=1536024892.1642588826; _meta_google_cookie_ga=GA1.2.1536024892.1642588826; _meta_google_cookie_gid=GA1.2.2110377199.1642588826; _meta_neustar_aam=17164043407204864061450287817287246438; DELIVERY_ZIP=14150; DELIVERY_ZIP_TYPE=USER; _meta_mediaMath_iframe_counter=5; AKA_A2=A; HD_DC=origin; _abck=B554E07E6B451823906D3E51D725BF4E~0~YAAQtto4fbhV1YB+AQAA0S05nwexrQ/Xpr5ougAX9m/GhUOpAjDaYWKlItgoLU6jFhWbF+4MtEKRTtiLWrO3wfw9jj4nYdoDyGkN2vpuP6Vi3oc+4h3bsXFeo5P7nTSWkYL8n4wqM4lrNuKxIsAsRAqiPs8GFm8Vr+XJlpfvfFeZhPXwSTWEy83NZP38kRs+sJDZGvlweos4rObMzRNNiWx6Iczqd1V35NCY8vaz97esXvDjZ+gfT1moRJeEk1DIJF0zoCfO2WxogoHGhb9m2Q3oz2Y9s64CLSfygEqnWmx5KTJ86Ogf+V0kcoFdjSzk5wLfZhKKlpiMzg7Eg/xIanb9xfAXpTV/Cr2Zb0tGXB60Q6Gjo5q4kPzasdGwk4L01dWE9Rk5xirpjHWLTKYn4ktpZCr+aJ4j15xu~-1~-1~-1; bm_sz=358297FF8DD0F7E1579C0CF3E3FBC7F6~YAAQtto4fbpV1YB+AQAA0S05nw78Ja5EBLP+0/g2WkSPls3V97+su2erU7pzU621dHi6OUMtto1vxpn6a82ooliwV0oPwCdaX16BxN9c/jM/Yt/D+xKwFebYN6xMMs68/3p/nUMi//nIAxX0BC+UCeHRwwfDuPQ/rYSsUGSCzCnqUMO9UrXuzsC+2TAzSVC3PKs4W6yqLtA9fbbHEOFJ1RKTb2Xz2+h6QL0ls628KHtyABpcZij5JkPb8l6K8SRUK9juDQqYJ3awl8PfVaVr5V4ca/CFCbVLgWA3T/a7onMGDiu+M58=~3552311~3159352; THD_NR=1; at_check=true; AMCV_F6421253512D2C100A490D45@AdobeOrg=1585540135|MCIDTS|19021|MCMID|17087557493330346111461182776715250707|MCAAMLH-1643953632|11|MCAAMB-1643953632|RKhpRz8krg2tLO6pguXWp5olkAcUniQYPHaMWWgdJ3xzPWQmdj0y|MCOPTOUT-1643356032s|NONE|MCCIDH|-2127700447|vVersion|4.4.0; AMCVS_F6421253512D2C100A490D45@AdobeOrg=1; THD_CACHE_NAV_SESSION=; THD_SESSION=; x-ttsearch=ranking_model2; THD_LOCALIZER={\"WORKFLOW\":\"GEO_LOCATION\",\"THD_FORCE_LOC\":\"1\",\"THD_INTERNAL\":\"0\",\"THD_LOCSTORE\":\"1710+Guam - Tamuning - Tamuning, GU+\",\"THD_STRFINDERZIP\":\"96913\",\"THD_STORE_HOURS\":\"1;7:00-20:00;2;6:00-22:00;3;6:00-22:00;4;6:00-22:00;5;6:00-22:00;6;6:00-22:00;7;6:00-22:00\",\"THD_STORE_HOURS_EXPIRY\":1643352434}; thda.s=5bc3222f-3b69-eb7f-160b-76451edba41a; ak_bmsc=42D4B48D8746FE8119AE450961B19E5B~000000000000000000000000000000~YAAQtto4fexV1YB+AQAALjU5nw6TNBtLiPQVizbTL0CcAbKDk29g9wMCUQ4lcxibgCdQWoo9vHlSaFhqY+JrIOfcw5yXn4wKo0BTNHL648f3Zf1EnrmkcIlRKH0erjLPg736+uWGXxeHg/UvyX3jPP+LpIiygTKgNgV68MpKyEM/SayZN+SAK7BK6mc3QH3zdpvyPbiC+wvg+ULGpobreIu6CIm/fBZIrLXkMscw4tE3E+F9yUKP5O+shYYtR3V3IqehNn5Czx9JXFsfxDwkG7sl4IHpyYMR3/Njp/kGWSBenMiS90DJjvfo5UG0dG3PlT+rrD4BkIbdw2CLxDXC4wZMDqHnRNJeGYUa7u/jRUUElQxqQDwIWt9EbgcJtSQYNgFcMCopgt/PotiKY0Vv2PJYkXr65HjmACWyqOGKlquPvd7lEzaGaYo4Z6vK1q/NFaeLkepWDG3egAWIMoPyL+11qIe5az9JeYx4myqqRqk/hGVI5gVbqCX7t2c=; _meta_movableInk_mi_u=b5c3b571-9bd5-4561-a250-948f87f62402; thda.m=17087557493330346111461182776715250707; _gid=GA1.2.841486709.1643348836; QuantumMetricSessionID=baf728985b63cde1cfbf949f5ad3db29; LPSID-31564604=hdRumfKoRIy3QXIzfdAIXg; s_sq=[[B]]; _px=Z/djvppAycI8u8xPsMDyFLiFS0DLuAJ7p6ffQDGV3QvsIdaH8EQRppgUJqMRDYa+Qj/BIJNW9NVk7EzMZbdh9w==:1000:yQ8rRU1FryI/L30sHulwWIPlfJDah6nTIHO9BBevTLU2u/c28siiC5ZQFjRPZoAN5fJm0peC+9o5ke5HwXy2sMKWCSq8ITB6N/T9MLscLXIPq5bIERWhDu3aCd+f1Kh2X5N4N5IIBaw4dkeeVHjncqebPfWdeQg22Nw858+woc92QTkbfCIR2fE3gKa0xYUVx7e1u17+CMcXNiVQL+ZrRdplmn2o0LRTPnkKgzXBGdeP+QQOSHB0CMnPGPRGyU8WXJu9OHP4D5BIhjvOn/Kd4g==; ads=8e50d441488ae2856b2b30690a221a2f; forterToken=1bf79a5d6ec64255a4dbd1ff267c565a_1643349630019__UDF43_13ck; s_pers= productnum=1|1645181205157; s_nr365=1643349630469-Repeat|1674885630469; s_dslv=1643349630475|1737957630475;; s_sess= s_pv_pName=productdetails%3E315966299; s_pv_pType=pip; s_pv_cmpgn=; s_pv_pVer=hd%20home%20v1; stsh=; s_cc=true;; QSI_HistorySession=https://www.homedepot.com/p/StyleWell-Beckridge-Walnut-Wood-Upholstered-Bar-Stool-with-Tufted-Back-Light-Blue-Seat-Set-of-2-18-11-in-W-x-46-06-in-H-Lunon-HB-WA/309041938?NCNI-5~1643349497425|https://www.homedepot.com/p/StyleWell-Blairmore-Charleston-Blue-Upholstered-Accent-Chair-153/315966299~1643349630771; akaau=1643350220~id=f3443a5d644869d50cf8bde19546c29d; RT=\"z=1&dm=www.homedepot.com&si=daa8ec86-0a57-466b-95ed-feb9be731beb&ss=kyxzgpfw&sl=4&tt=2lv&obo=3&rl=1\"; IN_STORE_API_SESSION=TRUE; _pxde=a8c808d37b1201701b30587001e167d0c6310cd2341cda9a0e306c8f2e5906e6:eyJ0aW1lc3RhbXAiOjE2NDMzNDk5MjA3NjB9; mbox=PC#32774f74c51342f5948500b2a0bca13e.32_0#1706594722|session#a4b9d7692fc843dc9bcba201f0e05d0e#1643350693'"
   ],
   "metadata": {
    "collapsed": false,
    "pycharm": {
     "name": "#%%\n"
    }
   }
  },
  {
   "cell_type": "code",
   "execution_count": 13,
   "outputs": [],
   "source": [
    "referer = 'https://www.homedepot.com/p/Home-Decorators-Collection-Greenlee-Charcoal-Upholstered-Accent-Chair-172/315966218'"
   ],
   "metadata": {
    "collapsed": false,
    "pycharm": {
     "name": "#%%\n"
    }
   }
  },
  {
   "cell_type": "code",
   "execution_count": 22,
   "outputs": [
    {
     "name": "stdout",
     "output_type": "stream",
     "text": [
      "<html><body><p>{\"timestamp\":\"2022-01-28T07:17:36.684+00:00\",\"path\":\"/federation-gateway/graphql\",\"status\":403,\"error\":\"Forbidden\",\"requestId\":\"c0d2eb5e-4\"}</p></body></html>\n"
     ]
    }
   ],
   "source": [
    "import json\n",
    "# 浏览器模拟组，随机选取\n",
    "link_list = []\n",
    "req_header = {\n",
    "    'User-Agent':'Mozilla/5.0 (X11; Linux x86_64) AppleWebKit/537.36 (KHTML, like Gecko) Chrome/67.0.3396.99 Safari/537.36',\n",
    "}\n",
    "# 建好空白网址list，用来写入网址\n",
    "# for p in range(5):\n",
    "# 网页循环\n",
    "req_header['User-Agent'] = random.choice(user_agent_list)\n",
    "req_header['content-type'] = 'application/json'\n",
    "req_header['referer'] = referer\n",
    "req_header['origin'] = 'https://www.homedepot.com'\n",
    "# print('正在循环第'+str(p+1)+'页')\n",
    "url = 'https://www.homedepot.com/federation-gateway/graphql?opname=productClientOnlyProduct'\n",
    "response = session.post(url,headers=req_header,data = json.dumps(payload))\n",
    "# 获取内容\n",
    "response.encoding = 'gbk'\n",
    "soup = BeautifulSoup(response.text)\n",
    "print(soup)"
   ],
   "metadata": {
    "collapsed": false,
    "pycharm": {
     "name": "#%%\n"
    }
   }
  },
  {
   "cell_type": "code",
   "execution_count": null,
   "outputs": [],
   "source": [
    "# 解析\n",
    "tl = soup.find_all(class_ = 'thumb-link')\n",
    "# 查找\n",
    "for t in range(len(tl)):\n",
    "\n",
    "    link = tl[t]['href']\n",
    "    link_list.append([link])\n",
    "    # 记录\n",
    "df = pd.DataFrame(link_list,columns=['网址'])\n",
    "df.to_csv(r'E:\\OneDrive\\广新\\link.csv')\n",
    "# 写入网址，并保存，使用前记得修改"
   ],
   "metadata": {
    "collapsed": false,
    "pycharm": {
     "name": "#%%\n"
    }
   }
  },
  {
   "cell_type": "markdown",
   "source": [
    "按网址循环，搜索信息"
   ],
   "metadata": {
    "collapsed": false,
    "pycharm": {
     "name": "#%% md\n"
    }
   }
  },
  {
   "cell_type": "code",
   "execution_count": null,
   "outputs": [],
   "source": [
    "name_list = []\n",
    "productID_list = []\n",
    "price_standard_list = []\n",
    "sale_price_list = []\n",
    "TTavgRate_list = []\n",
    "TTreviewCount_list = []\n",
    "for i,r in df.iterrows():\n",
    "    print(r['网址'])\n",
    "    req_header['User-Agent'] = random.choice(user_agent_list)\n",
    "    url = r['网址']\n",
    "    response = session.get(url,headers=req_header)\n",
    "    response.encoding = 'gbk'\n",
    "    soup = BeautifulSoup(response.text)\n",
    "    con = soup.find(id='product-content')\n",
    "    # 解析信息\n",
    "    name = con.find(itemprop='name').text\n",
    "    productID = con.find(itemprop='productID').text\n",
    "    try:\n",
    "        sale_price = con.find(class_=\"sales-price\").text\n",
    "    except:\n",
    "        sale_price = con.find(class_=\"sale-price\").text\n",
    "    try:\n",
    "        price_standard = con.find(class_=\"price-standard\").text\n",
    "    except:\n",
    "        price_standard = sale_price\n",
    "    # 评论链接\n",
    "    url1 = 'https://www.ashleyfurniture.com/on/demandware.store/Sites-Ashley-US-Site/default/Product-Review?showReviews=true&pid='+productID\n",
    "    response1 = session.get(url1,headers=req_header)\n",
    "    response1.encoding = 'gbk'\n",
    "    soup1 = BeautifulSoup(response1.text)\n",
    "    try:\n",
    "        TTavgRate = soup1.find(class_='TTavgRate').text\n",
    "        TTreviewCount = soup1.find(class_='TTreviewCount').text\n",
    "    except:\n",
    "        TTavgRate=0\n",
    "        TTreviewCount=0\n",
    "    # 写入列表\n",
    "    name_list.append(name)\n",
    "    productID_list.append(productID)\n",
    "    price_standard_list.append(price_standard)\n",
    "    sale_price_list.append(sale_price)\n",
    "    TTavgRate_list.append(TTavgRate)\n",
    "    TTreviewCount_list.append(TTreviewCount)"
   ],
   "metadata": {
    "collapsed": false,
    "pycharm": {
     "name": "#%%\n"
    }
   }
  },
  {
   "cell_type": "markdown",
   "source": [
    "写入信息，并保存，使用前修改地址"
   ],
   "metadata": {
    "collapsed": false,
    "pycharm": {
     "name": "#%% md\n"
    }
   }
  },
  {
   "cell_type": "code",
   "execution_count": null,
   "outputs": [],
   "source": [
    "df[\"name\"]=name_list\n",
    "df[\"productID\"]=productID_list\n",
    "df[\"price_standard\"]=price_standard_list\n",
    "df[\"sale_price\"] = sale_price_list\n",
    "df[\"avgRate\"] = TTavgRate_list\n",
    "df[\"reviewCount\"] = TTreviewCount_list\n",
    "df.to_csv(r'E:\\OneDrive\\广新\\Poundex\\1.csv')\n"
   ],
   "metadata": {
    "collapsed": false,
    "pycharm": {
     "name": "#%%\n"
    }
   }
  }
 ],
 "metadata": {
  "kernelspec": {
   "display_name": "Python 3",
   "language": "python",
   "name": "python3"
  },
  "language_info": {
   "codemirror_mode": {
    "name": "ipython",
    "version": 2
   },
   "file_extension": ".py",
   "mimetype": "text/x-python",
   "name": "python",
   "nbconvert_exporter": "python",
   "pygments_lexer": "ipython2",
   "version": "2.7.6"
  }
 },
 "nbformat": 4,
 "nbformat_minor": 0
}