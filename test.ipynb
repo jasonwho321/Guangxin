{
 "cells": [
  {
   "cell_type": "code",
   "execution_count": 43,
   "outputs": [
    {
     "name": "stdout",
     "output_type": "stream",
     "text": [
      "{'object': 'list', 'results': [{'object': 'page', 'id': '6685e37e-fa62-427f-aa2d-d28bd8e22a41', 'created_time': '2022-10-19T10:40:00.000Z', 'last_edited_time': '2022-10-26T07:52:00.000Z', 'created_by': {'object': 'user', 'id': 'feed7a92-be24-4351-b50f-2fae861d445d'}, 'last_edited_by': {'object': 'user', 'id': 'e5eb5fda-2756-4e1f-a7b3-1f4ac4161b00'}, 'cover': None, 'icon': None, 'parent': {'type': 'database_id', 'database_id': '06d9339b-bd8f-48e5-9dc7-d77f5a9ae1e8'}, 'archived': False, 'properties': {'预计完成时间': {'id': '%40%5C%40B', 'type': 'date', 'date': {'start': '2022-10-26', 'end': None, 'time_zone': None}}, '创建时间': {'id': 'FMx%3E', 'type': 'created_time', 'created_time': '2022-10-19T10:40:00.000Z'}, '进展记录': {'id': 'Hqm%3B', 'type': 'rich_text', 'rich_text': [{'type': 'text', 'text': {'content': '221025测试3', 'link': None}, 'annotations': {'bold': False, 'italic': False, 'strikethrough': False, 'underline': False, 'code': False, 'color': 'default'}, 'plain_text': '221025测试3', 'href': None}]}, '优先级': {'id': 'Jzsr', 'type': 'select', 'select': {'id': '23ad89e4-4783-49ff-a789-35e4599abbfe', 'name': '中优先级', 'color': 'blue'}}, '实际工时(天)': {'id': '%5C%3AHo', 'type': 'number', 'number': 0.5}, '预期工时(天)': {'id': '%5ENcQ', 'type': 'number', 'number': 2}, '对接人': {'id': 'dRAQ', 'type': 'select', 'select': {'id': '02a6b0cf-79d7-419d-8d14-940996585fdb', 'name': 'Vanessa', 'color': 'orange'}}, '更新时间': {'id': 'e%40%5Db', 'type': 'last_edited_time', 'last_edited_time': '2022-10-26T07:52:00.000Z'}, '坚果云地址': {'id': 'ioNi', 'type': 'url', 'url': None}, '任务描述': {'id': 'kGcS', 'type': 'rich_text', 'rich_text': []}, '版块': {'id': 'p%3D%3E%7C', 'type': 'select', 'select': {'id': 'HDtq', 'name': '财务类', 'color': 'gray'}}, '进度': {'id': 'siF%7D', 'type': 'number', 'number': None}, '是否完成': {'id': 'skFo', 'type': 'status', 'status': {'id': '0ed43941-1073-4ba7-882a-61bc13fe791b', 'name': '进行中', 'color': 'blue'}}, '任务名': {'id': 'title', 'type': 'title', 'title': [{'type': 'text', 'text': {'content': '财务Payment-自动化流程', 'link': None}, 'annotations': {'bold': False, 'italic': False, 'strikethrough': False, 'underline': False, 'code': False, 'color': 'default'}, 'plain_text': '财务Payment-自动化流程', 'href': None}]}}, 'url': 'https://www.notion.so/Payment-6685e37efa62427faa2dd28bd8e22a41'}], 'next_cursor': None, 'has_more': False, 'type': 'page', 'page': {}}\n",
      "{'id': '6685e37e-fa62-427f-aa2d-d28bd8e22a41', '任务名': '财务Payment-自动化流程', 'working_days': 0.5, 'progress': '0'}\n"
     ]
    }
   ],
   "source": [
    "\n",
    "# 设置变量表单项的变量会被预置到一个名为 bundle['inputData'] 的对象中，\n",
    "# 例如 bundle['inputData']['name'] 就可以访问到变量 name\n",
    "# output 是此节点能够识别的输出，如果不对它赋值，程序可能异常或非预期\n",
    "import requests\n",
    "import json\n",
    "def get_id_database(title):\n",
    "    payload_query = {\"filter\": {\"property\": \"任务名\", \"title\":{\"equals\":title}}}\n",
    "    base_url = \"https://api.notion.com/v1/databases/\"\n",
    "    Database_ID = '06d9339bbd8f48e59dc7d77f5a9ae1e8'\n",
    "    headers = {\n",
    "        \"Authorization\": \"secret_O0Hh83N3sInLqbpEn0TocYNNQpjkU8mrrLBre3ab3yM\",\n",
    "        \"accept\": \"application/json\",\n",
    "        \"Notion-Version\": \"2022-06-28\",\n",
    "    }\n",
    "    response = requests.post(base_url + Database_ID + \"/query\", headers=headers, json=payload_query)\n",
    "    jst = json.loads(response.text)\n",
    "    print(jst)\n",
    "    id = jst['results'][0]['id']\n",
    "    working_days = jst['results'][0]['properties']['实际工时(天)']['number']\n",
    "    if not jst['results'][0]['properties']['进展记录']['rich_text']:\n",
    "        progress = 0\n",
    "    else:\n",
    "        progress = jst['results'][0]['properties']['进展记录']['rich_text'][0]['plain_text']\n",
    "    if working_days is None:\n",
    "        working_day = 0\n",
    "    return {'id':id,'任务名':title,'working_days':working_days,'progress':progress}\n",
    "\n",
    "output=get_id_database('财务Payment-自动化流程')\n",
    "print(output)"
   ],
   "metadata": {
    "collapsed": false
   }
  },
  {
   "cell_type": "code",
   "execution_count": 42,
   "outputs": [],
   "source": [
    "bundle = {'inputData':{'working_days':0,'status':'未启动','id':'6685e37e-fa62-427f-aa2d-d28bd8e22a41','progress':'0','task_content':'测试3','date':'221025'}}\n",
    "import requests\n",
    "working_days = bundle['inputData']['working_days']\n",
    "Page_ID = bundle['inputData']['id']\n",
    "progress = bundle['inputData']['progress']\n",
    "task_content = bundle['inputData']['task_content']\n",
    "date = bundle['inputData']['date']\n",
    "base_url = \"https://api.notion.com/v1/pages/\"\n",
    "if progress == '0' and task_content is None:\n",
    "    content = ''\n",
    "elif progress == '0' and task_content is not None:\n",
    "    content = date+task_content\n",
    "elif progress != '0' and task_content is not None:\n",
    "    content = progress+'\\n'+date+task_content\n",
    "else:\n",
    "    content = progress\n",
    "\n",
    "headers = {\n",
    "    \"Authorization\": \"secret_O0Hh83N3sInLqbpEn0TocYNNQpjkU8mrrLBre3ab3yM\",\n",
    "    \"accept\": \"application/json\",\n",
    "    \"content-type\": \"application/json\",\n",
    "    \"Notion-Version\": \"2022-06-28\",\n",
    "}\n",
    "payload = {\n",
    "    \"properties\": {\n",
    "        '实际工时(天)': {\n",
    "            \"number\": float(working_days)+0.5\n",
    "        },'是否完成':{\n",
    "            \"status\": {'id': '0ed43941-1073-4ba7-882a-61bc13fe791b', 'name': '进行中', 'color': 'blue'}\n",
    "        },'进展记录':{'id': 'Hqm%3B', 'type': 'rich_text', 'rich_text': [{'type': 'text', 'text': {'content': content, 'link': None}, 'annotations': {'bold': False, 'italic': False, 'strikethrough': False, 'underline': False, 'code': False, 'color': 'default'}, 'plain_text': content, 'href': None}]}\n",
    "    }\n",
    "}\n",
    "response = requests.patch(url=base_url + Page_ID, headers=headers,json=payload)\n",
    "output={'working_days':working_days}"
   ],
   "metadata": {
    "collapsed": false
   }
  },
  {
   "cell_type": "code",
   "execution_count": 8,
   "outputs": [
    {
     "name": "stdout",
     "output_type": "stream",
     "text": [
      "{'options': [{'task_优先级': 5, 'task_任务名': 'WF爬虫2.0_新增库存信息'}, {'task_优先级': 3, 'task_任务名': '财务Payment-自动化流程'}, {'task_优先级': 1, 'task_任务名': '仓库的数据输出'}, {'task_优先级': 1, 'task_任务名': '爬取零售价的价位区间'}, {'task_优先级': 1, 'task_任务名': '仓储费用计算'}]}\n"
     ]
    }
   ],
   "source": [
    "import requests\n",
    "import json\n",
    "payload = {\"filter\": {\"or\":[{\"property\": \"是否完成\", \"status\":{\"equals\":\"进行中\"}},{\"property\": \"是否完成\", \"status\":{\"equals\":\"未启动\"}}]}}\n",
    "base_url = \"https://api.notion.com/v1/databases/\"\n",
    "Database_ID = '06d9339bbd8f48e59dc7d77f5a9ae1e8'\n",
    "headers = {\n",
    "    \"Authorization\": \"secret_O0Hh83N3sInLqbpEn0TocYNNQpjkU8mrrLBre3ab3yM\",\n",
    "    \"accept\": \"application/json\",\n",
    "    \"Notion-Version\": \"2022-06-28\",\n",
    "}\n",
    "response = requests.post(base_url + Database_ID + \"/query\", headers=headers, json=payload)\n",
    "jst = json.loads(response.text)\n",
    "title_list_all = {\"options\":[]}\n",
    "num = 1\n",
    "for i in jst['results']:\n",
    "    title_list={}\n",
    "    if i['properties']['优先级']['select']['name']=='高优先级':\n",
    "        title_list['task_优先级']=5\n",
    "    elif i['properties']['优先级']['select']['name']=='中优先级':\n",
    "        title_list['task_优先级']=3\n",
    "    elif i['properties']['优先级']['select']['name']=='低优先级':\n",
    "        title_list['task_优先级']=1\n",
    "    else:\n",
    "        title_list['task_优先级']=0\n",
    "    title_list['task_任务名']=i['properties']['任务名']['title'][0]['text']['content']\n",
    "    title_list_all[\"options\"].append(title_list)\n",
    "    num+=1\n",
    "title_list_all[\"options\"].sort(key=lambda s: s[\"task_优先级\"],reverse=True)\n",
    "print(title_list_all)"
   ],
   "metadata": {
    "collapsed": false
   }
  },
  {
   "cell_type": "code",
   "execution_count": 7,
   "outputs": [
    {
     "name": "stdout",
     "output_type": "stream",
     "text": [
      "[{'task_优先级': 5, 'task_任务名': 'WF爬虫2.0_新增库存信息'}, {'task_优先级': 3, 'task_任务名': '财务Payment-自动化流程'}, {'task_优先级': 1, 'task_任务名': '仓库的数据输出'}, {'task_优先级': 1, 'task_任务名': '爬取零售价的价位区间'}, {'task_优先级': 1, 'task_任务名': '仓储费用计算'}]\n"
     ]
    }
   ],
   "source": [
    "title_list = [{'task_优先级': 1, 'task_任务名': '仓库的数据输出'}, {'task_优先级': 1, 'task_任务名': '爬取零售价的价位区间'}, {'task_优先级': 1, 'task_任务名': '仓储费用计算'}, {'task_优先级': 5, 'task_任务名': 'WF爬虫2.0_新增库存信息'}, {'task_优先级': 3, 'task_任务名': '财务Payment-自动化流程'}]\n",
    "title_list.sort(key=lambda s: s[\"task_优先级\"],reverse=True)\n",
    "\n",
    "print(title_list)"
   ],
   "metadata": {
    "collapsed": false
   }
  },
  {
   "cell_type": "code",
   "execution_count": 19,
   "outputs": [],
   "source": [
    "import requests\n",
    "task_name = '自动到仓邮件截图'\n",
    "properties = '是否完成'\n",
    "'https://www.notion.so/4c3f34849ad74390b70de60354c18f37'\n",
    "base_url = \"https://api.notion.com/v1/pages/\"\n",
    "Page_ID = '4c3f34849ad74390b70de60354c18f37'\n",
    "headers = {\n",
    "    \"Authorization\": \"secret_O0Hh83N3sInLqbpEn0TocYNNQpjkU8mrrLBre3ab3yM\",\n",
    "    \"accept\": \"application/json\",\n",
    "    \"content-type\": \"application/json\",\n",
    "    \"Notion-Version\": \"2022-06-28\",\n",
    "}\n",
    "payload = {\n",
    "    \"properties\": {\n",
    "        properties: {\n",
    "            \"status\": {'id': '0ed43941-1073-4ba7-882a-61bc13fe791b', 'name': '进行中', 'color': 'blue'}\n",
    "        }\n",
    "    }\n",
    "}\n",
    "response = requests.patch(url=base_url + Page_ID, headers=headers,json=payload)"
   ],
   "metadata": {
    "collapsed": false
   }
  },
  {
   "cell_type": "code",
   "execution_count": null,
   "outputs": [],
   "source": [
    "import logging\n",
    "logger_name = 'logger'\n",
    "handler_name = 'handler'\n",
    "logger = logging.getLogger(logger_name)\n",
    "logger.setLevel(logging.ERROR)\n",
    "logger.addHandler(handler_name) # 为Logger实例增加一个处理器\n",
    "\n",
    "ch.setFormatter(formatter_name) # 设置一个格式化器formatter\n",
    "ch.addFilter(filter_name) # 增加一个过滤器，可以增加多个\n",
    "ch.removeFilter(filter_name) # 删除一个过滤器"
   ],
   "metadata": {
    "collapsed": false
   }
  },
  {
   "cell_type": "code",
   "execution_count": 13,
   "outputs": [
    {
     "name": "stdout",
     "output_type": "stream",
     "text": [
      "E:\\OneDrive\\广新\\CG账单\\Invoice_113007_20220503104237.csv\n",
      "E:\\OneDrive\\广新\\CG账单\\Invoice_121249_20220503104828.csv\n",
      "E:\\OneDrive\\广新\\CG账单\\Invoice_121431_20220503104823.csv\n",
      "E:\\OneDrive\\广新\\CG账单\\Invoice_121614_20220503104818.csv\n",
      "E:\\OneDrive\\广新\\CG账单\\Invoice_121813_20220503104813.csv\n",
      "E:\\OneDrive\\广新\\CG账单\\Invoice_122005_20220503104807.csv\n",
      "E:\\OneDrive\\广新\\CG账单\\Invoice_122213_20220503104800.csv\n",
      "E:\\OneDrive\\广新\\CG账单\\Invoice_122428_20220503104754.csv\n",
      "E:\\OneDrive\\广新\\CG账单\\Invoice_122638_20220503104748.csv\n",
      "E:\\OneDrive\\广新\\CG账单\\Invoice_122895_20220503104737.csv\n",
      "E:\\OneDrive\\广新\\CG账单\\Invoice_123158_20220503104722.csv\n",
      "E:\\OneDrive\\广新\\CG账单\\Invoice_123442_20220503104712.csv\n",
      "E:\\OneDrive\\广新\\CG账单\\Invoice_123752_20220503104701.csv\n",
      "E:\\OneDrive\\广新\\CG账单\\Invoice_124010_20220503104655.csv\n",
      "E:\\OneDrive\\广新\\CG账单\\Invoice_124100_20220503104650.csv\n",
      "E:\\OneDrive\\广新\\CG账单\\Invoice_124430_20220503104642.csv\n",
      "E:\\OneDrive\\广新\\CG账单\\Invoice_124783_20220503104258.csv\n",
      "E:\\OneDrive\\广新\\CG账单\\Invoice_124783_20220503104635.csv\n",
      "E:\\OneDrive\\广新\\CG账单\\Invoice_125125_20220503104250.csv\n",
      "E:\\OneDrive\\广新\\CG账单\\Invoice_125125_20220503104622.csv\n",
      "E:\\OneDrive\\广新\\CG账单\\Invoice_130199_20220503104210.csv\n",
      "E:\\OneDrive\\广新\\CG账单\\Invoice_138659_20220503104204.csv\n",
      "E:\\OneDrive\\广新\\CG账单\\Invoice_140912_20220503104157.csv\n",
      "E:\\OneDrive\\广新\\CG账单\\Invoice_145870_20220503104144.csv\n",
      "E:\\OneDrive\\广新\\CG账单\\Invoice_148677_20220120092128.csv\n",
      "E:\\OneDrive\\广新\\CG账单\\Invoice_151806_20220209171142.csv\n",
      "E:\\OneDrive\\广新\\CG账单\\Invoice_154677_20220316151800.csv\n",
      "E:\\OneDrive\\广新\\CG账单\\Invoice_155942_20220315190419.csv\n",
      "E:\\OneDrive\\广新\\CG账单\\Invoice_158595_20220412184326.csv\n",
      "E:\\OneDrive\\广新\\CG账单\\Invoice_160151_20220503104108.csv\n",
      "['E:\\\\OneDrive\\\\广新\\\\CG账单\\\\Invoice_113007_20220503104237.csv', 'E:\\\\OneDrive\\\\广新\\\\CG账单\\\\Invoice_121249_20220503104828.csv', 'E:\\\\OneDrive\\\\广新\\\\CG账单\\\\Invoice_121431_20220503104823.csv', 'E:\\\\OneDrive\\\\广新\\\\CG账单\\\\Invoice_121614_20220503104818.csv', 'E:\\\\OneDrive\\\\广新\\\\CG账单\\\\Invoice_121813_20220503104813.csv', 'E:\\\\OneDrive\\\\广新\\\\CG账单\\\\Invoice_122005_20220503104807.csv', 'E:\\\\OneDrive\\\\广新\\\\CG账单\\\\Invoice_122213_20220503104800.csv', 'E:\\\\OneDrive\\\\广新\\\\CG账单\\\\Invoice_122428_20220503104754.csv', 'E:\\\\OneDrive\\\\广新\\\\CG账单\\\\Invoice_122638_20220503104748.csv', 'E:\\\\OneDrive\\\\广新\\\\CG账单\\\\Invoice_122895_20220503104737.csv', 'E:\\\\OneDrive\\\\广新\\\\CG账单\\\\Invoice_123158_20220503104722.csv', 'E:\\\\OneDrive\\\\广新\\\\CG账单\\\\Invoice_123442_20220503104712.csv', 'E:\\\\OneDrive\\\\广新\\\\CG账单\\\\Invoice_123752_20220503104701.csv', 'E:\\\\OneDrive\\\\广新\\\\CG账单\\\\Invoice_124010_20220503104655.csv', 'E:\\\\OneDrive\\\\广新\\\\CG账单\\\\Invoice_124100_20220503104650.csv', 'E:\\\\OneDrive\\\\广新\\\\CG账单\\\\Invoice_124430_20220503104642.csv', 'E:\\\\OneDrive\\\\广新\\\\CG账单\\\\Invoice_124783_20220503104258.csv', 'E:\\\\OneDrive\\\\广新\\\\CG账单\\\\Invoice_124783_20220503104635.csv', 'E:\\\\OneDrive\\\\广新\\\\CG账单\\\\Invoice_125125_20220503104250.csv', 'E:\\\\OneDrive\\\\广新\\\\CG账单\\\\Invoice_125125_20220503104622.csv', 'E:\\\\OneDrive\\\\广新\\\\CG账单\\\\Invoice_130199_20220503104210.csv', 'E:\\\\OneDrive\\\\广新\\\\CG账单\\\\Invoice_138659_20220503104204.csv', 'E:\\\\OneDrive\\\\广新\\\\CG账单\\\\Invoice_140912_20220503104157.csv', 'E:\\\\OneDrive\\\\广新\\\\CG账单\\\\Invoice_145870_20220503104144.csv', 'E:\\\\OneDrive\\\\广新\\\\CG账单\\\\Invoice_148677_20220120092128.csv', 'E:\\\\OneDrive\\\\广新\\\\CG账单\\\\Invoice_151806_20220209171142.csv', 'E:\\\\OneDrive\\\\广新\\\\CG账单\\\\Invoice_154677_20220316151800.csv', 'E:\\\\OneDrive\\\\广新\\\\CG账单\\\\Invoice_155942_20220315190419.csv', 'E:\\\\OneDrive\\\\广新\\\\CG账单\\\\Invoice_158595_20220412184326.csv', 'E:\\\\OneDrive\\\\广新\\\\CG账单\\\\Invoice_160151_20220503104108.csv']\n"
     ]
    }
   ],
   "source": [
    "import pandas as pd\n",
    "import os\n",
    "\n",
    "g = os.walk(r\"E:\\OneDrive\\广新\\CG账单\")\n",
    "i = 1\n",
    "full_path_list = []\n",
    "for path,dir_list,file_list in g:\n",
    "    for file_name in file_list:\n",
    "        full_path = os.path.join(path, file_name)\n",
    "        if 'csv' in str(file_name):\n",
    "            print(full_path)\n",
    "            full_path_list.append(full_path)\n",
    "        i+=1\n",
    "print(full_path_list)"
   ],
   "metadata": {
    "collapsed": false
   }
  },
  {
   "cell_type": "code",
   "execution_count": 9,
   "outputs": [
    {
     "ename": "IndexError",
     "evalue": "Replacement index 0 out of range for positional args tuple",
     "output_type": "error",
     "traceback": [
      "\u001B[1;31m---------------------------------------------------------------------------\u001B[0m",
      "\u001B[1;31mIndexError\u001B[0m                                Traceback (most recent call last)",
      "\u001B[1;32m<ipython-input-9-8a6427a70296>\u001B[0m in \u001B[0;36m<module>\u001B[1;34m\u001B[0m\n\u001B[0;32m     97\u001B[0m     \u001B[0mres\u001B[0m \u001B[1;33m=\u001B[0m \u001B[0mrobot\u001B[0m\u001B[1;33m(\u001B[0m\u001B[0mkey\u001B[0m\u001B[1;33m,\u001B[0m \u001B[0mwebhook_data\u001B[0m\u001B[1;33m)\u001B[0m\u001B[1;33m\u001B[0m\u001B[1;33m\u001B[0m\u001B[0m\n\u001B[0;32m     98\u001B[0m     \u001B[1;32mreturn\u001B[0m \u001B[1;32mNone\u001B[0m\u001B[1;33m\u001B[0m\u001B[1;33m\u001B[0m\u001B[0m\n\u001B[1;32m---> 99\u001B[1;33m \u001B[0mmsg1\u001B[0m \u001B[1;33m=\u001B[0m \u001B[1;34m\"日期：{}\\n晓望集群单量：579\\n晓望集群营业额：54,386.97\\n晓望集群利润：-554.57\\n晓望集群库存量： 171,323\\n晓望集群库存周转天数：295\"\u001B[0m\u001B[1;33m.\u001B[0m\u001B[0mformat\u001B[0m\u001B[1;33m(\u001B[0m\u001B[0mdate\u001B[0m\u001B[1;33m=\u001B[0m\u001B[1;34m'7月13日'\u001B[0m\u001B[1;33m)\u001B[0m\u001B[1;33m\u001B[0m\u001B[1;33m\u001B[0m\u001B[0m\n\u001B[0m\u001B[0;32m    100\u001B[0m \u001B[0mmsg2\u001B[0m \u001B[1;33m=\u001B[0m \u001B[1;34m'请发送日报截图和简报数据到微信群'\u001B[0m\u001B[1;33m\u001B[0m\u001B[1;33m\u001B[0m\u001B[0m\n\u001B[0;32m    101\u001B[0m \u001B[0mmobile_list1\u001B[0m \u001B[1;33m=\u001B[0m \u001B[1;33m[\u001B[0m\u001B[1;33m]\u001B[0m\u001B[1;33m\u001B[0m\u001B[1;33m\u001B[0m\u001B[0m\n",
      "\u001B[1;31mIndexError\u001B[0m: Replacement index 0 out of range for positional args tuple"
     ]
    }
   ],
   "source": [
    "# coding:utf-8\n",
    "'''\n",
    "@File    : robot.py\n",
    "@Author  : @VTester\n",
    "@Desc    : 企业微信机器人\n",
    "'''\n",
    "\n",
    "import requests\n",
    "import json\n",
    "import base64\n",
    "import hashlib\n",
    "\n",
    "def robot(key, data):\n",
    "    \"\"\"_summary_\n",
    "\n",
    "    Args:\n",
    "        key (_type_): _description_\n",
    "        data (_type_): _description_\n",
    "    \"\"\"\n",
    "    webhook = f\"https://qyapi.weixin.qq.com/cgi-bin/webhook/send?key={key}\"\n",
    "    # 请求头\n",
    "    headers = {'content-type': 'application/json'}\n",
    "    r = requests.post(webhook, headers=headers, json=data)\n",
    "    r.encoding = 'utf-8'\n",
    "    print(f'执行内容:{data}, 参数:{r.text}')\n",
    "    print(f'webhook 发送结果:{r.text}')\n",
    "    return r.text\n",
    "\n",
    "def bot_push(key, data):\n",
    "    \"\"\"发送请求结果\n",
    "\n",
    "    Args:\n",
    "        key (_type_): _description_\n",
    "        data (_type_): _description_\n",
    "\n",
    "    Returns:\n",
    "        _type_: _description_\n",
    "    \"\"\"\n",
    "    try:\n",
    "        res = robot(key, data)\n",
    "        print(res)  # 打印请求结果\n",
    "        print(f'webhook 发出完毕: {res}')\n",
    "        return res\n",
    "    except Exception as e:\n",
    "        print(e)\n",
    "\n",
    "def bot_push_text(key, msg, mobile_list):\n",
    "    \"\"\"发送文本\n",
    "\n",
    "    Args:\n",
    "        key (_type_): _description_\n",
    "        msg (_type_): _description_\n",
    "    \"\"\"\n",
    "    webhook_data = {\n",
    "        \"msgtype\": \"text\",\n",
    "        \"text\":{\n",
    "            \"content\": msg,\n",
    "            \"mentioned_mobile_list\":mobile_list\n",
    "        }\n",
    "    }\n",
    "\n",
    "    # 机器人发送\n",
    "    bot_push(key, webhook_data)\n",
    "    return None\n",
    "\n",
    "def bot_push_image(key):\n",
    "    \"\"\"发送图片\n",
    "\n",
    "    Args:\n",
    "        key (_type_): _description_\n",
    "        msg (_type_): _description_\n",
    "    \"\"\"\n",
    "\n",
    "    # 图片base64码\n",
    "    with open(r\"E:\\\\OneDrive\\图片\\WeiXin\\mmexport1643682690754.jpg\",\"rb\") as f:\n",
    "        base64_data = base64.b64encode(f.read())\n",
    "    # base64.b64decode(base64data)\n",
    "    # print(base64_data)\n",
    "\n",
    "    # 图片的md5值\n",
    "    file = open(r\"E:\\\\OneDrive\\图片\\WeiXin\\mmexport1643682690754.jpg\", \"rb\")\n",
    "    md = hashlib.md5()\n",
    "    md.update(file.read())\n",
    "    res1 = md.hexdigest()\n",
    "    # print(res1)\n",
    "\n",
    "    webhook_data = {\n",
    "    \"msgtype\": \"image\",\n",
    "    \"image\": {\n",
    "        \"base64\": base64_data,\n",
    "        \"md5\": res1\n",
    "    }\n",
    "}\n",
    "\n",
    "    # 机器人发送\n",
    "    # bot_push(key, webhook_data)\n",
    "    res = robot(key, webhook_data)\n",
    "    return None\n",
    "\n",
    "daily_list = []\n",
    "msg1 = \"日期：{0[0]}\\n晓望集群单量：{0[1]}\\n晓望集群营业额：{0[2]}\\n晓望集群利润：{0[3]}\\n晓望集群库存量：{0[4]}\\n晓望集群库存周转天数：{0[5]}\".format(daily_list)\n",
    "msg2 = '请发送日报截图和简报数据到微信群'\n",
    "mobile_list1 = []\n",
    "mobile_list2 = ['18062351119']\n",
    "bot_push_text(\"23214d5d-a5af-4be3-b8f2-d8ca154e0b57\", msg1, mobile_list1)\n",
    "bot_push_text(\"23214d5d-a5af-4be3-b8f2-d8ca154e0b57\", msg2, mobile_list2)\n",
    "# bot_push_image(\"23214d5d-a5af-4be3-b8f2-d8ca154e0b57\")"
   ],
   "metadata": {
    "collapsed": false
   }
  },
  {
   "cell_type": "code",
   "execution_count": 14,
   "outputs": [
    {
     "ename": "ImportError",
     "evalue": "cannot import name 'ParamSpec' from 'typing_extensions' (C:\\Users\\Admin\\anaconda3\\lib\\site-packages\\typing_extensions.py)",
     "output_type": "error",
     "traceback": [
      "\u001B[1;31m---------------------------------------------------------------------------\u001B[0m",
      "\u001B[1;31mImportError\u001B[0m                               Traceback (most recent call last)",
      "\u001B[1;32m<ipython-input-14-e05476cf32b0>\u001B[0m in \u001B[0;36m<module>\u001B[1;34m\u001B[0m\n\u001B[0;32m      3\u001B[0m \u001B[1;32mimport\u001B[0m \u001B[0mpytesseract\u001B[0m\u001B[1;33m\u001B[0m\u001B[1;33m\u001B[0m\u001B[0m\n\u001B[0;32m      4\u001B[0m \u001B[1;32mimport\u001B[0m \u001B[0mcv2\u001B[0m \u001B[1;32mas\u001B[0m \u001B[0mcv\u001B[0m\u001B[1;33m\u001B[0m\u001B[1;33m\u001B[0m\u001B[0m\n\u001B[1;32m----> 5\u001B[1;33m \u001B[1;32mimport\u001B[0m \u001B[0mfitz\u001B[0m\u001B[1;33m\u001B[0m\u001B[1;33m\u001B[0m\u001B[0m\n\u001B[0m",
      "\u001B[1;32m~\\AppData\\Roaming\\Python\\Python38\\site-packages\\fitz\\__init__.py\u001B[0m in \u001B[0;36m<module>\u001B[1;34m\u001B[0m\n\u001B[1;32m----> 1\u001B[1;33m \u001B[1;32mfrom\u001B[0m \u001B[0mfrontend\u001B[0m \u001B[1;32mimport\u001B[0m \u001B[1;33m*\u001B[0m\u001B[1;33m\u001B[0m\u001B[1;33m\u001B[0m\u001B[0m\n\u001B[0m\u001B[0;32m      2\u001B[0m \u001B[1;32mimport\u001B[0m \u001B[0mtools\u001B[0m\u001B[1;33m\u001B[0m\u001B[1;33m\u001B[0m\u001B[0m\n\u001B[0;32m      3\u001B[0m \u001B[1;32mimport\u001B[0m \u001B[0mos\u001B[0m\u001B[1;33m.\u001B[0m\u001B[0mpath\u001B[0m \u001B[1;32mas\u001B[0m \u001B[0mop\u001B[0m\u001B[1;33m\u001B[0m\u001B[1;33m\u001B[0m\u001B[0m\n\u001B[0;32m      4\u001B[0m \u001B[1;33m\u001B[0m\u001B[0m\n\u001B[0;32m      5\u001B[0m \u001B[0m__version__\u001B[0m \u001B[1;33m=\u001B[0m \u001B[1;34m'0.0.1dev2'\u001B[0m\u001B[1;33m\u001B[0m\u001B[1;33m\u001B[0m\u001B[0m\n",
      "\u001B[1;32m~\\AppData\\Roaming\\Python\\Python38\\site-packages\\frontend\\__init__.py\u001B[0m in \u001B[0;36m<module>\u001B[1;34m\u001B[0m\n\u001B[1;32m----> 1\u001B[1;33m \u001B[1;32mfrom\u001B[0m \u001B[1;33m.\u001B[0m\u001B[0mevents\u001B[0m \u001B[1;32mimport\u001B[0m \u001B[1;33m*\u001B[0m\u001B[1;33m\u001B[0m\u001B[1;33m\u001B[0m\u001B[0m\n\u001B[0m\u001B[0;32m      2\u001B[0m \u001B[1;32mfrom\u001B[0m \u001B[1;33m.\u001B[0m \u001B[1;32mimport\u001B[0m \u001B[0mconfig\u001B[0m\u001B[1;33m\u001B[0m\u001B[1;33m\u001B[0m\u001B[0m\n\u001B[0;32m      3\u001B[0m \u001B[1;32mfrom\u001B[0m \u001B[1;33m.\u001B[0m\u001B[0mcomponents\u001B[0m \u001B[1;32mimport\u001B[0m \u001B[1;33m*\u001B[0m\u001B[1;33m\u001B[0m\u001B[1;33m\u001B[0m\u001B[0m\n\u001B[0;32m      4\u001B[0m \u001B[1;32mfrom\u001B[0m \u001B[1;33m.\u001B[0m\u001B[0mdispatcher\u001B[0m \u001B[1;32mimport\u001B[0m \u001B[1;33m*\u001B[0m\u001B[1;33m\u001B[0m\u001B[1;33m\u001B[0m\u001B[0m\n\u001B[0;32m      5\u001B[0m \u001B[1;32mfrom\u001B[0m \u001B[1;33m.\u001B[0m\u001B[0mdom\u001B[0m \u001B[1;32mimport\u001B[0m \u001B[1;33m*\u001B[0m\u001B[1;33m\u001B[0m\u001B[1;33m\u001B[0m\u001B[0m\n",
      "\u001B[1;32m~\\AppData\\Roaming\\Python\\Python38\\site-packages\\frontend\\events\\__init__.py\u001B[0m in \u001B[0;36m<module>\u001B[1;34m\u001B[0m\n\u001B[1;32m----> 1\u001B[1;33m \u001B[1;32mfrom\u001B[0m \u001B[1;33m.\u001B[0m\u001B[0mclipboard\u001B[0m \u001B[1;32mimport\u001B[0m \u001B[1;33m*\u001B[0m\u001B[1;33m\u001B[0m\u001B[1;33m\u001B[0m\u001B[0m\n\u001B[0m\u001B[0;32m      2\u001B[0m \u001B[1;32mfrom\u001B[0m \u001B[1;33m.\u001B[0m\u001B[0mevent_mixins\u001B[0m \u001B[1;32mimport\u001B[0m \u001B[1;33m*\u001B[0m\u001B[1;33m\u001B[0m\u001B[1;33m\u001B[0m\u001B[0m\n\u001B[0;32m      3\u001B[0m \u001B[1;32mfrom\u001B[0m \u001B[1;33m.\u001B[0m\u001B[0mhash_change\u001B[0m \u001B[1;32mimport\u001B[0m \u001B[1;33m*\u001B[0m\u001B[1;33m\u001B[0m\u001B[1;33m\u001B[0m\u001B[0m\n\u001B[0;32m      4\u001B[0m \u001B[1;32mfrom\u001B[0m \u001B[1;33m.\u001B[0m\u001B[0mui\u001B[0m \u001B[1;32mimport\u001B[0m \u001B[1;33m*\u001B[0m\u001B[1;33m\u001B[0m\u001B[1;33m\u001B[0m\u001B[0m\n",
      "\u001B[1;32m~\\AppData\\Roaming\\Python\\Python38\\site-packages\\frontend\\events\\clipboard.py\u001B[0m in \u001B[0;36m<module>\u001B[1;34m\u001B[0m\n\u001B[0;32m      1\u001B[0m \u001B[1;32mfrom\u001B[0m \u001B[1;33m.\u001B[0m\u001B[0mevent_mixins\u001B[0m \u001B[1;32mimport\u001B[0m \u001B[0mClipboardDataMixin\u001B[0m\u001B[1;33m\u001B[0m\u001B[1;33m\u001B[0m\u001B[0m\n\u001B[1;32m----> 2\u001B[1;33m \u001B[1;32mfrom\u001B[0m \u001B[1;33m.\u001B[0m\u001B[1;33m.\u001B[0m\u001B[0mdom\u001B[0m \u001B[1;32mimport\u001B[0m \u001B[0mEvent\u001B[0m\u001B[1;33m\u001B[0m\u001B[1;33m\u001B[0m\u001B[0m\n\u001B[0m\u001B[0;32m      3\u001B[0m \u001B[1;33m\u001B[0m\u001B[0m\n\u001B[0;32m      4\u001B[0m \u001B[0m__all__\u001B[0m \u001B[1;33m=\u001B[0m \u001B[1;33m[\u001B[0m\u001B[1;34m'ClipboardEvent'\u001B[0m\u001B[1;33m]\u001B[0m\u001B[1;33m\u001B[0m\u001B[1;33m\u001B[0m\u001B[0m\n\u001B[0;32m      5\u001B[0m \u001B[1;33m\u001B[0m\u001B[0m\n",
      "\u001B[1;32m~\\AppData\\Roaming\\Python\\Python38\\site-packages\\frontend\\dom.py\u001B[0m in \u001B[0;36m<module>\u001B[1;34m\u001B[0m\n\u001B[0;32m    437\u001B[0m \u001B[1;33m\u001B[0m\u001B[0m\n\u001B[0;32m    438\u001B[0m \u001B[1;33m\u001B[0m\u001B[0m\n\u001B[1;32m--> 439\u001B[1;33m \u001B[1;32mfrom\u001B[0m \u001B[1;33m.\u001B[0m \u001B[1;32mimport\u001B[0m \u001B[0mdispatcher\u001B[0m\u001B[1;33m\u001B[0m\u001B[1;33m\u001B[0m\u001B[0m\n\u001B[0m",
      "\u001B[1;32m~\\AppData\\Roaming\\Python\\Python38\\site-packages\\frontend\\dispatcher.py\u001B[0m in \u001B[0;36m<module>\u001B[1;34m\u001B[0m\n\u001B[0;32m     10\u001B[0m \u001B[1;32mfrom\u001B[0m \u001B[0mtyping\u001B[0m \u001B[1;32mimport\u001B[0m \u001B[0mAny\u001B[0m\u001B[1;33m,\u001B[0m \u001B[0mCallable\u001B[0m\u001B[1;33m,\u001B[0m \u001B[0mcast\u001B[0m\u001B[1;33m,\u001B[0m \u001B[0mDefaultDict\u001B[0m\u001B[1;33m,\u001B[0m \u001B[0mDict\u001B[0m\u001B[1;33m,\u001B[0m \u001B[0mList\u001B[0m\u001B[1;33m,\u001B[0m \u001B[0mOptional\u001B[0m\u001B[1;33m,\u001B[0m \u001B[0mSet\u001B[0m\u001B[1;33m,\u001B[0m \u001B[0mTypeVar\u001B[0m\u001B[1;33m,\u001B[0m \u001B[0mUnion\u001B[0m\u001B[1;33m\u001B[0m\u001B[1;33m\u001B[0m\u001B[0m\n\u001B[0;32m     11\u001B[0m \u001B[1;33m\u001B[0m\u001B[0m\n\u001B[1;32m---> 12\u001B[1;33m \u001B[1;32mfrom\u001B[0m \u001B[0mstarlette\u001B[0m\u001B[1;33m.\u001B[0m\u001B[0mendpoints\u001B[0m \u001B[1;32mimport\u001B[0m \u001B[0mWebSocketEndpoint\u001B[0m\u001B[1;33m\u001B[0m\u001B[1;33m\u001B[0m\u001B[0m\n\u001B[0m\u001B[0;32m     13\u001B[0m \u001B[1;32mfrom\u001B[0m \u001B[0mstarlette\u001B[0m\u001B[1;33m.\u001B[0m\u001B[0mwebsockets\u001B[0m \u001B[1;32mimport\u001B[0m \u001B[0mWebSocket\u001B[0m\u001B[1;33m\u001B[0m\u001B[1;33m\u001B[0m\u001B[0m\n\u001B[0;32m     14\u001B[0m \u001B[1;33m\u001B[0m\u001B[0m\n",
      "\u001B[1;32m~\\AppData\\Roaming\\Python\\Python38\\site-packages\\starlette\\endpoints.py\u001B[0m in \u001B[0;36m<module>\u001B[1;34m\u001B[0m\n\u001B[0;32m      4\u001B[0m \u001B[1;33m\u001B[0m\u001B[0m\n\u001B[0;32m      5\u001B[0m \u001B[1;32mfrom\u001B[0m \u001B[0mstarlette\u001B[0m \u001B[1;32mimport\u001B[0m \u001B[0mstatus\u001B[0m\u001B[1;33m\u001B[0m\u001B[1;33m\u001B[0m\u001B[0m\n\u001B[1;32m----> 6\u001B[1;33m \u001B[1;32mfrom\u001B[0m \u001B[0mstarlette\u001B[0m\u001B[1;33m.\u001B[0m\u001B[0mconcurrency\u001B[0m \u001B[1;32mimport\u001B[0m \u001B[0mrun_in_threadpool\u001B[0m\u001B[1;33m\u001B[0m\u001B[1;33m\u001B[0m\u001B[0m\n\u001B[0m\u001B[0;32m      7\u001B[0m \u001B[1;32mfrom\u001B[0m \u001B[0mstarlette\u001B[0m\u001B[1;33m.\u001B[0m\u001B[0mexceptions\u001B[0m \u001B[1;32mimport\u001B[0m \u001B[0mHTTPException\u001B[0m\u001B[1;33m\u001B[0m\u001B[1;33m\u001B[0m\u001B[0m\n\u001B[0;32m      8\u001B[0m \u001B[1;32mfrom\u001B[0m \u001B[0mstarlette\u001B[0m\u001B[1;33m.\u001B[0m\u001B[0mrequests\u001B[0m \u001B[1;32mimport\u001B[0m \u001B[0mRequest\u001B[0m\u001B[1;33m\u001B[0m\u001B[1;33m\u001B[0m\u001B[0m\n",
      "\u001B[1;32m~\\AppData\\Roaming\\Python\\Python38\\site-packages\\starlette\\concurrency.py\u001B[0m in \u001B[0;36m<module>\u001B[1;34m\u001B[0m\n\u001B[0;32m      8\u001B[0m     \u001B[1;32mfrom\u001B[0m \u001B[0mtyping\u001B[0m \u001B[1;32mimport\u001B[0m \u001B[0mParamSpec\u001B[0m\u001B[1;33m\u001B[0m\u001B[1;33m\u001B[0m\u001B[0m\n\u001B[0;32m      9\u001B[0m \u001B[1;32melse\u001B[0m\u001B[1;33m:\u001B[0m  \u001B[1;31m# pragma: no cover\u001B[0m\u001B[1;33m\u001B[0m\u001B[1;33m\u001B[0m\u001B[0m\n\u001B[1;32m---> 10\u001B[1;33m     \u001B[1;32mfrom\u001B[0m \u001B[0mtyping_extensions\u001B[0m \u001B[1;32mimport\u001B[0m \u001B[0mParamSpec\u001B[0m\u001B[1;33m\u001B[0m\u001B[1;33m\u001B[0m\u001B[0m\n\u001B[0m\u001B[0;32m     11\u001B[0m \u001B[1;33m\u001B[0m\u001B[0m\n\u001B[0;32m     12\u001B[0m \u001B[1;32mtry\u001B[0m\u001B[1;33m:\u001B[0m\u001B[1;33m\u001B[0m\u001B[1;33m\u001B[0m\u001B[0m\n",
      "\u001B[1;31mImportError\u001B[0m: cannot import name 'ParamSpec' from 'typing_extensions' (C:\\Users\\Admin\\anaconda3\\lib\\site-packages\\typing_extensions.py)"
     ]
    }
   ],
   "source": [
    "from PIL import Image\n",
    "import os\n",
    "import pytesseract\n",
    "import cv2 as cv\n",
    "import fitz"
   ],
   "metadata": {
    "collapsed": false
   }
  },
  {
   "cell_type": "code",
   "execution_count": 23,
   "outputs": [
    {
     "name": "stdout",
     "output_type": "stream",
     "text": [
      "50 East Wilmot St. e\n",
      "Rich d Hill, Ontario, Canada, L4B 3Z3 k\n",
      "hand Fil, Ontario, Canad C.J. Mar eting Ltd.\n",
      "\n",
      "Fax: (905) 889-8982 os ‘ :\n",
      "(908) E-Mail: info@cjmarketing.com\n",
      "\n",
      "CREDIT APPLICATION AND AGREEMENT ( PAGE 1 OF 2 )\n",
      "\n",
      "| (WE) ACCEPTS AS NOTICE IN WRITING OF AND CONSENTS TO THE OBTAINING FROM ANY CREDIT REPORTING\n",
      "AGENCY OR ANY PERSON SUCH INFORMATION AS C. J. MARKETING LTD. MAY REQUIRE AT ANY TIME IN\n",
      "CONNECTION WITH THE CREDIT HEREBY APPLIED FOR AND CONSENTS TO THE DISCLOSURE OF ANY\n",
      "INFORMATION CONCERNING THE UNDERSIGNED TO ANY CREDIT AGENCY, OR TO ANY PERSON WITH WHOM THE\n",
      "UNDERSIGNED HAS OR MAY HAVE FINANCIAL RELATIONS.\n",
      "\n",
      "THE UNDERSIGNED AGREES TO THE FOLLOWING:\n",
      "1) PAY ACCORDING TO THE TERMS OF SALE IN EFFECT AT TIME OF PURCHASE.\n",
      "2) PAY SERVICE CHARGES OF 1.5% PER MONTH (19.56 % PER ANNUM) ON ANY AMOUNTS OVERDUE.\n",
      "\n",
      "3.) ACCEPT THAT PAYMENTS ARE TO BE ATTRIBUTED FIRSTLY TO THE SERVICE COSTS AND THEN TO THE PAYMENT\n",
      "OF THE PURCHASES IN THEIR CHRONOLOGICAL ORDER.\n",
      "\n",
      "4) ACCEPT THAT IF AT ANY TIME THE UNDERSIGNED'S FINANCIAL RESPONSIBILITY APPEARS UNSATISFACTORY TO\n",
      "C. J. MARKETING LTD. MAY THEN WITHOUT PREJUDICE TO ANY OF ITS OTHER RIGHTS, DEFER ANY SHIPMENT\n",
      "HEREUNDER UNTIL THE UNDERSIGNED FULFILS THESE OBLIGATIONS.\n",
      "\n",
      "5) ACCEPT THAT IF THIS ACCOUNT IS ANNULLED BY C. J. MARKETING LTD. THE OUTSTANDING BALANCE BECOMES\n",
      "ENTIRELY DUE AND ELIGIBLE. ,\n",
      "\n",
      "6 ) THAT THIS AGREEMENT AND ITS CONVENICENCE, PROVISIONS, CONDITIONS AND STIPULATIONS SHALL ENSURE\n",
      "\n",
      "TO THE BENEFIT OF AND THE BINDING UPON THE RESPECTIVE HEIRS, EXECUTORS, ADMINISTRATORS,\n",
      "SUCCESSORS AND ASSIGNS OF THE PARTIES HERETO.\n",
      "\n",
      "1, WE AGREE TO THE CONDITIONS ON THE REVERSE SIDE\n",
      "\n",
      "SIGN DATE\n",
      "\n",
      "eee\n",
      "SIGN (IF PARTNERSHIP) DATE\n",
      "\n"
     ]
    }
   ],
   "source": [
    "def pdf_image(pdfPath,imgPath,zoom_x,zoom_y,rotation_angle):\n",
    "    # 打开PDF文件\n",
    "    pdf = fitz.open(pdfPath)\n",
    "    # 逐页读取PDF\n",
    "    for pg in range(0, pdf.pageCount):\n",
    "        page = pdf[pg]\n",
    "        # 设置缩放和旋转系数\n",
    "        trans = fitz.Matrix(zoom_x, zoom_y).preRotate(rotation_angle)\n",
    "        pm = page.getPixmap(matrix=trans, alpha=\"False\")\n",
    "        # 开始写图像\n",
    "        pm.writePNG(imgPath+str(pg)+\".png\")\n",
    "        #pm.writePNG(imgPath)\n",
    "    pdf.close()\n",
    "pdf_path ='C:/Users/Admin/Documents/Tencent Files/544409644/FileRecv/CREDIT APPLICATION FORM SAMPLE.pdf'\n",
    "img_path ='C:/Users/Admin/Documents/Tencent Files/544409644/FileRecv/CREDIT APPLICATION FORM SAMPLE'\n",
    "# pdf_image(pdf_path,img_path,5,5,0)\n",
    "img_path = img_path+\"0.png\"\n",
    "# 依赖opencv\n",
    "# img=cv.imread(img_path)\n",
    "# text=pytesseract.image_to_string(Image.fromarray(img),lang='eng')\n",
    "# 不依赖opencv写法\n",
    "text=pytesseract.image_to_string(Image.open(img_path))\n",
    "print(text)"
   ],
   "metadata": {
    "collapsed": false
   }
  },
  {
   "cell_type": "code",
   "execution_count": 24,
   "outputs": [],
   "source": [
    "with open(r'C:\\Users\\Admin\\Documents\\Tencent Files\\544409644\\FileRecv\\0.txt','w') as f:\n",
    "    f.write(text)\n",
    "    f.close()"
   ],
   "metadata": {
    "collapsed": false
   }
  },
  {
   "cell_type": "code",
   "execution_count": 16,
   "outputs": [],
   "source": [
    "import pandas as pd\n",
    "import xlwings as xw\n",
    "app = xw.apps.add()\n",
    "book = app.books.open(r'E:\\OneDrive\\广新\\供应链-Crystal\\晓望梅观 2021.1月港前费RMB账单.xlsx',read_only=\"True\")\n",
    "sheet = book.sheets[0]"
   ],
   "metadata": {
    "collapsed": false
   }
  },
  {
   "cell_type": "code",
   "execution_count": 17,
   "outputs": [],
   "source": [
    "import os\n",
    "def bianli(rootDir):\n",
    "    os_list = []\n",
    "    for root,dirs,files in os.walk(rootDir):\n",
    "        for file in files:\n",
    "            os_path = os.path.join(root,file)\n",
    "            os_list.append(os_path)\n",
    "        for dir in dirs:\n",
    "            bianli(dir)\n",
    "    return os_list"
   ],
   "metadata": {
    "collapsed": false
   }
  },
  {
   "cell_type": "code",
   "execution_count": 1,
   "outputs": [
    {
     "name": "stdout",
     "output_type": "stream",
     "text": [
      "False\n"
     ]
    }
   ],
   "source": [
    "dict1 = {}\n",
    "if dict1:\n",
    "    print('true')\n",
    "else:\n",
    "    print('False')"
   ],
   "metadata": {
    "collapsed": false
   }
  },
  {
   "cell_type": "code",
   "execution_count": null,
   "outputs": [],
   "source": [],
   "metadata": {
    "collapsed": false,
    "pycharm": {
     "is_executing": true
    }
   }
  },
  {
   "cell_type": "code",
   "execution_count": null,
   "outputs": [],
   "source": [],
   "metadata": {
    "collapsed": false
   }
  }
 ],
 "metadata": {
  "kernelspec": {
   "display_name": "Python 3",
   "language": "python",
   "name": "python3"
  },
  "language_info": {
   "codemirror_mode": {
    "name": "ipython",
    "version": 2
   },
   "file_extension": ".py",
   "mimetype": "text/x-python",
   "name": "python",
   "nbconvert_exporter": "python",
   "pygments_lexer": "ipython2",
   "version": "2.7.6"
  }
 },
 "nbformat": 4,
 "nbformat_minor": 0
}
