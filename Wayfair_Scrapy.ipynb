{
 "cells": [
  {
   "cell_type": "code",
   "execution_count": 2,
   "metadata": {
    "collapsed": true,
    "pycharm": {
     "name": "#%%\n"
    }
   },
   "outputs": [],
   "source": [
    "import json"
   ]
  },
  {
   "cell_type": "code",
   "execution_count": 10,
   "outputs": [
    {
     "name": "stdout",
     "output_type": "stream",
     "text": [
      "<class 'dict'>\n",
      "颜色为： Solid White/Rustic Oak，piid为：1471987837\n",
      "颜色为： Gray，piid为：1467057465\n",
      "颜色为： Rustic Oak，piid为：1467057466\n",
      "颜色为： White Oak，piid为：1467057467\n"
     ]
    }
   ],
   "source": [
    "with open('package.json', 'r') as f:\n",
    "    f=f.read()\n",
    "    f=json.loads(f)\n",
    "    print(type(f))\n",
    "    options = f['application']['props']['options']['standardOptions'][0]['options']\n",
    "    for option in options:\n",
    "        print(\"颜色为： {}，piid为：{}\".format(option['name'],option['option_id']))\n"
   ],
   "metadata": {
    "collapsed": false,
    "pycharm": {
     "name": "#%%\n"
    }
   }
  },
  {
   "cell_type": "code",
   "execution_count": 19,
   "outputs": [
    {
     "name": "stdout",
     "output_type": "stream",
     "text": [
      "<class 'str'>\n",
      "1564659\n",
      "query reviewQuery($sku: String!, $sort_order: Reviews_sort_order_enum, $page_number: Int, $filter_rating: String, $reviews_per_page: Int, $has_photos: Boolean, $search_query: String, $language_code: String!) {\\n product(sku: $sku) {\\n customerReviews: customer_reviews(\\n sort_order: $sort_order\\n page: $page_number\\n filter_rating: $filter_rating\\n reviews_per_page: $reviews_per_page\\n has_photos: $has_photos\\n search_query: $search_query\\n ) {\\n ratingCount: rating_count\\n averageRatingValue: average_rating_value\\n histogramStats: histogram_stats {\\n rating\\n count\\n __typename\\n }\\n filterAspects: aspects {\\n aspect_name\\n aspect_count\\n __typename\\n }\\n bubbleFilters: bubble_filters {\\n id\\n adjective\\n aspect\\n sku\\n occurrences\\n reviewPreviewId\\n __typename\\n }\\n reviewPagesTotal: review_pages_total\\n reviews {\\n reviewId: review_id\\n reviewerName: reviewer_name\\n hasVerifiedBuyerStatus: has_verified_buyer_status\\n isUSReviewer: is_us_reviewer\\n reviewerBadgeText: reviewer_badge_text\\n reviewerBadgeId: reviewer_badge_id\\n ratingStars: rating_stars\\n date\\n headline\\n productComments: product_comments\\n headlineTranslation: headline_translation(\\n language_code: $language_code\\n display_cached_review_translation_by_default: true\\n )\\n productCommentsTranslation: product_comments_translation(\\n language_code: $language_code\\n display_cached_review_translation_by_default: true\\n )\\n languageCode: language_code\\n reviewerLocation: reviewer_location\\n reviewHelpful: review_helpful\\n isReviewHelpfulUpvoted: customer_helpful_vote\\n customerPhotos: customer_photos {\\n idx\\n thumbnail\\n src\\n ire_id\\n __typename\\n }\\n productName: product_name\\n options: options {\\n name\\n value\\n __typename\\n }\\n productUrl: product_url\\n __typename\\n }\\n useManufacturerReviews: use_manufacturer_reviews\\n __typename\\n }\\n manufacturer {\\n __typename\\n id\\n name\\n url\\n averageRating\\n ratingCount\\n }\\n __typename\\n }\\n}\\n\"]].concat(e)),n=e.reduce((function(e,t){return e.concat(t.hash.split(\"#\"))}),[\"a636f23a2ad15b342db756fb5e0ea093\"]),r=Object.keys(n.reduce((function(e,t){e[t]=!0;return e}),{}));t.hash=r.join(\"#\");return t}([]),c=function(e){var t=a.default.apply(this,[[\"query getTranslatedReviewPage($sku: String!, $language_code: String!, $sort_order: Reviews_sort_order_enum, $page_number: Int, $filter_rating: String) {\\n product(sku: $sku) {\\n customer_reviews(\\n sort_order: $sort_order\\n page: $page_number\\n filter_rating: $filter_rating\\n ) {\\n ratingCount: rating_count\\n averageRatingValue: average_rating_value\\n useManufacturerReviews: use_manufacturer_reviews\\n reviews {\\n reviewId: review_id\\n headlineTranslation: headline_translation(language_code: $language_code)\\n productCommentsTranslation: product_comments_translation(\\n language_code: $language_code\\n )\\n __typename\\n }\\n __typename\\n }\\n __typename\\n }\\n}\\n\"]].concat(e)),n=e.reduce((function(e,t){return e.concat(t.hash.split(\"#\"))}),[\"464afbabb5ed765ed9f8cff28d20f7ab\"]),r=Object.keys(n.reduce((function(e,t){e[t]=!0;return e}),{}));t.hash=r.join(\"#\");return t}([]),u=function(e){var t=e.serverProps,n=e.logger,r=e.fetchQuery,a=t.soloReviewSection;return!!a&&a.is_enabled_lazy_load_pdp_reviews?Promise.resolve({}):r({query:s,variables:o(o({},a),{},{sku:t.soloReviewSection.product_sku})}).then((function(e){var t;return{soloReviewSection:o(o({},a),{},{productReviewsData:null===(t=e.data)||void 0===t?void 0:t.product})}})).catch((function(e){n.info({name:\"log_pdp_error\",message:\"Error occurs in fetchReviews with reviewsQuery, error: \".concat(e),data:{sku:t&&t.sku,customer:t.customer.isB2BCustomer}});return{soloReviewSection:o({},a)}}))}},4556:function(e,t,n){\"use strict\";n.d(t,{Z:function(){return f}});var r=n(67150),a=n.n(r),i=n(25453),o=n(22836),s=n(28515),c=i.N_.SPACE_2,u=i.N_.SPACE_4,l=function(){return a().createElement(\"article\",{className:\"ProductReviewsCardSkeleton\"},a().createElement(i.kC,{justifyContent:i.oO.SPACE_BETWEEN,mt:i.N_.SPACE_3,mb:i.N_.SPACE_3},a().createElement(o.default,{variation:\"icon\"},a().createElement(s.default,{className:\"ProductReviewsCardSkeleton-starIcon\"}))),a().createElement(\"div\",{className:\"ProductReviewsCardSkeleton-comments\"},a().createElement(o.default,{variation:\"text\"}),a().createElement(o.default,{variation:\"text\"}),a().createElement(o.default,{variation:\"text\"}),a().createElement(i.gO,{mt:c,mb:u},a().createElement(o.default,{variation:\"text\",width:\"85%\"}))),a().createElement(\"div\",{className:\"ProductReviewsCardSkeleton-helpfulButton\"},a().createElement(o.default,{variation:\"text--large\",width:\"15%\"})),a().createElement(\"div\",{className:\"ProductReviewsCardSkeleton-header\"},a().createElement(\"header\",null,a().createElement(o.default,{variation:\"text--medium\",width:\"100%\"}))))},d=n(10961),p=n(37820),f=function(){return a().createElement(i.gO,{m:i.N_.SPACE_4},a().createElement(i.kC,{width:i.n.WIDTH_4},a().createElement(i.gO,{width:i.n.WIDTH_4},a().createElement(o.default,{width:\"50%\"}))),a().createElement(i.gO,{mt:i.N_.SPACE_8},a().createElement(p.Z,{titleText:a().createElement(o.default,{variation:\"text--large\",width:\"15%\"})})),a().createElement(l,null),a().createElement(d.default,null),a().createElement(l,null),a().createElement(d.default,null),a().createElement(l,null))}},3369:function(e,t,n){\"use strict\";n.d(t,{_v:function(){return r},Fv:function(){return a},I9:function(){return i},Zy:function(){return o},y$:function(){return s},xR:function(){return c},oS:function(){return u},ED:function(){return l},tX:function(){return d},$y:function(){return p},RK:function(){return f},sX:function(){return m},jD:function(){return h},fq:function(){return y},kP:function(){return _},uO:function(){return A},nU:function(){return v},Xy:function(){return g},wh:function(){return C},ps:function(){return b},zs:function(){return E},gf:function(){return T}});var r=\"REVIEW_HISTOGRAM_RATING\",a=\"REVIEW_HISTOGRAM_RATING_UNSELECT\",i=\"REVIEW_PAGINATION\",o=\"reviews_sorting\",s=\"REVIEWS_SEARCH_CLEAR\",c=\"REVIEWS_SEARCH_SUBMIT\",u=\"reviews_open\",l=\n"
     ]
    }
   ],
   "source": [
    "import requests\n",
    "j = requests.get('https://secure.img1-fg.wfcdn.com/webpack/sf-ui-product-details/bundles/wayfair/en-us/js/application.32dc6ddb.bundle.js')\n",
    "j = j.content.decode()\n",
    "print(type(j))\n",
    "print(j.find('a636f23a2ad15b342db756fb5e0ea093'))\n",
    "print(j[1562643:1568643])"
   ],
   "metadata": {
    "collapsed": false,
    "pycharm": {
     "name": "#%%\n"
    }
   }
  },
  {
   "cell_type": "code",
   "execution_count": null,
   "outputs": [],
   "source": [
    "load = \"https://www.wayfair.com/a/inventory/load\""
   ],
   "metadata": {
    "collapsed": false,
    "pycharm": {
     "name": "#%%\n"
    }
   }
  },
  {
   "cell_type": "code",
   "execution_count": null,
   "outputs": [],
   "source": [
    "video link position\n",
    "application.props.mainCarousel.videos[i].sources[0].source"
   ],
   "metadata": {
    "collapsed": false,
    "pycharm": {
     "name": "#%%\n"
    }
   }
  },
  {
   "cell_type": "code",
   "execution_count": null,
   "outputs": [],
   "source": [
    "application.props.delivery.is_out_of_stock  false"
   ],
   "metadata": {
    "collapsed": false,
    "pycharm": {
     "name": "#%%\n"
    }
   }
  },
  {
   "cell_type": "code",
   "execution_count": null,
   "outputs": [],
   "source": [],
   "metadata": {
    "collapsed": false,
    "pycharm": {
     "name": "#%%\n"
    }
   }
  }
 ],
 "metadata": {
  "kernelspec": {
   "display_name": "Python 3",
   "language": "python",
   "name": "python3"
  },
  "language_info": {
   "codemirror_mode": {
    "name": "ipython",
    "version": 2
   },
   "file_extension": ".py",
   "mimetype": "text/x-python",
   "name": "python",
   "nbconvert_exporter": "python",
   "pygments_lexer": "ipython2",
   "version": "2.7.6"
  }
 },
 "nbformat": 4,
 "nbformat_minor": 0
}